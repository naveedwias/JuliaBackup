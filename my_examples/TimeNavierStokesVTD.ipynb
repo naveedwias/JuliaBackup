{
 "cells": [
  {
   "cell_type": "code",
   "execution_count": 1,
   "metadata": {},
   "outputs": [],
   "source": [
    "include(\"../src/variationaltimedisc.jl\")\n",
    "using GradientRobustMultiPhysics\n",
    "using ExtendableGrids\n",
    "using Printf\n",
    "using ExtendableSparse\n",
    "using DelimitedFiles\n",
    "using SimplexGridFactory\n",
    "using Triangulate"
   ]
  },
  {
   "cell_type": "code",
   "execution_count": 38,
   "metadata": {},
   "outputs": [
    {
     "data": {
      "text/plain": [
       "get_flow_data (generic function with 1 method)"
      ]
     },
     "metadata": {},
     "output_type": "display_data"
    }
   ],
   "source": [
    "function get_flow_data(ν)\n",
    "    ## note that dependencies \"XT\" marks the function to be x- and t-dependent\n",
    "    ## that causes the solver to automatically reassemble associated operators in each time step\n",
    "    u = DataFunction((result, x, t) -> (\n",
    "        result[1] = t*x[1]; \n",
    "        result[2] = -t*x[2];\n",
    "        ), [2,2]; name = \"u\", dependencies = \"XT\", bonus_quadorder = 5)\n",
    "    u_t = DataFunction((result, x, t) -> (\n",
    "        result[1] = x[1];\n",
    "        result[2] = -x[2];\n",
    "        ), [2,2]; name = \"u\", dependencies = \"XT\", bonus_quadorder = 5)\n",
    "    p = DataFunction((result, x) -> (\n",
    "        result[1] = 0.0\n",
    "        ), [1,2]; name = \"p\", dependencies = \"X\", bonus_quadorder = 5)\n",
    "  \n",
    "    ############## common code for all examples #####\n",
    "    dt_u = eval_dt(u)\n",
    "    Δu = eval_Δ(u)\n",
    "    ∇p = eval_∇(p)\n",
    "    ∇u = eval_∇(u)\n",
    "    f = DataFunction((result, x, t) -> (\n",
    "          result .= dt_u(x,t) .+ ∇u(x,t)*u(x,t) .- ν*Δu(x,t) .+ view(∇p(x,t),:);\n",
    "          #result[1] += x[1];\n",
    "          #result[2] += x[2];\n",
    "        ), [2,2]; name = \"f\", dependencies = \"XT\", bonus_quadorder = 5)  \n",
    "    return u, p, f, u_t\n",
    "  end"
   ]
  },
  {
   "cell_type": "code",
   "execution_count": 52,
   "metadata": {},
   "outputs": [
    {
     "data": {
      "text/plain": [
       "run_main (generic function with 1 method)"
      ]
     },
     "metadata": {},
     "output_type": "display_data"
    }
   ],
   "source": [
    "function run_main(; time_order=1, scheme = 0, ν=1, newton = false)\n",
    "    nlevels = 2\n",
    "    xgrid = simplexgrid(Triangulate;\n",
    "            points=[0 0 ; 0 1 ; 1 1 ; 1 0]',\n",
    "            bfaces=[1 2 ; 2 3 ; 3 4 ; 4 1 ]',\n",
    "            bfaceregions=[1, 2, 3, 4],\n",
    "            regionpoints=[0.5 0.5;]',\n",
    "            regionnumbers=[1],\n",
    "            regionvolumes=[4.0^(-nlevels-1)/2])\n",
    "  @show xgrid\n",
    "  FETypes = [H1P2{2,2}, H1P1{1}]\n",
    "\n",
    "  u, p, f, dt_u = get_flow_data(ν)\n",
    "\n",
    "  TDisc = VariationalTimeDisc.SetVariationalTimeDisc(Float64,time_order, scheme)  \n",
    "  FES = [FESpace{FETypes[1]}(xgrid), FESpace{FETypes[2]}(xgrid)]\n",
    "  # solution vector\n",
    "  Solution = FEVector([\"u_h\", \"p_h\"], FES)\n",
    "  @show Solution\n",
    "  ndofu = FES[1].ndofs\n",
    "  ndofp = FES[2].ndofs\n",
    "  GradientRobustMultiPhysics.interpolate!(Solution[1], u; time = 0.)\n",
    "  initSol = zeros(Float64, ndofu)\n",
    "  initSol = Solution.entries # full solution\n",
    "\n",
    "  # mass matrix \n",
    "  M = FEMatrix{Float64}(FES)\n",
    "  assemble_operator!(M[1,1], BilinearForm([Identity, Identity]))\n",
    "  # velocity pressure matrices\n",
    "  A = FEMatrix{Float64}(FES)\n",
    "  assemble_operator!(A[1,1], LaplaceOperator(ν))\n",
    "  assemble_operator!(A[1,2], LagrangeMultiplier(Divergence); At = A[2,1]) \n",
    "\n",
    "  rhs = FEVector{Float64}(FES)\n",
    "  assemble_operator!(rhs[1], LinearForm(Identity, f); time=0.0)\n",
    "  \"\"\"\n",
    "  parameters used for the time steeping scheme\n",
    "  \"\"\"\n",
    "  TPO = time_order # polynomial degree for time \n",
    "  Tk  = scheme  # scheme = 0 dG; scheme =1 cGP\n",
    "  kL  = TDisc.kL\n",
    "  kR  = TDisc.kR\n",
    "  qp  = TDisc.p\n",
    "  MassCoeffs = TDisc.MassCoeffs\n",
    "  StiffCoeffs = TDisc.StiffCoeffs\n",
    "  nQF = TDisc.nQF\n",
    "  wQF = TDisc.wQF\n",
    "  IC = TDisc.IC\n",
    "  t0 = 0\n",
    "  tau = 1/10\n",
    "\n",
    "  V1 = zeros(Float64, ndofu, TPO+1)  \n",
    "  SysFES = Array{FESpace{Float64, Int32}, 1}([])\n",
    "  for j=1:TPO+1-Tk\n",
    "    append!(SysFES, FES)\n",
    "  end\n",
    "  SystemMatrix = FEMatrix{Float64}(SysFES)\n",
    "  SysNLMatrix = FEMatrix{Float64}(SysFES)\n",
    "  SysNLRhs = FEVector{Float64}(SysFES)\n",
    "  SystemRHS = FEVector{Float64}(SysFES)\n",
    "  SystemSol = FEVector{Float64}(SysFES)\n",
    "  # number of solution vectors to be calculated\n",
    "  d = TPO+1-kL\n",
    "  # Number of inner solution vectors\n",
    "  di = d-kR\n",
    "  @show TPO, Tk, kL, kR, d, di \n",
    "  dt = Array{BoundaryData,1}(undef,0)\n",
    "  push!(dt,BoundaryData(BestapproxDirichletBoundary; regions = [1,2,3,4], data=u))\n",
    "  \n",
    "  ## the convection operator is assembled to the right-hand side\n",
    "  ## to keep the matrix constant in time (but we do subiterations in each timestep)\n",
    "  if (newton)\n",
    "    function convection_kernel(result, input)\n",
    "        uh, ∇uh = view(input,1:2), view(input,3:6)\n",
    "        result[1] = ∇uh[1]*uh[1] + ∇uh[2]*uh[2]\n",
    "        result[2] = ∇uh[3]*uh[1] + ∇uh[4]*uh[2]\n",
    "    end\n",
    "    CO = NonlinearForm(Identity, [Identity, Gradient], [1,1], convection_kernel, [2,6]; \n",
    "          name = \"((#1⋅∇)#1, #T)\")\n",
    "    DCO = GradientRobustMultiPhysics.AssemblyPattern{GradientRobustMultiPhysics.APT_NonlinearForm, \n",
    "          Float64, ON_CELLS}(CO.name, [FES[1], FES[1], FES[1]], CO.operators4arguments,\n",
    "          CO.action,CO.apply_action_to,CO.regions)\n",
    "    DCO.newton_args = CO.newton_arguments  \n",
    "    @show DCO.newton_args\n",
    "  else\n",
    "    # disctrete convection operator\n",
    "    # Picard iteration\n",
    "    CO = ConvectionOperator(1, Identity, 2, 2; newton = newton)\n",
    "    DCO = GradientRobustMultiPhysics.AssemblyPattern{GradientRobustMultiPhysics.APT_BilinearForm, \n",
    "          Float64, ON_CELLS}(CO.name, [FES[1], FES[1], FES[1]], CO.operators4arguments,CO.action,\n",
    "          CO.apply_action_to,CO.regions)\n",
    "  end\n",
    "\n",
    "  # assemble the nonlinear matrix and rhs\n",
    "  ANL = FEMatrix{Float64}(FES)  \n",
    "  rhsNL = FEVector{Float64}(FES)\n",
    "  residual = FEVector{Float64}(SysFES)\n",
    "  Tf = 1\n",
    "  dofs = nothing\n",
    "  while t0 <= Tf-1e-10\n",
    "    # t0 = t0 + tau\n",
    "    if kL > 0 # cGP \n",
    "      @show \"No dG\"\n",
    "      V1[:, 1] = rhs.entries\n",
    "    end\n",
    "    # inner quad points\n",
    "    for i = 1 : TPO - Tk\n",
    "      fill!(rhs.entries, 0)\n",
    "      assemble_operator!(rhs[1], LinearForm(Identity, f), time = t0 + tau * (qp[i]+1)/2)\n",
    "      V1[:,i + kL] = rhs[1][:]\n",
    "    end\n",
    "    fill!(rhs.entries, 0)\n",
    "    assemble_operator!(rhs[1], LinearForm(Identity, f), time = t0 + tau)\n",
    "    # F_n rhs vector \n",
    "    V1[:, 1+(TPO+1-kR)] = rhs[1][:]\n",
    "    Mu0 = zeros(Float64, ndofu)\n",
    "\n",
    "    # mass matrix time the initial solution \n",
    "    addblock_matmul!(Mu0, M[1,1], Solution[1]) #; factor = 1) \n",
    "    # preparation of the system right hand side \n",
    "    fill!(SystemRHS.entries, 0)\n",
    "    for i = 1 : TPO+1-Tk\n",
    "      if Tk>0\n",
    "        addblock!(SystemRHS[2*i-1], Mu0 * MassCoeffs[i, 1:kL]; factor= - 1.0)\n",
    "        addblock!(SystemRHS[2*i-1], A.entries * Solution[1].entries; \n",
    "                  factor= - tau/2 * StiffCoeffs[i, 1])\n",
    "      else\n",
    "        # M * ξ \n",
    "        addblock!(SystemRHS[2*i-1], Mu0; factor= IC[i])\n",
    "      end\n",
    "    end\n",
    "    for i= 1 : TPO+1-Tk\n",
    "      addblock!(SystemRHS[2*i-1], V1 * StiffCoeffs[i, :]; factor= tau/2 )\n",
    "    end    \n",
    "    # reset the system matrix\n",
    "    fill!(SystemMatrix.entries.cscmatrix.nzval, 0)\n",
    "    # putting everything together for the left hand side \n",
    "    for s1 = 1 : di + 1\n",
    "      fill!(A[1,1], 0)\n",
    "      assemble_operator!(A[1, 1], LaplaceOperator(ν); time= t0 + tau * (qp[s1] +1) / 2. )\n",
    "      for s2 = 1 : TPO + 1 - Tk\n",
    "        addblock!(SystemMatrix[2*s2-1, 2*s1-1], M[1, 1]; factor= MassCoeffs[s2, s1+kL])\n",
    "        if (s1 == s2)\n",
    "          addblock!(SystemMatrix[2*s2-1, 2*s1-1], A[1, 1]; factor= StiffCoeffs[s2, s1+kL] * tau / 2)\n",
    "          ## set the correct rows and cols\n",
    "          addblock!(SystemMatrix[2*s2-1, 2*s1], A[1, 2]; factor= StiffCoeffs[s2, s1+kL] * tau / 2)\n",
    "          addblock!(SystemMatrix[2*s2, 2*s1-1], A[2, 1]; factor= StiffCoeffs[s2, s1+kL] * tau / 2)\n",
    "        end\n",
    "      end\n",
    "    end\n",
    "\n",
    "    niter = 0\n",
    "    res = 1e60\n",
    "    flush!(SystemMatrix.entries)\n",
    "    # Nonlinear loop \n",
    "    while niter <= 10 && res >= 1e-10\n",
    "      fill!(SysNLMatrix.entries.cscmatrix.nzval, 0)\n",
    "      SysNLMatrix.entries.cscmatrix += SystemMatrix.entries.cscmatrix\n",
    "      fill!(SysNLRhs.entries, 0)\n",
    "      SysNLRhs.entries .+= SystemRHS.entries\n",
    "      flush!(SysNLMatrix.entries)\n",
    "      for s1 = 1 : di +1 \n",
    "        if newton\n",
    "          GradientRobustMultiPhysics.full_assemble!(SysNLMatrix[2*s1-1, 2*s1-1], SysNLRhs[2*s1-1], \n",
    "            DCO, [SystemSol[2*s1-1], SystemSol[2*s1-1]]; skip_preps = false, factor = CO.factor * StiffCoeffs[s1, s1+kL] * tau / 2, \n",
    "            transposed_assembly = CO.transposed_assembly)        \n",
    "        else\n",
    "          # Assemble only ANL for Picard iteration \n",
    "          GradientRobustMultiPhysics.assemble!(SysNLMatrix[2*s1-1, 2*s1-1], DCO, [SystemSol[2*s1-1], SystemSol[2*s1-1]]; \n",
    "            factor = StiffCoeffs[s1, s1+kL] * tau / 2, transposed_assembly=true)\n",
    "        end\n",
    "      end      \n",
    "      for i = 1 : TPO + 1 - Tk\n",
    "        dofs = boundarydata!(SystemSol[2*i-1], dt; time = t0 + tau * (qp[i]+1)/2)\n",
    "        # println(\"dofs: \", dofs)\n",
    "        for dof in dofs\n",
    "          SysNLRhs[2*i-1][dof] = 1e60 * SystemSol[2*i-1][dof]\n",
    "          SysNLMatrix[2*i-1,2*i-1][dof,dof] = 1e60\n",
    "        end\n",
    "        SysNLMatrix[2*i,2*i][1,1] = 1e60 #pressure correction        \n",
    "      end\n",
    "      flush!(SysNLMatrix.entries)\n",
    "      GradientRobustMultiPhysics.mul!(residual.entries,SysNLMatrix.entries,SystemSol.entries)\n",
    "      residual.entries .-= SysNLRhs.entries\n",
    "      for i = 1 : TPO + 1- Tk  \n",
    "        for dof in dofs \n",
    "          residual[2*i - 1][dof] = 0  \n",
    "        end        \n",
    "        residual[2*i][1] = 0\n",
    "      end      \n",
    "      res = norm(residual.entries)\n",
    "      @info (niter, res)\n",
    "      SystemSol.entries[:] = SysNLMatrix.entries \\ SysNLRhs.entries \n",
    "      \n",
    "      niter = niter + 1\n",
    "    end#end while nonlinear loop\n",
    "    for j = 1 : ndofu \n",
    "      Solution[1][j] = SystemSol[2*di+1][j]\n",
    "    end\n",
    "    L2Error_u = L2ErrorIntegrator(u, Identity; time= t0 + tau)\n",
    "    l2 = evaluate(L2Error_u, Solution[1])\n",
    "    @info sqrt(l2)\n",
    "    t0 = t0 + tau\n",
    "  end # endwhile time loop\n",
    "end"
   ]
  },
  {
   "cell_type": "code",
   "execution_count": 53,
   "metadata": {},
   "outputs": [
    {
     "name": "stdout",
     "output_type": "stream",
     "text": [
      "xgrid = ExtendableGrid{Float64, Int32};\n",
      "dim: 2 nodes: 115 cells: 194 bfaces: 34\n",
      "\n",
      "\n",
      "\n",
      "VariationalTimeDisc(r=1, k=0): dG(1)\n",
      "Solution = \n",
      "FEVector information\n",
      "====================\n",
      "   block  |  ndofs  | name (FEType) \n",
      " [    1]  |     846 | u_h (H1P2{2,2})\n",
      " [    2]  |     115 | p_h (H1P1{1})\n",
      "\n"
     ]
    },
    {
     "name": "stdout",
     "output_type": "stream",
     "text": [
      "(TPO, Tk, kL, kR, d, di) = (1, 0, 0, 1, 2, 1)\n"
     ]
    },
    {
     "name": "stderr",
     "output_type": "stream",
     "text": [
      "┌ Info: (0, 0.06890817566810066)\n",
      "└ @ Main /home/ahmed/OneDrive/ResearchWork/codes/JuliaFE_Julia23/my_examples/TimeNavierStokesVTD.ipynb:192\n",
      "┌ Info: (1, 2.3680115649939488e-5)\n",
      "└ @ Main /home/ahmed/OneDrive/ResearchWork/codes/JuliaFE_Julia23/my_examples/TimeNavierStokesVTD.ipynb:192\n"
     ]
    },
    {
     "name": "stderr",
     "output_type": "stream",
     "text": [
      "┌ Info: (2, 1.3361870439423658e-11)\n",
      "└ @ Main /home/ahmed/OneDrive/ResearchWork/codes/JuliaFE_Julia23/my_examples/TimeNavierStokesVTD.ipynb:192\n",
      "┌ Info: 6.280984627477984e-16\n",
      "└ @ Main /home/ahmed/OneDrive/ResearchWork/codes/JuliaFE_Julia23/my_examples/TimeNavierStokesVTD.ipynb:202\n"
     ]
    },
    {
     "name": "stderr",
     "output_type": "stream",
     "text": [
      "┌ Info: (0, 0.09079469282942222)\n",
      "└ @ Main /home/ahmed/OneDrive/ResearchWork/codes/JuliaFE_Julia23/my_examples/TimeNavierStokesVTD.ipynb:192\n",
      "┌ Info: (1, 5.6571777309084745e-5)\n",
      "└ @ Main /home/ahmed/OneDrive/ResearchWork/codes/JuliaFE_Julia23/my_examples/TimeNavierStokesVTD.ipynb:192\n"
     ]
    },
    {
     "name": "stderr",
     "output_type": "stream",
     "text": [
      "┌ Info: (2, 5.921905609048628e-11)\n",
      "└ @ Main /home/ahmed/OneDrive/ResearchWork/codes/JuliaFE_Julia23/my_examples/TimeNavierStokesVTD.ipynb:192\n",
      "┌ Info: 5.87445608627499e-15\n",
      "└ @ Main /home/ahmed/OneDrive/ResearchWork/codes/JuliaFE_Julia23/my_examples/TimeNavierStokesVTD.ipynb:202\n"
     ]
    },
    {
     "name": "stderr",
     "output_type": "stream",
     "text": [
      "┌ Info: (0, 0.09081150754600194)\n",
      "└ @ Main /home/ahmed/OneDrive/ResearchWork/codes/JuliaFE_Julia23/my_examples/TimeNavierStokesVTD.ipynb:192\n",
      "┌ Info: (1, 8.94478345511674e-5)\n",
      "└ @ Main /home/ahmed/OneDrive/ResearchWork/codes/JuliaFE_Julia23/my_examples/TimeNavierStokesVTD.ipynb:192\n"
     ]
    },
    {
     "name": "stderr",
     "output_type": "stream",
     "text": [
      "┌ Info: (2, 1.4241117474534688e-10)\n",
      "└ @ Main /home/ahmed/OneDrive/ResearchWork/codes/JuliaFE_Julia23/my_examples/TimeNavierStokesVTD.ipynb:192\n",
      "┌ Info: (3, 3.4214876476625593e-14)\n",
      "└ @ Main /home/ahmed/OneDrive/ResearchWork/codes/JuliaFE_Julia23/my_examples/TimeNavierStokesVTD.ipynb:192\n"
     ]
    },
    {
     "name": "stderr",
     "output_type": "stream",
     "text": [
      "┌ Info: 4.572542193593894e-16\n",
      "└ @ Main /home/ahmed/OneDrive/ResearchWork/codes/JuliaFE_Julia23/my_examples/TimeNavierStokesVTD.ipynb:202\n",
      "┌ Info: (0, 0.09082863538208423)\n",
      "└ @ Main /home/ahmed/OneDrive/ResearchWork/codes/JuliaFE_Julia23/my_examples/TimeNavierStokesVTD.ipynb:192\n"
     ]
    },
    {
     "name": "stderr",
     "output_type": "stream",
     "text": [
      "┌ Info: (1, 0.0001225442877398235)\n",
      "└ @ Main /home/ahmed/OneDrive/ResearchWork/codes/JuliaFE_Julia23/my_examples/TimeNavierStokesVTD.ipynb:192\n",
      "┌ Info: (2, 2.637464095191295e-10)\n",
      "└ @ Main /home/ahmed/OneDrive/ResearchWork/codes/JuliaFE_Julia23/my_examples/TimeNavierStokesVTD.ipynb:192\n"
     ]
    },
    {
     "name": "stderr",
     "output_type": "stream",
     "text": [
      "┌ Info: (3, 8.512162954743363e-14)\n",
      "└ @ Main /home/ahmed/OneDrive/ResearchWork/codes/JuliaFE_Julia23/my_examples/TimeNavierStokesVTD.ipynb:192\n",
      "┌ Info: 2.8527330632421036e-16\n",
      "└ @ Main /home/ahmed/OneDrive/ResearchWork/codes/JuliaFE_Julia23/my_examples/TimeNavierStokesVTD.ipynb:202\n"
     ]
    },
    {
     "name": "stderr",
     "output_type": "stream",
     "text": [
      "┌ Info: (0, 0.09084607616056498)\n",
      "└ @ Main /home/ahmed/OneDrive/ResearchWork/codes/JuliaFE_Julia23/my_examples/TimeNavierStokesVTD.ipynb:192\n",
      "┌ Info: (1, 0.00015572067350917224)\n",
      "└ @ Main /home/ahmed/OneDrive/ResearchWork/codes/JuliaFE_Julia23/my_examples/TimeNavierStokesVTD.ipynb:192\n"
     ]
    },
    {
     "name": "stderr",
     "output_type": "stream",
     "text": [
      "┌ Info: (2, 4.2331306623932745e-10)\n",
      "└ @ Main /home/ahmed/OneDrive/ResearchWork/codes/JuliaFE_Julia23/my_examples/TimeNavierStokesVTD.ipynb:192\n",
      "┌ Info: (3, 1.7194917325192886e-13)\n",
      "└ @ Main /home/ahmed/OneDrive/ResearchWork/codes/JuliaFE_Julia23/my_examples/TimeNavierStokesVTD.ipynb:192\n"
     ]
    },
    {
     "name": "stderr",
     "output_type": "stream",
     "text": [
      "┌ Info: 4.673823707750243e-16\n",
      "└ @ Main /home/ahmed/OneDrive/ResearchWork/codes/JuliaFE_Julia23/my_examples/TimeNavierStokesVTD.ipynb:202\n",
      "┌ Info: (0, 0.09086382970124192)\n",
      "└ @ Main /home/ahmed/OneDrive/ResearchWork/codes/JuliaFE_Julia23/my_examples/TimeNavierStokesVTD.ipynb:192\n"
     ]
    },
    {
     "name": "stderr",
     "output_type": "stream",
     "text": [
      "┌ Info: (1, 0.00018893488910511926)\n",
      "└ @ Main /home/ahmed/OneDrive/ResearchWork/codes/JuliaFE_Julia23/my_examples/TimeNavierStokesVTD.ipynb:192\n",
      "┌ Info: (2, 6.211340957408946e-10)\n",
      "└ @ Main /home/ahmed/OneDrive/ResearchWork/codes/JuliaFE_Julia23/my_examples/TimeNavierStokesVTD.ipynb:192\n"
     ]
    },
    {
     "name": "stderr",
     "output_type": "stream",
     "text": [
      "┌ Info: (3, 3.0445143852968835e-13)\n",
      "└ @ Main /home/ahmed/OneDrive/ResearchWork/codes/JuliaFE_Julia23/my_examples/TimeNavierStokesVTD.ipynb:192\n",
      "┌ Info: 5.948625943428411e-16\n",
      "└ @ Main /home/ahmed/OneDrive/ResearchWork/codes/JuliaFE_Julia23/my_examples/TimeNavierStokesVTD.ipynb:202\n"
     ]
    },
    {
     "name": "stderr",
     "output_type": "stream",
     "text": [
      "┌ Info: (0, 0.09088189582082329)\n",
      "└ @ Main /home/ahmed/OneDrive/ResearchWork/codes/JuliaFE_Julia23/my_examples/TimeNavierStokesVTD.ipynb:192\n",
      "┌ Info: (1, 0.00022216996885126084)\n",
      "└ @ Main /home/ahmed/OneDrive/ResearchWork/codes/JuliaFE_Julia23/my_examples/TimeNavierStokesVTD.ipynb:192\n"
     ]
    },
    {
     "name": "stderr",
     "output_type": "stream",
     "text": [
      "┌ Info: (2, 8.572186733056889e-10)\n",
      "└ @ Main /home/ahmed/OneDrive/ResearchWork/codes/JuliaFE_Julia23/my_examples/TimeNavierStokesVTD.ipynb:192\n",
      "┌ Info: (3, 4.922622721232724e-13)\n",
      "└ @ Main /home/ahmed/OneDrive/ResearchWork/codes/JuliaFE_Julia23/my_examples/TimeNavierStokesVTD.ipynb:192\n"
     ]
    },
    {
     "name": "stderr",
     "output_type": "stream",
     "text": [
      "┌ Info: 1.0723164503310529e-15\n",
      "└ @ Main /home/ahmed/OneDrive/ResearchWork/codes/JuliaFE_Julia23/my_examples/TimeNavierStokesVTD.ipynb:202\n",
      "┌ Info: (0, 0.09090027433293706)\n",
      "└ @ Main /home/ahmed/OneDrive/ResearchWork/codes/JuliaFE_Julia23/my_examples/TimeNavierStokesVTD.ipynb:192\n"
     ]
    },
    {
     "name": "stderr",
     "output_type": "stream",
     "text": [
      "┌ Info: (1, 0.00025541776853686763)\n",
      "└ @ Main /home/ahmed/OneDrive/ResearchWork/codes/JuliaFE_Julia23/my_examples/TimeNavierStokesVTD.ipynb:192\n",
      "┌ Info: (2, 1.1315717730175504e-9)\n",
      "└ @ Main /home/ahmed/OneDrive/ResearchWork/codes/JuliaFE_Julia23/my_examples/TimeNavierStokesVTD.ipynb:192\n"
     ]
    },
    {
     "name": "stderr",
     "output_type": "stream",
     "text": [
      "┌ Info: (3, 7.452771019663253e-13)\n",
      "└ @ Main /home/ahmed/OneDrive/ResearchWork/codes/JuliaFE_Julia23/my_examples/TimeNavierStokesVTD.ipynb:192\n",
      "┌ Info: 1.564784254067677e-15\n",
      "└ @ Main /home/ahmed/OneDrive/ResearchWork/codes/JuliaFE_Julia23/my_examples/TimeNavierStokesVTD.ipynb:202\n"
     ]
    },
    {
     "name": "stderr",
     "output_type": "stream",
     "text": [
      "┌ Info: (0, 0.09091896504814063)\n",
      "└ @ Main /home/ahmed/OneDrive/ResearchWork/codes/JuliaFE_Julia23/my_examples/TimeNavierStokesVTD.ipynb:192\n",
      "┌ Info: (1, 0.00028867389335809917)\n",
      "└ @ Main /home/ahmed/OneDrive/ResearchWork/codes/JuliaFE_Julia23/my_examples/TimeNavierStokesVTD.ipynb:192\n"
     ]
    },
    {
     "name": "stderr",
     "output_type": "stream",
     "text": [
      "┌ Info: (2, 1.444196753359082e-9)\n",
      "└ @ Main /home/ahmed/OneDrive/ResearchWork/codes/JuliaFE_Julia23/my_examples/TimeNavierStokesVTD.ipynb:192\n",
      "┌ Info: (3, 1.0730835074692314e-12)\n",
      "└ @ Main /home/ahmed/OneDrive/ResearchWork/codes/JuliaFE_Julia23/my_examples/TimeNavierStokesVTD.ipynb:192\n"
     ]
    },
    {
     "name": "stderr",
     "output_type": "stream",
     "text": [
      "┌ Info: 2.563014861924999e-15\n",
      "└ @ Main /home/ahmed/OneDrive/ResearchWork/codes/JuliaFE_Julia23/my_examples/TimeNavierStokesVTD.ipynb:202\n",
      "┌ Info: (0, 0.09093796777393019)\n",
      "└ @ Main /home/ahmed/OneDrive/ResearchWork/codes/JuliaFE_Julia23/my_examples/TimeNavierStokesVTD.ipynb:192\n"
     ]
    },
    {
     "name": "stderr",
     "output_type": "stream",
     "text": [
      "┌ Info: (1, 0.0003219357635231446)\n",
      "└ @ Main /home/ahmed/OneDrive/ResearchWork/codes/JuliaFE_Julia23/my_examples/TimeNavierStokesVTD.ipynb:192\n",
      "┌ Info: (2, 1.7950961969350985e-9)\n",
      "└ @ Main /home/ahmed/OneDrive/ResearchWork/codes/JuliaFE_Julia23/my_examples/TimeNavierStokesVTD.ipynb:192\n"
     ]
    },
    {
     "name": "stderr",
     "output_type": "stream",
     "text": [
      "┌ Info: (3, 1.4855024035154906e-12)\n",
      "└ @ Main /home/ahmed/OneDrive/ResearchWork/codes/JuliaFE_Julia23/my_examples/TimeNavierStokesVTD.ipynb:192\n",
      "┌ Info: 3.8846644930856865e-15\n",
      "└ @ Main /home/ahmed/OneDrive/ResearchWork/codes/JuliaFE_Julia23/my_examples/TimeNavierStokesVTD.ipynb:202\n"
     ]
    }
   ],
   "source": [
    "run_main(time_order=1)"
   ]
  },
  {
   "cell_type": "code",
   "execution_count": null,
   "metadata": {},
   "outputs": [],
   "source": []
  }
 ],
 "metadata": {
  "kernelspec": {
   "display_name": "Julia 1.7.3",
   "language": "julia",
   "name": "julia-1.7"
  },
  "language_info": {
   "file_extension": ".jl",
   "mimetype": "application/julia",
   "name": "julia",
   "version": "1.7.3"
  },
  "orig_nbformat": 4
 },
 "nbformat": 4,
 "nbformat_minor": 2
}
