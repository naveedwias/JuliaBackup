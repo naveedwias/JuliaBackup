{
 "cells": [
  {
   "cell_type": "code",
   "execution_count": 1,
   "metadata": {},
   "outputs": [],
   "source": [
    "include(\"../src/variationaltimedisc.jl\")\n",
    "using GradientRobustMultiPhysics\n",
    "using ExtendableGrids\n",
    "using Printf\n",
    "using ExtendableSparse\n",
    "using DelimitedFiles\n",
    "using SimplexGridFactory\n",
    "using Triangulate"
   ]
  },
  {
   "cell_type": "code",
   "execution_count": 2,
   "metadata": {},
   "outputs": [
    {
     "data": {
      "text/plain": [
       "get_flow_data (generic function with 1 method)"
      ]
     },
     "metadata": {},
     "output_type": "display_data"
    }
   ],
   "source": [
    "function get_flow_data(ν, example)\n",
    "    ## note that dependencies \"XT\" marks the function to be x- and t-dependent\n",
    "    ## that causes the solver to automatically reassemble associated operators in each time step\n",
    "    u = DataFunction((result, x, t) -> (\n",
    "        result[1] = 3*t*(x[1]+x[2]); \n",
    "        result[2] = -3*t*(x[1]+x[2]);\n",
    "        ), [2,2]; name = \"u\", dependencies = \"XT\", bonus_quadorder = 5)\n",
    "    p = DataFunction((result, x) -> (\n",
    "        result[1] = 0.0\n",
    "        ), [1,2]; name = \"p\", dependencies = \"X\", bonus_quadorder = 5)\n",
    "  \n",
    "    ############## common code for all examples #####\n",
    "    dt_u = eval_dt(u)\n",
    "    Δu = eval_Δ(u)\n",
    "    ∇u = eval_∇(u)\n",
    "    ∇p = eval_∇(p)\n",
    "    f = DataFunction((result, x, t) -> (\n",
    "          result .= dt_u(x,t) .- ν*Δu(x,t) .+∇u(x,t)*u(x,t) .+ view(∇p(x,t),:);\n",
    "        ), [2,2]; name = \"f\", dependencies = \"XT\", bonus_quadorder = 5)  \n",
    "    return u, p, f\n",
    "  end"
   ]
  },
  {
   "cell_type": "code",
   "execution_count": 3,
   "metadata": {},
   "outputs": [
    {
     "data": {
      "text/plain": [
       "run_main (generic function with 1 method)"
      ]
     },
     "metadata": {},
     "output_type": "display_data"
    }
   ],
   "source": [
    "function run_main(;scheme = 1, ν = 1, nlevels=3, fe_type = 1, rec_type = 1, T0 = 0, Tf=1, \n",
    "    nsteps=10, reconstruct = false, example = 1, verbosity = 0)\n",
    "\n",
    "    # set log level\n",
    "  set_verbosity(verbosity)\n",
    "  ## initial grid \n",
    "  #xgrid = grid_unitsquare(Triangle2D)\n",
    "  # refine the grid \n",
    "  #xgrid = uniform_refine(xgrid, nlevels)  \n",
    "  xgrid = simplexgrid(Triangulate;\n",
    "            points=[0 0 ; 0 1 ; 1 1 ; 1 0]',\n",
    "            bfaces=[1 2 ; 2 3 ; 3 4 ; 4 1 ]',\n",
    "            bfaceregions=[1, 2, 3, 4],\n",
    "            regionpoints=[0.5 0.5;]',\n",
    "            regionnumbers=[1],\n",
    "            regionvolumes=[4.0^(-nlevels-1)/2])\n",
    "  println(xgrid)\n",
    "\n",
    "  ## choose one of these (inf-sup stable) finite element type pairs\n",
    "  FETypes = [H1P2{2,2}, H1P1{1}] # Taylor-Hood elements\n",
    "  \n",
    "  u, p, f= get_flow_data(ν, example)\n",
    "\n",
    "  # generate FE spaces\n",
    "  FES = [FESpace{FETypes[1]}(xgrid), FESpace{FETypes[2]}(xgrid)]\n",
    "  # solution vector\n",
    "  Solution = FEVector([\"u_h\", \"p_h\"], FES)\n",
    "  res = FEVector([\"u_h\", \"p_h\"], FES)\n",
    "  Solnm1 = FEVector(FES)\n",
    "  interpolate!(Solnm1[1], u; time = 0.0)\n",
    "  Solnm2 = FEVector(FES)\n",
    "  interpolate!(Solnm2[1], u; time = 1e-15)\n",
    "\n",
    "  ndofu = FES[1].ndofs\n",
    "  ndofp = FES[2].ndofs\n",
    "  # n_unknown = length(Solution.entries)  \n",
    "  GradientRobustMultiPhysics.interpolate!(Solution[1], u; time = 0.)\n",
    "\n",
    "  # mass matrix \n",
    "  M = FEMatrix{Float64}(FES)\n",
    "  assemble_operator!(M[1,1], BilinearForm([Identity, Identity]))\n",
    "  # velocity pressure matrices\n",
    "  A = FEMatrix{Float64}(FES)\n",
    "  assemble_operator!(A[1,1], LaplaceOperator(ν))\n",
    "  assemble_operator!(A[1,2], LagrangeMultiplier(Divergence); At = A[2,1]) \n",
    "\n",
    "  rhs = FEVector{Float64}(FES)\n",
    "  assemble_operator!(rhs[1], LinearForm(Identity, f); time=0.0)\n",
    "\n",
    "  ## the convection operator is assembled to the right-hand side\n",
    "  ## to keep the matrix constant in time (but we do subiterations in each timestep)\n",
    "  CO = ConvectionOperator(1, Identity, 2, 2; newton = true)\n",
    "  #CO_Picard = ConvectionOperator(1, Identity, 2, 2; newton = false)\n",
    "  # disctrete convection operator\n",
    "  DCO = GradientRobustMultiPhysics.AssemblyPattern{GradientRobustMultiPhysics.APT_NonlinearForm, Float64, ON_CELLS}(CO.name, \n",
    "        [FES[1], FES[1], FES[1]], CO.operators4arguments,CO.action,CO.apply_action_to,CO.regions)\n",
    "  # Picard iteration\n",
    "  #DCO = GradientRobustMultiPhysics.AssemblyPattern{GradientRobustMultiPhysics.APT_BilinearForm, Float64, ON_CELLS}(CO.name, \n",
    "  #      [FES[1], FES[1], FES[1]], CO.operators4arguments,CO.action,CO.apply_action_to,CO.regions)\n",
    "  # which needs derivatives\n",
    "  DCO.newton_args = CO.newton_arguments  \n",
    "  # assemble the nonlinear matrix and rhs\n",
    "  ANL = FEMatrix{Float64}(FES)  \n",
    "  rhsNL = FEVector{Float64}(FES)\n",
    "  # GradientRobustMultiPhysics.full_assemble!(ANL[1,1], rhsNL[1], DCO, [Solution[1], Solution[1]])\n",
    "  dt = Array{BoundaryData,1}(undef,0)\n",
    "  push!(dt, BoundaryData(BestapproxDirichletBoundary; regions = [1,2,3,4], data = u))\n",
    "  dofs = boundarydata!(Solution[1], dt; time = 0.0)\n",
    "  \n",
    "  t0 = T0\n",
    "  if scheme == 1\n",
    "      tau = (Tf - T0)/nsteps\n",
    "  end\n",
    "  if scheme == 2\n",
    "      tau = (Tf - T0)/nsteps\n",
    "  end\n",
    "\n",
    "  V1 = zeros(Float64, ndofu, 1)\n",
    "\n",
    "  SystemMatrix = FEMatrix(FES)\n",
    "  # @show SystemMatrix\n",
    "  SystemRHS = FEVector(FES)\n",
    "  SystemSol = FEVector(FES)\n",
    "  \n",
    "  step = one(Int)\n",
    "\n",
    "  l2max = -one(Float64)\n",
    "  first_step  = true\n",
    "#------------------------------------------------------------------------------\n",
    "  nts = 1\n",
    "  oldL2 = zero(Float64); oldh1 = zero(Float64)\n",
    "  eL2 = zero(Float64); eh1 = zero(Float64)\n",
    "  tol = 1e-12\n",
    "  max_iter = 10\n",
    "  niter = zero(Int64)\n",
    "  while t0 <= Tf-1e-10\n",
    "    t0 = t0 + tau    \n",
    "    fill!(rhs.entries, 0)\n",
    "    assemble_operator!(rhs[1], LinearForm(Identity, f), time= t0 )\n",
    "    V1[:, 1] = rhs[1][:]\n",
    "\n",
    "    fill!(SystemRHS.entries, 0)\n",
    "    fill!(SystemMatrix.entries.cscmatrix.nzval, 0)\n",
    "    fill!(A[1,1], 0)\n",
    "    if nts == 1\n",
    "      if scheme == 2\n",
    "        @info (\"First step is with BDF1\")\n",
    "      end\n",
    "      addblock!(SystemRHS[1], M.entries*Solution[1].entries ; factor= 1.0/tau)\n",
    "      addblock!(SystemRHS[1], V1[:,1]; factor= 1.0 )\n",
    "\n",
    "      #system matrix\n",
    "      assemble_operator!(A[1, 1], LaplaceOperator(ν); time=t0 )\n",
    "      addblock!(SystemMatrix[1, 1], M[1, 1]; factor= 1.0/tau)      \n",
    "    else\n",
    "      # system rhs\n",
    "      addblock!(SystemRHS[1], M.entries*Solnm1[1].entries; factor=  2.0/tau)\n",
    "      addblock!(SystemRHS[1], M.entries*Solnm2[1].entries; factor= -0.5/tau)\n",
    "      addblock!(SystemRHS[1], V1[:,1]; factor= 1.0 )\n",
    "      # system matrix \n",
    "      assemble_operator!(A[1, 1], LaplaceOperator(ν); time=t0 )\n",
    "      addblock!(SystemMatrix[1, 1], M[1, 1]; factor= 1.5/tau)\n",
    "    end\n",
    "    addblock!(SystemMatrix[1, 1], A[1, 1]; factor= 1.0)\n",
    "    addblock!(SystemMatrix[1, 2], A[1, 2]; factor= 1.0)\n",
    "    addblock!(SystemMatrix[2, 1], A[2, 1]; factor= 1.0)\n",
    "\n",
    "    niter = 0\n",
    "    residual = 1e60\n",
    "    flush!(SystemMatrix.entries)\n",
    "    while residual >= tol && niter < max_iter\n",
    "      fill!(ANL.entries.cscmatrix.nzval, 0)\n",
    "      fill!(rhsNL.entries, 0)\n",
    "      addblock!(ANL[1, 1], SystemMatrix[1, 1]; factor= 1.0)\n",
    "      addblock!(ANL[1, 2], SystemMatrix[1, 2]; factor= 1.0)\n",
    "      addblock!(ANL[2, 1], SystemMatrix[2, 1]; factor= 1.0)\n",
    "      addblock!(rhsNL[1], SystemRHS[1]; factor= 1.0 )      \n",
    "      GradientRobustMultiPhysics.full_assemble!(ANL[1,1], rhsNL[1], DCO, [Solution[1], Solution[1]])\n",
    "      # Assemble only ANL for Picard iteration \n",
    "      # GradientRobustMultiPhysics.assemble!(ANL[1,1], DCO, [Solution[1], Solution[1]])\n",
    "      \n",
    "      dofs = boundarydata!(Solution[1], dt; time = t0)\n",
    "      for dof in dofs\n",
    "        rhsNL[1][dof] = 1e60 * Solution[1][dof]\n",
    "        ANL[1,1][dof,dof] = 1e60\n",
    "      end\n",
    "      # ANL[1,1][1,1] = 1e60\n",
    "      ANL[2,2][1,1] = 1e60\n",
    "      # residual computation\n",
    "      GradientRobustMultiPhysics.mul!(res.entries,ANL.entries,Solution.entries)\n",
    "      res.entries .-= rhsNL.entries\n",
    "      \n",
    "      for dof in dofs \n",
    "        res[1][dof] = 0\n",
    "      end\n",
    "      residual = norm(res.entries)\n",
    "      println(residual)\n",
    "      flush!(ANL.entries)\n",
    "      # solve the system \n",
    "      Solution.entries[:] = ANL.entries \\ rhsNL.entries\n",
    "      niter = niter + 1\n",
    "    end\n",
    "        \n",
    "    L2Error_u = L2ErrorIntegrator(u, Identity; time= t0)\n",
    "    l2 = evaluate(L2Error_u, Solution[1])\n",
    "\n",
    "    h1_err = L2ErrorIntegrator(∇(u), Gradient; time= t0)\n",
    "    h1 = evaluate(h1_err, Solution[1])\n",
    "\n",
    "    if scheme == 2\n",
    "      nts = nts + 1\n",
    "      for j=1:ndofu + ndofp\n",
    "        Solnm2[1][j] = Solnm1[1][j]\n",
    "        Solnm1[1][j] = Solution[1][j]\n",
    "      end\n",
    "    end\n",
    "    println(t0, \"\\t\", sqrt(l2), '\\t', sqrt(h1))\n",
    "  end\n",
    "  println(\"done\")\n",
    "end"
   ]
  },
  {
   "cell_type": "code",
   "execution_count": 4,
   "metadata": {},
   "outputs": [
    {
     "name": "stdout",
     "output_type": "stream",
     "text": [
      "ExtendableGrid{Float64, Int32};\n",
      "dim: 2 nodes: 443 cells: 808 bfaces: 76\n",
      "\n",
      "\n",
      "\u001b[33m\u001b[1m┌ \u001b[22m\u001b[39m\u001b[33m\u001b[1mWarning: \u001b[22m\u001b[39m 41155300 allocations during ITEMTYPE_FACE volume calculation\n",
      "\u001b[33m\u001b[1m└ \u001b[22m\u001b[39m\u001b[90m@ ExtendableGrids ~/.julia/packages/ExtendableGrids/XFxI3/src/derived.jl:937\u001b[39m\n"
     ]
    },
    {
     "name": "stdout",
     "output_type": "stream",
     "text": [
      "10.397600087864987\n"
     ]
    },
    {
     "name": "stdout",
     "output_type": "stream",
     "text": [
      "0.007904315915832892\n"
     ]
    },
    {
     "name": "stdout",
     "output_type": "stream",
     "text": [
      "1.6561037565597513e-7\n"
     ]
    },
    {
     "name": "stdout",
     "output_type": "stream",
     "text": [
      "7.754093634603639e-10\n"
     ]
    },
    {
     "name": "stdout",
     "output_type": "stream",
     "text": [
      "5.236874195265712e-12\n"
     ]
    },
    {
     "name": "stdout",
     "output_type": "stream",
     "text": [
      "3.93855036372479e-14\n"
     ]
    },
    {
     "name": "stdout",
     "output_type": "stream",
     "text": [
      "0.1\t2.3053858105553994e-7\t2.0992185215339368e-5\n"
     ]
    },
    {
     "name": "stdout",
     "output_type": "stream",
     "text": [
      "10.398296065290456\n"
     ]
    },
    {
     "name": "stdout",
     "output_type": "stream",
     "text": [
      "0.01580863283534672\n",
      "6.624966341273701e-7\n"
     ]
    },
    {
     "name": "stdout",
     "output_type": "stream",
     "text": [
      "6.1990731991122466e-9\n",
      "8.360748006379584e-11\n"
     ]
    },
    {
     "name": "stdout",
     "output_type": "stream",
     "text": [
      "1.1499616625974482e-12\n"
     ]
    },
    {
     "name": "stdout",
     "output_type": "stream",
     "text": [
      "5.209521407443544e-14\n"
     ]
    },
    {
     "name": "stdout",
     "output_type": "stream",
     "text": [
      "0.2\t9.22565024750899e-7\t8.400033243874805e-5\n"
     ]
    },
    {
     "name": "stdout",
     "output_type": "stream",
     "text": [
      "10.399235295258551\n"
     ]
    },
    {
     "name": "stdout",
     "output_type": "stream",
     "text": [
      "0.023712950801101765\n"
     ]
    },
    {
     "name": "stdout",
     "output_type": "stream",
     "text": [
      "1.4907881240217972e-6\n"
     ]
    },
    {
     "name": "stdout",
     "output_type": "stream",
     "text": [
      "2.0905958524050823e-8\n",
      "4.221336914956576e-10\n"
     ]
    },
    {
     "name": "stdout",
     "output_type": "stream",
     "text": [
      "8.660441169717496e-12\n"
     ]
    },
    {
     "name": "stdout",
     "output_type": "stream",
     "text": [
      "4.538744107350218e-13\n"
     ]
    },
    {
     "name": "stdout",
     "output_type": "stream",
     "text": [
      "0.30000000000000004\t2.0765939284650666e-6\t0.00018906322659068038\n"
     ]
    },
    {
     "name": "stdout",
     "output_type": "stream",
     "text": [
      "10.400417711633091\n"
     ]
    },
    {
     "name": "stdout",
     "output_type": "stream",
     "text": [
      "0.03161726975909488\n"
     ]
    },
    {
     "name": "stdout",
     "output_type": "stream",
     "text": [
      "2.650696467893426e-6\n"
     ]
    },
    {
     "name": "stdout",
     "output_type": "stream",
     "text": [
      "4.951597381878682e-8\n"
     ]
    },
    {
     "name": "stdout",
     "output_type": "stream",
     "text": [
      "1.3302680908628023e-9\n"
     ]
    },
    {
     "name": "stdout",
     "output_type": "stream",
     "text": [
      "3.608798015350473e-11\n"
     ]
    },
    {
     "name": "stdout",
     "output_type": "stream",
     "text": [
      "2.446653850374692e-12\n"
     ]
    },
    {
     "name": "stdout",
     "output_type": "stream",
     "text": [
      "3.131216780299681e-13\n"
     ]
    },
    {
     "name": "stdout",
     "output_type": "stream",
     "text": [
      "0.4\t3.692883854126616e-6\t0.0003361996808280307\n"
     ]
    },
    {
     "name": "stdout",
     "output_type": "stream",
     "text": [
      "10.401843231481033\n"
     ]
    },
    {
     "name": "stdout",
     "output_type": "stream",
     "text": [
      "0.0395215896532613\n"
     ]
    },
    {
     "name": "stdout",
     "output_type": "stream",
     "text": [
      "4.142515748648128e-6\n"
     ]
    },
    {
     "name": "stdout",
     "output_type": "stream",
     "text": [
      "9.663395776382625e-8\n"
     ]
    },
    {
     "name": "stdout",
     "output_type": "stream",
     "text": [
      "3.237666657845124e-9\n"
     ]
    },
    {
     "name": "stdout",
     "output_type": "stream",
     "text": [
      "1.0869961782006052e-10\n"
     ]
    },
    {
     "name": "stdout",
     "output_type": "stream",
     "text": [
      "8.935441027107594e-12\n"
     ]
    },
    {
     "name": "stdout",
     "output_type": "stream",
     "text": [
      "1.3675548487335739e-12\n"
     ]
    },
    {
     "name": "stdout",
     "output_type": "stream",
     "text": [
      "2.402796920310034e-13\n"
     ]
    },
    {
     "name": "stdout",
     "output_type": "stream",
     "text": [
      "0.5\t5.771790083139162e-6\t0.0005254337567929249\n"
     ]
    },
    {
     "name": "stdout",
     "output_type": "stream",
     "text": [
      "10.403511754869356\n"
     ]
    },
    {
     "name": "stdout",
     "output_type": "stream",
     "text": [
      "0.04742591042482871\n"
     ]
    },
    {
     "name": "stdout",
     "output_type": "stream",
     "text": [
      "5.966622112779731e-6\n"
     ]
    },
    {
     "name": "stdout",
     "output_type": "stream",
     "text": [
      "1.668498724963891e-7\n"
     ]
    },
    {
     "name": "stdout",
     "output_type": "stream",
     "text": [
      "6.691797796770597e-9\n"
     ]
    },
    {
     "name": "stdout",
     "output_type": "stream",
     "text": [
      "2.665872730655156e-10\n",
      "2.539007223410898e-11\n"
     ]
    },
    {
     "name": "stdout",
     "output_type": "stream",
     "text": [
      "4.528090628838886e-12\n",
      "9.071573486119156e-13\n"
     ]
    },
    {
     "name": "stdout",
     "output_type": "stream",
     "text": [
      "0.6\t8.313763912940181e-6\t0.0007567947798262628\n"
     ]
    },
    {
     "name": "stdout",
     "output_type": "stream",
     "text": [
      "10.405423164899817\n",
      "0.05533023201300543\n"
     ]
    },
    {
     "name": "stdout",
     "output_type": "stream",
     "text": [
      "8.123473556254653e-6\n",
      "2.6473920941637976e-7\n"
     ]
    },
    {
     "name": "stdout",
     "output_type": "stream",
     "text": [
      "1.2355549916033434e-8\n",
      "5.674091206682099e-10\n"
     ]
    },
    {
     "name": "stdout",
     "output_type": "stream",
     "text": [
      "6.064365603260968e-11\n",
      "1.2203582132534394e-11\n"
     ]
    },
    {
     "name": "stdout",
     "output_type": "stream",
     "text": [
      "2.831027705108379e-12\n",
      "6.559064930926988e-13\n"
     ]
    },
    {
     "name": "stdout",
     "output_type": "stream",
     "text": [
      "0.7\t1.1319351371698298e-5\t0.0010303173104931845\n"
     ]
    },
    {
     "name": "stdout",
     "output_type": "stream",
     "text": [
      "10.4075773277494\n",
      "0.06323455435584874\n"
     ]
    },
    {
     "name": "stdout",
     "output_type": "stream",
     "text": [
      "1.061360986299254e-5\n",
      "3.948636108830702e-7\n"
     ]
    },
    {
     "name": "stdout",
     "output_type": "stream",
     "text": [
      "2.100478129177928e-8\n"
     ]
    },
    {
     "name": "stdout",
     "output_type": "stream",
     "text": [
      "1.0890794175944887e-9\n",
      "1.274852653807497e-10\n"
     ]
    },
    {
     "name": "stdout",
     "output_type": "stream",
     "text": [
      "2.8267699133431367e-11\n"
     ]
    },
    {
     "name": "stdout",
     "output_type": "stream",
     "text": [
      "7.41353489330265e-12\n"
     ]
    },
    {
     "name": "stdout",
     "output_type": "stream",
     "text": [
      "1.9230846372740926e-12\n"
     ]
    },
    {
     "name": "stdout",
     "output_type": "stream",
     "text": [
      "0.7999999999999999\t1.4789192077457765e-5\t0.0013460411119174142\n"
     ]
    },
    {
     "name": "stdout",
     "output_type": "stream",
     "text": [
      "10.409974092716594\n"
     ]
    },
    {
     "name": "stdout",
     "output_type": "stream",
     "text": [
      "0.07113887739115776\n"
     ]
    },
    {
     "name": "stdout",
     "output_type": "stream",
     "text": [
      "1.3437652695130025e-5\n"
     ]
    },
    {
     "name": "stdout",
     "output_type": "stream",
     "text": [
      "5.617716237813601e-7\n"
     ]
    },
    {
     "name": "stdout",
     "output_type": "stream",
     "text": [
      "3.352579069728301e-8\n"
     ]
    },
    {
     "name": "stdout",
     "output_type": "stream",
     "text": [
      "1.9324622292558137e-9\n"
     ]
    },
    {
     "name": "stdout",
     "output_type": "stream",
     "text": [
      "2.431646457114866e-10\n"
     ]
    },
    {
     "name": "stdout",
     "output_type": "stream",
     "text": [
      "5.83207775103664e-11\n"
     ]
    },
    {
     "name": "stdout",
     "output_type": "stream",
     "text": [
      "1.690100225173004e-11\n"
     ]
    },
    {
     "name": "stdout",
     "output_type": "stream",
     "text": [
      "4.893300422787924e-12\n"
     ]
    },
    {
     "name": "stdout",
     "output_type": "stream",
     "text": [
      "0.8999999999999999\t1.8724018208364276e-5\t0.0017040111133096384\n"
     ]
    },
    {
     "name": "stdout",
     "output_type": "stream",
     "text": [
      "10.412613292273795\n",
      "0.07904320105711171\n"
     ]
    },
    {
     "name": "stdout",
     "output_type": "stream",
     "text": [
      "1.6596305812516378e-5\n"
     ]
    },
    {
     "name": "stdout",
     "output_type": "stream",
     "text": [
      "7.699994952847952e-7\n"
     ]
    },
    {
     "name": "stdout",
     "output_type": "stream",
     "text": [
      "5.0912794653992995e-8\n"
     ]
    },
    {
     "name": "stdout",
     "output_type": "stream",
     "text": [
      "3.2242164599486277e-9\n",
      "4.2983666190875716e-10\n"
     ]
    },
    {
     "name": "stdout",
     "output_type": "stream",
     "text": [
      "1.0987304431606314e-10\n"
     ]
    },
    {
     "name": "stdout",
     "output_type": "stream",
     "text": [
      "3.452792074219574e-11\n",
      "1.1012306842836021e-11\n"
     ]
    },
    {
     "name": "stdout",
     "output_type": "stream",
     "text": [
      "0.9999999999999999\t2.3124653521304486e-5\t0.0021042773698508868\n",
      "done\n"
     ]
    }
   ],
   "source": [
    "function conv_test(ns, td=1, tdorder=0, ν=1, nl=2, fe_t=1, rec=1, recons=false )\n",
    "  for n in ns\n",
    "    run_main(scheme=1)\n",
    "  end\n",
    "end\n",
    "conv_test([8])"
   ]
  },
  {
   "cell_type": "code",
   "execution_count": 5,
   "metadata": {},
   "outputs": [],
   "source": []
  }
 ],
 "metadata": {
  "kernelspec": {
   "display_name": "Julia 1.7.3",
   "language": "julia",
   "name": "julia-1.7"
  },
  "language_info": {
   "file_extension": ".jl",
   "mimetype": "application/julia",
   "name": "julia",
   "version": "1.7.3"
  },
  "orig_nbformat": 4
 },
 "nbformat": 4,
 "nbformat_minor": 2
}
