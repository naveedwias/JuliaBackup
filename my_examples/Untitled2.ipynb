{
 "cells": [
  {
   "cell_type": "code",
   "execution_count": 3,
   "id": "979ec861",
   "metadata": {},
   "outputs": [],
   "source": [
    "using GradientRobustMultiPhysics\n",
    "using ExtendableGrids\n",
    "using GridVisualize\n",
    "\n",
    "const g = DataFunction([0,10]; name = \"g\")\n",
    "\n",
    "verbosity = 0\n",
    "E = 1000\n",
    "ν = 0.4\n",
    "Plotter = nothing\n",
    "\n"
   ]
  },
  {
   "cell_type": "code",
   "execution_count": 7,
   "id": "54a61139",
   "metadata": {},
   "outputs": [
    {
     "name": "stdout",
     "output_type": "stream",
     "text": [
      "Problem = \n",
      "PDE-DESCRIPTION\n",
      "===============\n",
      "  system name = linear elasticity problem\n",
      "\n",
      "      id    | unknown name / variables [#A, #T] / equation name\n",
      "     [1]    | u / [\"u\", \"v\"] / displacement equation \n",
      "\n",
      "  LHS block | PDEOperator(s)\n",
      "    [1,1]   | (ℂ(μ,λ) ϵ(u),ϵ(v)) (APT = BilinearForm, AT = ON_CELLS, regions = [0])\n",
      "\n",
      "  RHS block | PDEOperator(s)\n",
      "     [1]    | (g, id(v)) (APT = LinearForm, AT = ON_BFACES, regions = [2])\n",
      "\n",
      "   BoundaryOperators[1] : HomogeneousDirichletBoundary (bregions = [4])\n",
      "\n",
      "\n",
      "\n"
     ]
    },
    {
     "name": "stderr",
     "output_type": "stream",
     "text": [
      "\u001b[36m\u001b[1m┌ \u001b[22m\u001b[39m\u001b[36m\u001b[1mInfo: \u001b[22m\u001b[39m========== Solving linear elasticity problem ==========\n",
      "\u001b[36m\u001b[1m└ \u001b[22m\u001b[39m\tEquation (1.1) displacement equation for u (discretised by H1P1{2}, ndofs = 3738)\n",
      "\u001b[36m\u001b[1m[ \u001b[22m\u001b[39m\u001b[36m\u001b[1mInfo: \u001b[22m\u001b[39moverall residual = 5.417651094778756e-11\n",
      "\u001b[33m\u001b[1m┌ \u001b[22m\u001b[39m\u001b[33m\u001b[1mWarning: \u001b[22m\u001b[39mresidual was larger than desired target_residual = 1.0e-12!\n",
      "\u001b[33m\u001b[1m└ \u001b[22m\u001b[39m\u001b[90m@ GradientRobustMultiPhysics ~/OneDrive/ResearchWork/codes/JuliaFE_Julia23/src/solvers.jl:1388\u001b[39m\n"
     ]
    }
   ],
   "source": [
    "xgrid = simplexgrid(\"../assets/2d_grid_cookmembrane.sg\")\n",
    "xgrid = uniform_refine(xgrid,2)\n",
    "\n",
    "## compute Lame' coefficients from E and ν\n",
    "μ = (1/(1+ν))*E\n",
    "λ = (ν/(1-2*ν))*μ\n",
    "\n",
    "## PDE description via prototype and add data\n",
    "Problem = LinearElasticityProblem(2; shear_modulus = μ, lambda = λ)\n",
    "add_rhsdata!(Problem, 1, LinearForm(Identity, g; regions = [2], AT = ON_BFACES))\n",
    "add_boundarydata!(Problem, 1, [4], HomogeneousDirichletBoundary)\n",
    "\n",
    "## show and solve PDE\n",
    "@show Problem\n",
    "FEType = H1P1{2} # P1-Courant FEM will be used\n",
    "Solution = FEVector(\"u_h\",FESpace{FEType}(xgrid))\n",
    "solve!(Solution, Problem)\n",
    "\n",
    "    ## plot stress on displaced mesh\n",
    "displace_mesh!(xgrid, Solution[1]; magnify = 4)\n",
    "p = GridVisualizer(; Plotter = Plotter, layout = (1,2), clear = true, resolution = (1000,500))\n",
    "scalarplot!(p[1,1], xgrid, view(nodevalues(Solution[1]; abs = true),1,:), levels = 7, title = \"u_h\")\n",
    "vectorplot!(p[1,1], xgrid, evaluate(PointEvaluator(Solution[1], Identity)), spacing = 5, clear = false, title = \"u_h (abs + quiver)\")\n",
    "scalarplot!(p[1,2], xgrid, view(nodevalues(Solution[1], SymmetricGradient{1/√2}; abs = true),1,:), levels = 7, title = \"ϵ(u_h) (abs)\")\n"
   ]
  }
 ],
 "metadata": {
  "kernelspec": {
   "display_name": "Julia 1.7.3",
   "language": "julia",
   "name": "julia-1.7"
  },
  "language_info": {
   "file_extension": ".jl",
   "mimetype": "application/julia",
   "name": "julia",
   "version": "1.7.3"
  }
 },
 "nbformat": 4,
 "nbformat_minor": 5
}
