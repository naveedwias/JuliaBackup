{
 "cells": [
  {
   "cell_type": "markdown",
   "id": "53e0f242",
   "metadata": {},
   "source": [
    "Steady-state convection-diffusion equation\n",
    "\\begin{align*}\n",
    "        u'-\\nu \\Delta u + {\\bf \\beta} \\cdot \\nabla u + \\alpha u&= f, \\quad \\text{in } \\Omega \\\\\n",
    "u&=u^b \\quad \\text{on } \\Gamma_D \n",
    "\\end{align*}"
   ]
  },
  {
   "cell_type": "code",
   "execution_count": 1,
   "id": "f5bee22f",
   "metadata": {},
   "outputs": [],
   "source": [
    "using LinearAlgebra\n",
    "using GradientRobustMultiPhysics\n",
    "using ExtendableGrids\n",
    "using GridVisualize\n",
    "using ExtendableSparse\n",
    "using SparseArrays"
   ]
  },
  {
   "cell_type": "code",
   "execution_count": 2,
   "id": "a249a894",
   "metadata": {},
   "outputs": [
    {
     "data": {
      "text/plain": [
       "ReactionConvectionDiffusionOperator (generic function with 1 method)"
      ]
     },
     "execution_count": 2,
     "metadata": {},
     "output_type": "execute_result"
    }
   ],
   "source": [
    "function ReactionConvectionDiffusionOperator(α, β, ϵ)\n",
    "    function action_kernel!(result, input, x, t)\n",
    "        β.x = x\n",
    "        β.time = t\n",
    "        eval_data!( α )\n",
    "        eval_data!( β )\n",
    "        # α * u_h + β_1 * ∇_xu_h + β_2 ∇_y u_h\n",
    "        result[1] = α.val[1] * input[1] + β.val[1] * input[2] + β.val[2] * input[3]\n",
    "        # Laplacian\n",
    "        result[2] = ϵ * input[2]\n",
    "        result[3] = ϵ * input[3]\n",
    "        return nothing\n",
    "    end\n",
    "    action = Action(action_kernel!, [3, 3], dependencies = \"XT\", bonus_quadorder = max(α.bonus_quadorder, β.bonus_quadorder))\n",
    "    return BilinearForm([OperatorPair{Identity, Gradient}, OperatorPair{Identity, Gradient}], action;\n",
    "    name=\" ϵ(∇ u, ∇ v) + (α u + β⋅∇u, v)\", transposed_assembly = true)\n",
    "end"
   ]
  },
  {
   "cell_type": "code",
   "execution_count": 16,
   "id": "377ee8ea",
   "metadata": {},
   "outputs": [
    {
     "data": {
      "text/plain": [
       "DataFunction{Float64, Int32, true, true, false, false, 2, typeof(rhs!)}(\"f\", rhs!, [1, 2], [0.0, 0.0, 0.0], [0.0, 0.0, 0.0], Int32[0, 0, 0, 0, 0], 0.0, 3, [0.0], nothing, nothing)"
      ]
     },
     "execution_count": 16,
     "metadata": {},
     "output_type": "execute_result"
    }
   ],
   "source": [
    "α = DataFunction([0.0]; name = \"α\")\n",
    "β = DataFunction([0,0]; name = \"β\")\n",
    "function exact!(result, x, t)\n",
    "    result[1] = t*x[1]\n",
    "end\n",
    "\n",
    "u = DataFunction(exact!, [1,2]; name=\"u\", dependencies=\"XT\", bonus_quadorder=4)\n",
    "dt_u = eval_dt(u)\n",
    "∇u = eval_∇(u)\n",
    "Δu = eval_Δ(u)\n",
    "function rhs!(result, x, t)\n",
    "    result[1] = dt_u(x,t)[1]-ν*Δu(x,t)[1] + dot(β(), ∇u(x,t))[1] + dot(α(), u(x,t)[1]) # α * u(x,t)[1]\n",
    "    return nothing\n",
    "end\n",
    "f = DataFunction(rhs!, [1,2]; name = \"f\", dependencies = \"XT\", bonus_quadorder = 3)"
   ]
  },
  {
   "cell_type": "code",
   "execution_count": 4,
   "id": "73390b32",
   "metadata": {},
   "outputs": [
    {
     "data": {
      "text/plain": [
       "H1Pk{1,2,2}"
      ]
     },
     "execution_count": 4,
     "metadata": {},
     "output_type": "execute_result"
    }
   ],
   "source": [
    "space_order = 2\n",
    "nlevels = 3\n",
    "ν = 1\n",
    "nsteps=10\n",
    "xgrid = grid_unitsquare(Triangle2D)\n",
    "# choose a finite element type\n",
    "FEType = H1Pk{1, 2, space_order}\n",
    "#TODO: fix from the problem data"
   ]
  },
  {
   "cell_type": "code",
   "execution_count": 5,
   "id": "d4686046",
   "metadata": {},
   "outputs": [],
   "source": [
    "FES = FESpace{FEType}(xgrid)\n",
    "for level = 1 : nlevels\n",
    "    # refine the grid \n",
    "    xgrid = uniform_refine(xgrid)\n",
    "    # generate FE spaces\n",
    "    FES = FESpace{FEType}(xgrid)\n",
    "end"
   ]
  },
  {
   "cell_type": "code",
   "execution_count": 17,
   "id": "9776818d",
   "metadata": {},
   "outputs": [
    {
     "name": "stdout",
     "output_type": "stream",
     "text": [
      "\n",
      "FESpace information\n",
      "===================\n",
      "     name = H1Pk{1,2,2}\n",
      "   FEType = H1Pk{1,2,2}\n",
      "  FEClass = AbstractH1FiniteElement\n",
      "    ndofs = 545\n",
      "\n",
      "\n",
      "DofMaps\n",
      "==========\n",
      "> CellDofs\n",
      "> BFaceDofs\n",
      "> FaceDofs\n",
      "FES = \n"
     ]
    },
    {
     "data": {
      "text/plain": [
       "\n",
       "FEVector information\n",
       "====================\n",
       "   block  |  ndofs  | name (FEType) \n",
       " [    1]  |     545 | u_h [#1] (H1Pk{1,2,2})\n"
      ]
     },
     "execution_count": 17,
     "metadata": {},
     "output_type": "execute_result"
    }
   ],
   "source": [
    "@show FES\n",
    "Solution = FEVector(\"u_h\", FES)\n",
    "n_dofs = FES.ndofs\n",
    "interpolate!(Solution[1], u; time = 0.)\n",
    "oldSol = FEVector(\"u_h\", FES)\n",
    "oldSol = Solution\n",
    "oldSol2 = FEVector(\"u_h\", FES)\n",
    "oldSol2 = Solution"
   ]
  },
  {
   "cell_type": "code",
   "execution_count": 18,
   "id": "aa0d9a87",
   "metadata": {},
   "outputs": [
    {
     "name": "stdout",
     "output_type": "stream",
     "text": [
      "545  545\n"
     ]
    }
   ],
   "source": [
    "M = FEMatrix{Float64}(FES)\n",
    "# assemble_operator!(M[1,1], BilinearForm([test_operator, Identity]))\n",
    "assemble_operator!(M[1,1], BilinearForm([Identity, Identity]))\n",
    "    \n",
    "# println(size(M[1,1]))\n",
    "println(FES.ndofs, \"  \", n_dofs)\n",
    "\n",
    "A = FEMatrix{Float64}(FES)\n",
    "assemble_operator!(A[1,1], ReactionConvectionDiffusionOperator(α, β, ν); time=0.0)\n",
    "# @show A.entries\n",
    "\n",
    "rhs = FEVector{Float64}( FES)\n",
    "ff = DataFunction([0.])\n",
    "assemble_operator!(rhs[1], LinearForm(Identity, f); time=0.0)"
   ]
  },
  {
   "cell_type": "code",
   "execution_count": 19,
   "id": "9e2d870b",
   "metadata": {},
   "outputs": [],
   "source": [
    "dt = Array{BoundaryData,1}(undef,0)\n",
    "push!(dt,BoundaryData(BestapproxDirichletBoundary; regions = [1,2,3,4], data=u));"
   ]
  },
  {
   "cell_type": "code",
   "execution_count": 20,
   "id": "73a9e106",
   "metadata": {},
   "outputs": [
    {
     "name": "stdout",
     "output_type": "stream",
     "text": [
      "16.174884861721466\n",
      "rMax: 9.498610557392498 tauMax: 0.1911379963207893\n",
      "rMin: 0.1102305932851258 tauMin: 0.008738049591308342\n"
     ]
    }
   ],
   "source": [
    "e = rand(1,nsteps)\n",
    "tua = e/sum(e)\n",
    "b0 = 1/tua[1];\n",
    "println(b0)\n",
    "a2 = b0; \n",
    "a1 =-b0; \n",
    "b1 = zero(0.0)\n",
    "a0 = zero(0.0);\n",
    "r = tua[2:end]./tua[1:end-1]\n",
    "tauMax = maximum(tua)\n",
    "tauMin = minimum(tua)\n",
    "rMax = maximum(r)\n",
    "rMin = minimum(r)\n",
    "\n",
    "println(\"rMax: \", rMax, \" tauMax: \", tauMax)\n",
    "println(\"rMin: \", rMin, \" tauMin: \", tauMin)"
   ]
  },
  {
   "cell_type": "code",
   "execution_count": 21,
   "id": "0d95254c",
   "metadata": {},
   "outputs": [
    {
     "data": {
      "text/plain": [
       "\n",
       "FEVector information\n",
       "====================\n",
       "   block  |  ndofs  | name (FEType) \n",
       " [    1]  |     545 | #1 (H1Pk{1,2,2})\n"
      ]
     },
     "execution_count": 21,
     "metadata": {},
     "output_type": "execute_result"
    }
   ],
   "source": [
    "V1 = zeros(Float64, FES.ndofs,1)\n",
    "SystemMatrix = FEMatrix{Float64}(FES);\n",
    "SystemRHS = FEVector{Float64}(FES)\n",
    "SystemSol = FEVector{Float64}(FES)"
   ]
  },
  {
   "cell_type": "code",
   "execution_count": 22,
   "id": "abfb0b91",
   "metadata": {},
   "outputs": [],
   "source": [
    "Mu0 = zeros(Float64, FES.ndofs);\n",
    "Muold = zeros(Float64, FES.ndofs);\n",
    "Auold = zeros(Float64, FES.ndofs);"
   ]
  },
  {
   "cell_type": "code",
   "execution_count": 23,
   "id": "8b005fed",
   "metadata": {},
   "outputs": [
    {
     "name": "stdout",
     "output_type": "stream",
     "text": [
      "L2 error: 4.010073692789383e-16 accom 7.050448699232891e-17\n",
      "L2 error: 0.010335152069481272 accom 0.002203993492968847\n",
      "L2 error: 0.013918030010208905 accom 0.003429636222903272\n",
      "L2 error: 0.021007174671611784 accom 0.007295920358761014\n",
      "L2 error: 0.020351069838712425 accom 0.008100495986081133\n",
      "L2 error: 0.017668046573309656 accom 0.0053654598791279895\n",
      "L2 error: 0.015918453298971916 accom 0.0015719200572003806\n",
      "L2 error: 0.02400851029673667 accom 0.005868275685695036\n",
      "L2 error: 0.022724672942032644 accom 0.006844567909360926\n",
      "L2 error: 0.025686843692017538 accom 0.010602387283635283\n"
     ]
    }
   ],
   "source": [
    "t0 = zero(0.0)\n",
    "n = 1\n",
    "oldL2 = zero(0.0)\n",
    "while n <= nsteps\n",
    "    tau = tua[n]\n",
    "    # assemble rhs\n",
    "    fill!(rhs.entries, 0)\n",
    "    assemble_operator!(rhs[1], LinearForm(Identity, f), time = t0 + tau)\n",
    "    V1[:] = rhs.entries\n",
    "    # assemble stiffness matrix\n",
    "    fill!(A.entries.cscmatrix.nzval, 0)\n",
    "    assemble_operator!(A[1, 1], ReactionConvectionDiffusionOperator(α, β, ν); time=t0 + tau)\n",
    "    # prepare the system right hand side\n",
    "    Mu0[:] = M.entries*oldSol[1].entries\n",
    "    Muold[:] = M.entries*oldSol2[1].entries\n",
    "    Auold[:] = A.entries*oldSol[1].entries\n",
    "    fill!(SystemRHS.entries, 0)\n",
    "    addblock!(SystemRHS[1], Mu0; factor= - a1)\n",
    "    addblock!(SystemRHS[1], Muold; factor= - a0)\n",
    "    addblock!(SystemRHS[1], Auold; factor= 0.5)\n",
    "    addblock!(SystemRHS[1], V1[:]; factor= 1.0)\n",
    "    # prepare system matrix\n",
    "    fill!(SystemMatrix.entries.cscmatrix.nzval, 0)\n",
    "    addblock!(SystemMatrix[1,1], M[1, 1]; factor= a2)\n",
    "    addblock!(SystemMatrix[1,1], A[1, 1]; factor= 1.5)\n",
    "    \n",
    "    # set dirichlet dofs\n",
    "    dt = Array{BoundaryData,1}(undef,0)\n",
    "    push!(dt,BoundaryData(BestapproxDirichletBoundary; regions = [1,2,3,4], data=u));\n",
    "    dofs = boundarydata!(SystemSol[1], dt; time = t0 + tau)\n",
    "    for dof in dofs\n",
    "        SystemRHS[1][dof] = 1e60 * SystemSol[1][dof]\n",
    "        SystemMatrix[1,1][dof,dof] = 1e60\n",
    "    end\n",
    "    #solve the system\n",
    "    flush!(SystemMatrix.entries)\n",
    "    SystemSol.entries[:] = SystemMatrix.entries \\ SystemRHS.entries\n",
    "    for j = 1 : n_dofs\n",
    "      Solution[1][j] = SystemSol[1][j]\n",
    "    end\n",
    "    oldSol2 = oldSol\n",
    "    oldSol = Solution\n",
    "    #computation of errors\n",
    "    L2Error = L2ErrorIntegrator(u, Identity; time = t0+tau)\n",
    "    l2 = evaluate(L2Error, Solution[1])\n",
    "    accumL2 = 0.5*tau*(l2+oldL2)\n",
    "    oldL2 = l2\n",
    "    H1Error = L2ErrorIntegrator(∇(u), Gradient; time = t0+tau)\n",
    "    h1 = evaluate(H1Error, Solution[1])\n",
    "    println(\"L2 error: \", sqrt(l2), \" accom \", sqrt(accumL2))\n",
    "    #println(\"H1 error: \", sqrt(h1))\n",
    "    #update time step\n",
    "    t0 = t0 + tau\n",
    "    n = n + 1\n",
    "    if(n != nsteps+1)\n",
    "        b0 = (1+2*r[n-1])/(tua[n]*(1+r[n-1]));\n",
    "        b1 = -(r[n-1]^2)/(tua[n]*(1+r[n-1]));\n",
    "        a2 = b0; a1=(b1-b0);a0=-b1;\n",
    "    end\n",
    "end"
   ]
  },
  {
   "cell_type": "code",
   "execution_count": 25,
   "id": "1e94fc46",
   "metadata": {},
   "outputs": [
    {
     "name": "stdout",
     "output_type": "stream",
     "text": [
      "L2 error: 0.2750295720646485 accom 0.06149848189592313\n",
      "L2 error: 0.09170598947110369 accom 0.06482717563450449\n",
      "L2 error: 0.03081804507986438 accom 0.02163300765892105\n",
      "L2 error: 0.01036209862800054 accom 0.007270230362653456\n",
      "L2 error: 0.0034842370754181932 accom 0.0024445142255070784\n",
      "L2 error: 0.0011715719524139738 accom 0.000821963771628708\n",
      "L2 error: 0.0003939402271033154 accom 0.00027638467235117275\n",
      "L2 error: 0.00013246212048242278 accom 9.293414762424832e-5\n",
      "L2 error: 4.454029362760902e-5 accom 3.1249040880588254e-5\n",
      "L2 error: 1.497664200376351e-5 accom 1.0507467730482264e-5\n"
     ]
    }
   ],
   "source": [
    "t0 = zero(0.0)\n",
    "n = 1\n",
    "oldL2 = zero(0.0)\n",
    "l2 = zero(0.0)\n",
    "tau = 1.0/nsteps\n",
    "while n <= nsteps\n",
    "    # tau = tua[n]\n",
    "    # assemble rhs\n",
    "    fill!(rhs.entries, 0)\n",
    "    assemble_operator!(rhs[1], LinearForm(Identity, f), time = t0 + tau)\n",
    "    V1[:] = rhs.entries\n",
    "    # assemble stiffness matrix\n",
    "    fill!(A.entries.cscmatrix.nzval, 0)\n",
    "    assemble_operator!(A[1, 1], ReactionConvectionDiffusionOperator(α, β, ν); time=t0 + tau)\n",
    "    # prepare the system right hand side\n",
    "    Mu0[:] = M.entries*Solution[1].entries\n",
    "    \n",
    "    fill!(SystemRHS.entries, 0)\n",
    "    addblock!(SystemRHS[1], Mu0; factor= 1.0)\n",
    "    addblock!(SystemRHS[1], V1[:]; factor= tau)\n",
    "    # prepare system matrix\n",
    "    fill!(SystemMatrix.entries.cscmatrix.nzval, 0)\n",
    "    addblock!(SystemMatrix[1,1], M[1, 1]; factor= 1.0)\n",
    "    addblock!(SystemMatrix[1,1], A[1, 1]; factor= tau)\n",
    "    \n",
    "    # set dirichlet dofs\n",
    "    dt = Array{BoundaryData,1}(undef,0)\n",
    "    push!(dt,BoundaryData(BestapproxDirichletBoundary; regions = [1,2,3,4], data=u));\n",
    "    dofs = boundarydata!(SystemSol[1], dt; time = t0 + tau)\n",
    "    for dof in dofs\n",
    "        SystemRHS[1][dof] = 1e60 * SystemSol[1][dof]\n",
    "        SystemMatrix[1,1][dof,dof] = 1e60\n",
    "    end\n",
    "    #solve the system\n",
    "    flush!(SystemMatrix.entries)\n",
    "    Solution.entries[:] = SystemMatrix.entries \\ SystemRHS.entries\n",
    "    #for j = 1 : n_dofs\n",
    "    #  Solution[1][j] = SystemSol[1][j]\n",
    "    #end\n",
    "    #computation of errors\n",
    "    L2Error = L2ErrorIntegrator(u, Identity; time = t0+tau)\n",
    "    l2 = evaluate(L2Error, Solution[1])\n",
    "    accumL2 = 0.5*tau*(l2+oldL2)\n",
    "    oldL2 = l2\n",
    "    H1Error = L2ErrorIntegrator(∇(u), Gradient; time = t0+tau)\n",
    "    h1 = evaluate(H1Error, Solution[1])\n",
    "    println(\"L2 error: \", sqrt(l2), \" accom \", sqrt(accumL2))\n",
    "    #println(\"H1 error: \", sqrt(h1))\n",
    "    #update time step\n",
    "    t0 = t0 + tau\n",
    "    n = n + 1    \n",
    "end"
   ]
  },
  {
   "cell_type": "code",
   "execution_count": null,
   "id": "841bd22d",
   "metadata": {},
   "outputs": [],
   "source": []
  }
 ],
 "metadata": {
  "kernelspec": {
   "display_name": "Julia 1.7.3",
   "language": "julia",
   "name": "julia-1.7"
  },
  "language_info": {
   "file_extension": ".jl",
   "mimetype": "application/julia",
   "name": "julia",
   "version": "1.7.3"
  }
 },
 "nbformat": 4,
 "nbformat_minor": 5
}
