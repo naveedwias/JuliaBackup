{
 "cells": [
  {
   "cell_type": "markdown",
   "metadata": {},
   "source": [
    "Finite element discretization of the evolutionary convection-diffusion-reaction equations\n",
    "\\begin{align*}\n",
    "u_t-\\varepsilon \\Delta u + {\\bf \\beta} \\cdot \\nabla u &= 0, \\quad \\text{in } \\Omega \\\\\n",
    "u&=u^b \\quad \\text{on } \\Gamma_D \\\\\n",
    "-\\varepsilon \\nabla u \\cdot {\\bf n} &=0 \\quad \\text{on } \\Gamma_N\n",
    "\\end{align*}"
   ]
  },
  {
   "cell_type": "markdown",
   "metadata": {},
   "source": [
    "leads to the following semidiscrete problem: Find \n",
    "$u_h:(0,T)\\rightarrow V_h$ with $u_h(0) = u_{h,0}$ such that\n",
    "\n",
    "\\begin{align*}\n",
    "(u_{h,t}, v_h) + a(u_h, v_h) + d_h^D(u_h,u_h,v_h) + d_h^M(u_h;u_h,v_h) = (f,v_h)\n",
    "\\end{align*}\n",
    "where \n",
    "\n",
    "$$\n",
    "a(u_h,v_h) = \\varepsilon (\\nabla u_h, \\nabla v_h) +({\\bf b}\\cdot \\nabla u_h,v_h) + \\sigma (u_h,v_h) \\\\\n",
    "d_h^D(u_h;u_h,v_h) = \\sum_{i,j=1}^N d_{ij}(1-\\alpha_{ij})(u_h^j-u_h^i)v_h^i\\\\\n",
    "d_h^M(u_h;u_h,v_h) = \\sum_{i,j=1}^N m_{ij}(1-\\alpha_{ij})(u_{h,t}^i-u_{h,t}^j)v_h^i\\\\\n",
    "$$\n"
   ]
  },
  {
   "cell_type": "code",
   "execution_count": null,
   "metadata": {},
   "outputs": [],
   "source": []
  }
 ],
 "metadata": {
  "kernelspec": {
   "display_name": "Julia 1.8.5",
   "language": "julia",
   "name": "julia-1.8"
  },
  "language_info": {
   "file_extension": ".jl",
   "mimetype": "application/julia",
   "name": "julia",
   "version": "1.8.5"
  }
 },
 "nbformat": 4,
 "nbformat_minor": 4
}
