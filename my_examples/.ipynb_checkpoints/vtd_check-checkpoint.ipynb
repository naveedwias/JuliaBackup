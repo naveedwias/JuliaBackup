{
 "cells": [
  {
   "cell_type": "code",
   "execution_count": 1,
   "id": "4a4ed357",
   "metadata": {},
   "outputs": [
    {
     "data": {
      "text/plain": [
       "Main.VariationalTimeDisc"
      ]
     },
     "execution_count": 1,
     "metadata": {},
     "output_type": "execute_result"
    }
   ],
   "source": [
    "include(\"../src/variationaltimedisc.jl\")"
   ]
  },
  {
   "cell_type": "code",
   "execution_count": 2,
   "id": "f517cc53",
   "metadata": {
    "scrolled": true
   },
   "outputs": [
    {
     "name": "stdout",
     "output_type": "stream",
     "text": [
      "\n",
      "VariationalTimeDisc(r=1, k=0): dG(1)\n",
      "[1.125 0.375; -1.125 0.625]\n"
     ]
    },
    {
     "data": {
      "text/plain": [
       "Main.VariationalTimeDisc.TimeDiscretization{Float64, Int64}(0, 1, [2, 1, 3, 1, 3, 1], [3, 2, 3, 3, 3, 3], [-0.3333333333333333, 1.0], [0.75 0.25; -2.25 1.25], [1.0 1.3877787807814457e-17; 4.163336342344337e-17 1.0], 5, [-0.906179845938664, -0.5384693101056831, 0.0, 0.5384693101056831, 0.906179845938664, 1.0], [0.23692688505618903, 0.4786286704993666, 0.5688888888888887, 0.47862867049936647, 0.2369268850561891], [1.0, -1.0], [1.429634884453998 1.1538519825792624 … 0.07036511554600203 0.0; -0.429634884453998 -0.15385198257926233 … 0.929634884453998 1.0], [-0.75 -0.75 … -0.75 -0.75; 0.75 0.75 … 0.75 0.75], 0, [0.8189613578583975 0.23669655349710927 … -0.08721848808026646 -1.1102230246251565e-16; 0.08522438919304501 0.2730978419018125 … 0.004194654214244614 0.0], [-1.8592697689079958 -1.3077039651585245 … 0.8592697689079958 0.9999999999999998; 0.8189613578583975 0.23669655349710927 … -0.08721848808026636 0.0], [1.5 -0.75; -0.5 0.75], [0.0 -0.75; 1.0 0.75], [-1.9999999999999998 1.4999999999999998; -2.0 0.0], [-1.1102230246251565e-16 0.9999999999999998; 0.0 0.0])"
      ]
     },
     "execution_count": 2,
     "metadata": {},
     "output_type": "execute_result"
    }
   ],
   "source": [
    "TD = Main.VariationalTimeDisc.SetVariationalTimeDisc(Float64, 2, 0)"
   ]
  },
  {
   "cell_type": "code",
   "execution_count": 3,
   "id": "32930d45",
   "metadata": {},
   "outputs": [
    {
     "data": {
      "text/plain": [
       "2×2 Matrix{Float64}:\n",
       "  1.125  0.375\n",
       " -1.125  0.625"
      ]
     },
     "execution_count": 3,
     "metadata": {},
     "output_type": "execute_result"
    }
   ],
   "source": [
    "[1.125 0.375; -1.125 0.625]"
   ]
  },
  {
   "cell_type": "code",
   "execution_count": 54,
   "id": "fac6244c",
   "metadata": {},
   "outputs": [
    {
     "data": {
      "text/plain": [
       "4×4 Matrix{Float64}:\n",
       " -0.177359   0.85246     -0.61141  0.0\n",
       " -1.25742   -1.31255      1.74426  0.0\n",
       "  1.90353   -0.00866226  -2.2266   0.0\n",
       " -0.46875    0.46875      1.09375  0.0"
      ]
     },
     "execution_count": 54,
     "metadata": {},
     "output_type": "execute_result"
    }
   ],
   "source": [
    "B=[-0.17735889242798492 0.8524599130654945 -0.6114099274591132 0.0; -1.2574230254707714 -1.312547649665525 1.7442613230712831 0.0; 1.9035319178987566 -0.008662263399969339 -2.22660139561217 0.0; -0.4687500000000001 0.46875 1.0937500000000002 0.0]"
   ]
  },
  {
   "cell_type": "code",
   "execution_count": 57,
   "id": "05be9e66",
   "metadata": {},
   "outputs": [
    {
     "data": {
      "text/plain": [
       "4×4 Matrix{Float64}:\n",
       " -0.177359   1.70492    -1.83423  0.0\n",
       " -1.25742   -2.6251      5.23278  0.0\n",
       "  1.90353   -0.0173245  -6.6798   0.0\n",
       " -0.46875    0.9375      3.28125  0.0"
      ]
     },
     "execution_count": 57,
     "metadata": {},
     "output_type": "execute_result"
    }
   ],
   "source": [
    "C=[-0.17735889242798492 1.704919826130989 -1.8342297823773395 0.0; -1.2574230254707714 -2.62509529933105 5.232783969213849 0.0; 1.9035319178987566 -0.017324526799938678 -6.679804186836511 0.0; -0.4687500000000001 0.9375 3.281250000000001 0.0]"
   ]
  },
  {
   "cell_type": "code",
   "execution_count": 23,
   "id": "5567f73a",
   "metadata": {},
   "outputs": [
    {
     "ename": "LoadError",
     "evalue": "syntax: invalid syntax \"2./\"; add space(s) to clarify",
     "output_type": "error",
     "traceback": [
      "syntax: invalid syntax \"2./\"; add space(s) to clarify",
      "",
      "Stacktrace:",
      " [1] top-level scope",
      "   @ In[23]:2"
     ]
    }
   ],
   "source": [
    "N=zeros(10)\n",
    "N[1:2:5]= 2.//5\n",
    "println(N)"
   ]
  },
  {
   "cell_type": "code",
   "execution_count": 35,
   "id": "d7050176",
   "metadata": {},
   "outputs": [
    {
     "data": {
      "text/plain": [
       "5×5 Matrix{Float64}:\n",
       "  1.0        1.0        1.0          1.0       1.0\n",
       " -0.885792  -0.446314   0.167181     0.72048   1.0\n",
       "  0.784627   0.199196   0.0279494    0.519092  1.0\n",
       " -0.695016  -0.088904   0.00467261   0.373995  1.0\n",
       "  0.615639   0.0396791  0.000781171  0.269456  1.0"
      ]
     },
     "execution_count": 35,
     "metadata": {},
     "output_type": "execute_result"
    }
   ],
   "source": [
    "A=[1.0 1.0 1.0 1.0 1.0; -0.8857916077709647 -0.4463139727237524 0.16718086473783364 0.7204802713124389 1.0; 0.7846267723974705 0.1991961622484584 0.027949441534489826 0.5190918213504455 1.0; -0.6950158102220981 -0.08890403052443462 0.004672611804675533 0.37399541628263705 1.0; 0.6156391719628719 0.03967911105451417 0.000781171282089865 0.2694563189929228 1.0]"
   ]
  },
  {
   "cell_type": "code",
   "execution_count": 4,
   "id": "2724d1fd",
   "metadata": {},
   "outputs": [
    {
     "data": {
      "text/plain": [
       "5×5 Matrix{Float64}:\n",
       "  1.0        1.0        1.0          1.0       1.0\n",
       " -0.885792  -0.446314   0.167181     0.72048   1.0\n",
       "  0.784627   0.199196   0.0279494    0.519092  1.0\n",
       " -0.695016  -0.088904   0.00467261   0.373995  1.0\n",
       "  0.615639   0.0396791  0.000781171  0.269456  1.0"
      ]
     },
     "execution_count": 4,
     "metadata": {},
     "output_type": "execute_result"
    }
   ],
   "source": [
    "B=[1 1 1 1 1 ;\n",
    "-0.885791607770964 -0.446313972723752 0.167180864737833 0.720480271312439 1 ;\n",
    "0.78462677239747 0.199196162248458 0.0279494415344898 0.519091821350446 1 ;\n",
    "-0.695015810222098 -0.0889040305244345 0.00467261180467551 0.373995416282637 1 ;\n",
    "0.615639171962871 0.0396791110545141 0.000781171282089861 0.269456318992923 1 ]"
   ]
  },
  {
   "cell_type": "code",
   "execution_count": 5,
   "id": "044ac9dc",
   "metadata": {},
   "outputs": [
    {
     "data": {
      "text/plain": [
       "5×5 Matrix{Float64}:\n",
       " -0.0383515   0.235054   0.118155  -1.02826    0.713401\n",
       "  0.234496   -1.69789    1.45928    2.20195   -2.19784\n",
       "  0.956875    0.939217  -3.95078   -1.3047     3.3594\n",
       " -0.22802     0.823616   3.42335   -0.568984  -3.44996\n",
       "  0.075      -0.3       -1.05       0.7        1.575"
      ]
     },
     "execution_count": 5,
     "metadata": {},
     "output_type": "execute_result"
    }
   ],
   "source": [
    "inv(B)"
   ]
  },
  {
   "cell_type": "code",
   "execution_count": 42,
   "id": "0fa7e193",
   "metadata": {},
   "outputs": [],
   "source": [
    "using LinearAlgebra"
   ]
  },
  {
   "cell_type": "code",
   "execution_count": 46,
   "id": "dbc550f6",
   "metadata": {},
   "outputs": [
    {
     "data": {
      "text/plain": [
       "5×5 Matrix{Float64}:\n",
       "  1.0        1.0        1.0          1.0       1.0\n",
       " -0.885792  -0.446314   0.167181     0.72048   1.0\n",
       "  0.784627   0.199196   0.0279494    0.519092  1.0\n",
       " -0.695016  -0.088904   0.00467261   0.373995  1.0\n",
       "  0.615639   0.0396791  0.000781171  0.269456  1.0"
      ]
     },
     "execution_count": 46,
     "metadata": {},
     "output_type": "execute_result"
    }
   ],
   "source": [
    "B"
   ]
  },
  {
   "cell_type": "code",
   "execution_count": 2,
   "id": "f350fcc8",
   "metadata": {},
   "outputs": [
    {
     "data": {
      "text/plain": [
       "3×3 Matrix{Int64}:\n",
       " 1  2  3\n",
       " 4  5  6\n",
       " 7  8  8"
      ]
     },
     "execution_count": 2,
     "metadata": {},
     "output_type": "execute_result"
    }
   ],
   "source": [
    "t=[1 2 3; 4 5 6; 7 8 8]"
   ]
  },
  {
   "cell_type": "code",
   "execution_count": 3,
   "id": "aab31a76",
   "metadata": {},
   "outputs": [
    {
     "data": {
      "text/plain": [
       "3×3 Matrix{Float64}:\n",
       " -2.66667   2.66667  -1.0\n",
       "  3.33333  -4.33333   2.0\n",
       " -1.0       2.0      -1.0"
      ]
     },
     "execution_count": 3,
     "metadata": {},
     "output_type": "execute_result"
    }
   ],
   "source": [
    "inv(t)"
   ]
  }
 ],
 "metadata": {
  "kernelspec": {
   "display_name": "Julia 1.7.3",
   "language": "julia",
   "name": "julia-1.7"
  },
  "language_info": {
   "file_extension": ".jl",
   "mimetype": "application/julia",
   "name": "julia",
   "version": "1.7.3"
  }
 },
 "nbformat": 4,
 "nbformat_minor": 5
}
