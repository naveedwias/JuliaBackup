{
 "cells": [
  {
   "cell_type": "markdown",
   "metadata": {},
   "source": [
    "Steady-state convection-diffusion equation\n",
    "\\begin{align*}\n",
    "-\\varepsilon \\Delta u + {\\bf \\beta} \\cdot \\nabla u &= 0, \\quad \\text{in } \\Omega \\\\\n",
    "u&=u^b \\quad \\text{on } \\Gamma_D \\\\\n",
    "-\\varepsilon \\nabla u \\cdot {\\bf n} &=0 \\quad \\text{on } \\Gamma_N\n",
    "\\end{align*}"
   ]
  },
  {
   "cell_type": "code",
   "execution_count": 4,
   "metadata": {},
   "outputs": [],
   "source": [
    "using LinearAlgebra\n",
    "using GradientRobustMultiPhysics\n",
    "using ExtendableGrids\n",
    "using GridVisualize\n",
    "using ExtendableSparse\n",
    "using SparseArrays"
   ]
  },
  {
   "cell_type": "markdown",
   "metadata": {},
   "source": [
    "Consider the smooth solution \n",
    "$$\n",
    "u(x,y) := xy(x-1)(y-1) + x\n",
    "$$"
   ]
  },
  {
   "cell_type": "code",
   "execution_count": 11,
   "metadata": {},
   "outputs": [
    {
     "data": {
      "text/plain": [
       "get_problem_data (generic function with 1 method)"
      ]
     },
     "execution_count": 11,
     "metadata": {},
     "output_type": "execute_result"
    }
   ],
   "source": [
    "function get_problem_data(ν)\n",
    "    α = DataFunction([0.1]; name = \"α\")\n",
    "    β = DataFunction([1, 0]; name = \"β\")\n",
    "    function exact_u!(result,x)\n",
    "        result[1] = x[1]*x[2]*(x[1]-1)*(x[2]-1) + x[1]\n",
    "    end\n",
    "    u = DataFunction(exact_u!, [1,2]; name = \"u\", dependencies = \"X\", bonus_quadorder = 4)\n",
    "    ∇u = eval_∇(u) # handler for easy eval of AD jacobian\n",
    "    Δu = eval_Δ(u) # handler for easy eval of AD Laplacian\n",
    "    function rhs!(result, x) # computes -νΔu + β⋅∇u + αu\n",
    "        result[1] = -ν*Δu(x)[1] + dot(β(), ∇u(x)) + dot(α(), u(x))\n",
    "        return nothing\n",
    "    end    \n",
    "    f = DataFunction(rhs!, [1,2]; name = \"f\", dependencies = \"X\", bonus_quadorder = 3)\n",
    "    return α, β, u, ∇(u), f\n",
    "end"
   ]
  },
  {
   "cell_type": "code",
   "execution_count": 5,
   "metadata": {},
   "outputs": [
    {
     "data": {
      "text/plain": [
       "ReactionConvectionDiffusionOperator (generic function with 1 method)"
      ]
     },
     "execution_count": 5,
     "metadata": {},
     "output_type": "execute_result"
    }
   ],
   "source": [
    "## custom bilinearform that can assemble the full PDE operator\n",
    "function ReactionConvectionDiffusionOperator(α, β, ν)\n",
    "    function action_kernel!(result, input)\n",
    "        ## input = [u,∇u] as a vector of length 3\n",
    "        result[1] = α()[1] * input[1] + dot(β(), view(input, 2:3))\n",
    "        result[2] = ν * input[2]\n",
    "        result[3] = ν * input[3]\n",
    "        ## result will be multiplied with [v,∇v]\n",
    "        return nothing\n",
    "    end\n",
    "    action = Action(action_kernel!, [3,3]; bonus_quadorder = max(α.bonus_quadorder,β.bonus_quadorder))\n",
    "    return BilinearForm([OperatorPair{Identity,Gradient},OperatorPair{Identity,Gradient}], action; \n",
    "        name = \"ν(∇u,∇v) + (αu + β⋅∇u, v)\", transposed_assembly = true)\n",
    "end"
   ]
  },
  {
   "cell_type": "markdown",
   "metadata": {},
   "source": [
    "Linear system of equations\n",
    "\\begin{align*}\n",
    "A u = f \\quad \\text{with } A=(a_{ij})_{i,j=1}^n\\in \\mathbb{R}^{n\\times n} \\\\\n",
    "\\sum_{j=1}^n a_{ij}u_j = f_i, \\qquad i=1,\\ldots,n\n",
    "\\end{align*}\n",
    "\n",
    "Define a symmetric artificial diffusion matrix $D$\n",
    "$$\n",
    "D = d_{ij} = d_{ji} = -\\max\\{a_{ij}, 0, a_{ji}\\}, \\text{ for } i\\neq j, \\quad d_{ii}=\\sum_{j=2, j\\neq i}^n d_{ij}\n",
    "$$"
   ]
  },
  {
   "cell_type": "code",
   "execution_count": 6,
   "metadata": {},
   "outputs": [
    {
     "data": {
      "text/plain": [
       "compute_matrix_D (generic function with 1 method)"
      ]
     },
     "execution_count": 6,
     "metadata": {},
     "output_type": "execute_result"
    }
   ],
   "source": [
    "function compute_matrix_D(A)\n",
    "    # run over all dofs\n",
    "    # loop over ....ndofs = \n",
    "    # {  \n",
    "    # loop i over rowptr\n",
    "    # {\n",
    "    #   col_index != i\n",
    "    # }\n",
    "    #}\n",
    "    \n",
    "end"
   ]
  },
  {
   "cell_type": "code",
   "execution_count": 7,
   "metadata": {},
   "outputs": [
    {
     "data": {
      "text/plain": [
       "run_main (generic function with 1 method)"
      ]
     },
     "execution_count": 7,
     "metadata": {},
     "output_type": "execute_result"
    }
   ],
   "source": [
    "function run_main(; ν=1e-5, nlevels=3)\n",
    "    # load initial mesh\n",
    "    xgrid = grid_unitsquare(Triangle2D)\n",
    "    # problem data\n",
    "    α, β, u, ∇u, f = get_problem_data(ν)\n",
    "    FEType = H1Pk{1,2,1}\n",
    "    FES = FESpace{FEType}(xgrid)\n",
    "        \n",
    "    xgrid = uniform_refine(xgrid, nlevels)\n",
    "    FES = FESpace{FEType}(xgrid)\n",
    "    # solution vector\n",
    "    Solution = FEVector(\"u_h\", FES)\n",
    "    \n",
    "    dt = Array{BoundaryData,1}(undef,0)\n",
    "    push!(dt,BoundaryData(BestapproxDirichletBoundary; regions = [3,4], data=u))\n",
    "    dofs = boundarydata!(Solution[1], dt)\n",
    "    \n",
    "    ## stiffness matrix\n",
    "    A = FEMatrix{Float64}(FES)\n",
    "    assemble_operator!(A[1,1], ReactionConvectionDiffusionOperator(α, β, ν))\n",
    "    # @show A.entries\n",
    "    rhs = FEVector{Float64}(FES)\n",
    "    assemble_operator!(rhs[1], LinearForm(Identity, f))\n",
    "    \n",
    "    # for Neumann\n",
    "    #rhs1 = FEVector{Float64}(FES)\n",
    "    #assemble_operator!(rhs1[1], LinearForm(Identity, g; AT=ON_BFACES, regions=[1,2])) # g is problem data\n",
    "    \n",
    "    # construction of D matrix\n",
    "    flush!(A.entries)\n",
    "    D = FEMatrix{Float64}(FES)\n",
    "    cscmat::SparseMatrixCSC{Float64,Int64} = A.entries.cscmatrix\n",
    "    #rows::Array{Ti,1} = rowvals(cscmat)\n",
    "    #valsA::Array{Tv,1} = cscmat.nzval\n",
    "    colptr::Vector{Int64} = cscmat.colptr\n",
    "    rowval::Vector{Int64} = cscmat.rowval\n",
    "    nzval::Vector{Float64} = cscmat.nzval\n",
    "    \n",
    "    k_ij = zero(Float64)\n",
    "    k_ji = zero(Float64)\n",
    "    DE = D.entries\n",
    "    \n",
    "    @time for i = 1 : FES.ndofs\n",
    "        for c in colptr[i]:(colptr[i+1]-1)            \n",
    "            j = rowval[c];\n",
    "            if j!==i\n",
    "                k_ij = nzval[c]\n",
    "                # transposed entry\n",
    "                for ll in colptr[j]:(colptr[j+1]-1)\n",
    "                    if rowval[ll] == i\n",
    "                        k_ji = nzval[ll]\n",
    "                        break\n",
    "                    end\n",
    "                end\n",
    "                DE[j,i] = min(-k_ij , 0.0 , -k_ji)\n",
    "            else\n",
    "                DE[j,j] = -1\n",
    "            end\n",
    "        end # endfor c\n",
    "    end\n",
    "    # diagonal\n",
    "    flush!(D.entries)\n",
    "    Dcscmat::SparseMatrixCSC{Float64,Int64} = D.entries.cscmatrix\n",
    "    Dcolptr::Vector{Int64} = Dcscmat.colptr\n",
    "    Drowval::Vector{Int64} = Dcscmat.rowval\n",
    "    Dzval::Vector{Float64} = Dcscmat.nzval\n",
    "    for i = 1 : FES.ndofs\n",
    "        ll = -1\n",
    "        val = zero(Float64)\n",
    "        for c in Dcolptr[i]:(Dcolptr[i+1]-1)            \n",
    "            val = val + Dzval[c]\n",
    "            j = Drowval[c]\n",
    "            if j==i\n",
    "                ll = c\n",
    "            end\n",
    "        end\n",
    "        Dzval[ll] = -val\n",
    "    end\n",
    "    \n",
    "    # check symmetric?\n",
    "    # println(norm(D.entries-D.entries'))\n",
    "    # @show D.entries\n",
    "    # check the M-matrix TODO??\n",
    "    FMatrix = FEMatrix{Float64}(FES)\n",
    "    Fcscmat::SparseMatrixCSC{Float64,Int64} = FMatrix.entries.cscmatrix    \n",
    "    Fcolptr::Vector{Int64} = Fcscmat.colptr\n",
    "    Frowval::Vector{Int64} = Fcscmat.rowval\n",
    "    Fzval::Vector{Float64} = Fcscmat.nzval\n",
    "    \n",
    "    for i = 1 : FES.ndofs\n",
    "        for c in Dcolptr[i]:(Dcolptr[i+1]-1)\n",
    "            index = Drowval[c]\n",
    "            # Fzval[c] \n",
    "        end\n",
    "    end\n",
    "    # nonlinear loop \n",
    "    \n",
    "    # setting dirichlet dofs\n",
    "    for dof in dofs\n",
    "        rhs[1][dof] = 1e60 * Solution[1][dof]\n",
    "        A[1,1][dof,dof] = 1e60\n",
    "    end\n",
    "    \n",
    "    flush!(A.entries)\n",
    "    Solution.entries[:] = A.entries \\ rhs.entries\n",
    "    #solve!(Solution, Problem)\n",
    "    \n",
    "    L2Error = L2ErrorIntegrator(u, Identity)\n",
    "    H1Error = L2ErrorIntegrator(∇u, Gradient)    \n",
    "    L2 = sqrt(evaluate(L2Error,Solution[1]))\n",
    "    H1 = sqrt(evaluate(H1Error,Solution[1]))\n",
    "    println(\"L2: \", L2, \" H1 \", H1)\n",
    "    println(\"done: \", FES.ndofs)\n",
    "    (L2, H1)\n",
    "end"
   ]
  },
  {
   "cell_type": "code",
   "execution_count": 8,
   "metadata": {},
   "outputs": [
    {
     "data": {
      "text/plain": [
       "convergence_test (generic function with 1 method)"
      ]
     },
     "execution_count": 8,
     "metadata": {},
     "output_type": "execute_result"
    }
   ],
   "source": [
    "function convergence_test(ns)\n",
    "    H1=[]; L2=[]\n",
    "    for n = 1 : ns\n",
    "        l2, h1 = run_main(ν=1e-0, nlevels=n)\n",
    "        push!(H1, h1)\n",
    "        push!(L2, l2)\n",
    "    end\n",
    "    (L2, H1)\n",
    "end"
   ]
  },
  {
   "cell_type": "code",
   "execution_count": 12,
   "metadata": {},
   "outputs": [
    {
     "name": "stderr",
     "output_type": "stream",
     "text": [
      "\u001b[33m\u001b[1m┌ \u001b[22m\u001b[39m\u001b[33m\u001b[1mWarning: \u001b[22m\u001b[39m 21836358 allocations during ITEMTYPE_BFACE volume calculation\n",
      "\u001b[33m\u001b[1m└ \u001b[22m\u001b[39m\u001b[90m@ ExtendableGrids ~/.julia/packages/ExtendableGrids/XFxI3/src/derived.jl:937\u001b[39m\n"
     ]
    },
    {
     "name": "stdout",
     "output_type": "stream",
     "text": [
      "  0.046206 seconds (54.51 k allocations: 2.791 MiB, 99.83% compilation time)\n",
      "L2: 0.11535030287177803 H1 0.38850279922402614\n",
      "done: 13\n",
      "  0.000015 seconds (215 allocations: 8.844 KiB)\n",
      "L2: 0.11315854535366911 H1 0.4052950659333557\n",
      "done: 41\n",
      "  0.000046 seconds (807 allocations: 32.344 KiB)\n",
      "L2: 0.11253136224886941 H1 0.41148978446635526\n",
      "done: 145\n"
     ]
    },
    {
     "data": {
      "text/plain": [
       "(Any[0.11535030287177803, 0.11315854535366911, 0.11253136224886941], Any[0.38850279922402614, 0.4052950659333557, 0.41148978446635526])"
      ]
     },
     "execution_count": 12,
     "metadata": {},
     "output_type": "execute_result"
    }
   ],
   "source": [
    "L2, H1 = convergence_test(3)"
   ]
  },
  {
   "cell_type": "code",
   "execution_count": 15,
   "metadata": {},
   "outputs": [
    {
     "name": "stdout",
     "output_type": "stream",
     "text": [
      "L2uAny[0.11535030287177803, 0.11315854535366911, 0.11253136224886941]\n",
      "L2pAny[0.38850279922402614, 0.4052950659333557, 0.41148978446635526]\n"
     ]
    },
    {
     "data": {
      "image/svg+xml": [
       "<?xml version=\"1.0\" encoding=\"utf-8\"?>\n",
       "<svg xmlns=\"http://www.w3.org/2000/svg\" xmlns:xlink=\"http://www.w3.org/1999/xlink\" width=\"600\" height=\"400\" viewBox=\"0 0 2400 1600\">\n",
       "<defs>\n",
       "  <clipPath id=\"clip540\">\n",
       "    <rect x=\"0\" y=\"0\" width=\"2400\" height=\"1600\"/>\n",
       "  </clipPath>\n",
       "</defs>\n",
       "<path clip-path=\"url(#clip540)\" d=\"M0 1600 L2400 1600 L2400 0 L0 0  Z\" fill=\"#ffffff\" fill-rule=\"evenodd\" fill-opacity=\"1\"/>\n",
       "<defs>\n",
       "  <clipPath id=\"clip541\">\n",
       "    <rect x=\"480\" y=\"0\" width=\"1681\" height=\"1600\"/>\n",
       "  </clipPath>\n",
       "</defs>\n",
       "<path clip-path=\"url(#clip540)\" d=\"M313.626 1423.18 L2352.76 1423.18 L2352.76 47.2441 L313.626 47.2441  Z\" fill=\"#ffffff\" fill-rule=\"evenodd\" fill-opacity=\"1\"/>\n",
       "<defs>\n",
       "  <clipPath id=\"clip542\">\n",
       "    <rect x=\"313\" y=\"47\" width=\"2040\" height=\"1377\"/>\n",
       "  </clipPath>\n",
       "</defs>\n",
       "<polyline clip-path=\"url(#clip542)\" style=\"stroke:#000000; stroke-linecap:round; stroke-linejoin:round; stroke-width:2; stroke-opacity:0.1; fill:none\" points=\"371.337,1423.18 371.337,47.2441 \"/>\n",
       "<polyline clip-path=\"url(#clip542)\" style=\"stroke:#000000; stroke-linecap:round; stroke-linejoin:round; stroke-width:2; stroke-opacity:0.1; fill:none\" points=\"852.264,1423.18 852.264,47.2441 \"/>\n",
       "<polyline clip-path=\"url(#clip542)\" style=\"stroke:#000000; stroke-linecap:round; stroke-linejoin:round; stroke-width:2; stroke-opacity:0.1; fill:none\" points=\"1333.19,1423.18 1333.19,47.2441 \"/>\n",
       "<polyline clip-path=\"url(#clip542)\" style=\"stroke:#000000; stroke-linecap:round; stroke-linejoin:round; stroke-width:2; stroke-opacity:0.1; fill:none\" points=\"1814.12,1423.18 1814.12,47.2441 \"/>\n",
       "<polyline clip-path=\"url(#clip542)\" style=\"stroke:#000000; stroke-linecap:round; stroke-linejoin:round; stroke-width:2; stroke-opacity:0.1; fill:none\" points=\"2295.04,1423.18 2295.04,47.2441 \"/>\n",
       "<polyline clip-path=\"url(#clip540)\" style=\"stroke:#000000; stroke-linecap:round; stroke-linejoin:round; stroke-width:4; stroke-opacity:1; fill:none\" points=\"313.626,1423.18 2352.76,1423.18 \"/>\n",
       "<polyline clip-path=\"url(#clip540)\" style=\"stroke:#000000; stroke-linecap:round; stroke-linejoin:round; stroke-width:4; stroke-opacity:1; fill:none\" points=\"371.337,1423.18 371.337,1404.28 \"/>\n",
       "<polyline clip-path=\"url(#clip540)\" style=\"stroke:#000000; stroke-linecap:round; stroke-linejoin:round; stroke-width:4; stroke-opacity:1; fill:none\" points=\"852.264,1423.18 852.264,1404.28 \"/>\n",
       "<polyline clip-path=\"url(#clip540)\" style=\"stroke:#000000; stroke-linecap:round; stroke-linejoin:round; stroke-width:4; stroke-opacity:1; fill:none\" points=\"1333.19,1423.18 1333.19,1404.28 \"/>\n",
       "<polyline clip-path=\"url(#clip540)\" style=\"stroke:#000000; stroke-linecap:round; stroke-linejoin:round; stroke-width:4; stroke-opacity:1; fill:none\" points=\"1814.12,1423.18 1814.12,1404.28 \"/>\n",
       "<polyline clip-path=\"url(#clip540)\" style=\"stroke:#000000; stroke-linecap:round; stroke-linejoin:round; stroke-width:4; stroke-opacity:1; fill:none\" points=\"2295.04,1423.18 2295.04,1404.28 \"/>\n",
       "<path clip-path=\"url(#clip540)\" d=\"M338.49 1481.64 L346.129 1481.64 L346.129 1455.28 L337.819 1456.95 L337.819 1452.69 L346.083 1451.02 L350.759 1451.02 L350.759 1481.64 L358.397 1481.64 L358.397 1485.58 L338.49 1485.58 L338.49 1481.64 Z\" fill=\"#000000\" fill-rule=\"evenodd\" fill-opacity=\"1\" /><path clip-path=\"url(#clip540)\" d=\"M367.842 1479.7 L372.726 1479.7 L372.726 1485.58 L367.842 1485.58 L367.842 1479.7 Z\" fill=\"#000000\" fill-rule=\"evenodd\" fill-opacity=\"1\" /><path clip-path=\"url(#clip540)\" d=\"M392.911 1454.1 Q389.3 1454.1 387.471 1457.66 Q385.666 1461.2 385.666 1468.33 Q385.666 1475.44 387.471 1479.01 Q389.3 1482.55 392.911 1482.55 Q396.545 1482.55 398.351 1479.01 Q400.18 1475.44 400.18 1468.33 Q400.18 1461.2 398.351 1457.66 Q396.545 1454.1 392.911 1454.1 M392.911 1450.39 Q398.721 1450.39 401.777 1455 Q404.855 1459.58 404.855 1468.33 Q404.855 1477.06 401.777 1481.67 Q398.721 1486.25 392.911 1486.25 Q387.101 1486.25 384.022 1481.67 Q380.967 1477.06 380.967 1468.33 Q380.967 1459.58 384.022 1455 Q387.101 1450.39 392.911 1450.39 Z\" fill=\"#000000\" fill-rule=\"evenodd\" fill-opacity=\"1\" /><path clip-path=\"url(#clip540)\" d=\"M819.915 1481.64 L827.553 1481.64 L827.553 1455.28 L819.243 1456.95 L819.243 1452.69 L827.507 1451.02 L832.183 1451.02 L832.183 1481.64 L839.822 1481.64 L839.822 1485.58 L819.915 1485.58 L819.915 1481.64 Z\" fill=\"#000000\" fill-rule=\"evenodd\" fill-opacity=\"1\" /><path clip-path=\"url(#clip540)\" d=\"M849.266 1479.7 L854.151 1479.7 L854.151 1485.58 L849.266 1485.58 L849.266 1479.7 Z\" fill=\"#000000\" fill-rule=\"evenodd\" fill-opacity=\"1\" /><path clip-path=\"url(#clip540)\" d=\"M864.382 1451.02 L882.738 1451.02 L882.738 1454.96 L868.664 1454.96 L868.664 1463.43 Q869.683 1463.08 870.701 1462.92 Q871.72 1462.73 872.738 1462.73 Q878.525 1462.73 881.905 1465.9 Q885.285 1469.08 885.285 1474.49 Q885.285 1480.07 881.812 1483.17 Q878.34 1486.25 872.021 1486.25 Q869.845 1486.25 867.576 1485.88 Q865.331 1485.51 862.924 1484.77 L862.924 1480.07 Q865.007 1481.2 867.229 1481.76 Q869.451 1482.32 871.928 1482.32 Q875.933 1482.32 878.271 1480.21 Q880.609 1478.1 880.609 1474.49 Q880.609 1470.88 878.271 1468.77 Q875.933 1466.67 871.928 1466.67 Q870.053 1466.67 868.178 1467.08 Q866.326 1467.5 864.382 1468.38 L864.382 1451.02 Z\" fill=\"#000000\" fill-rule=\"evenodd\" fill-opacity=\"1\" /><path clip-path=\"url(#clip540)\" d=\"M1304.43 1481.64 L1320.75 1481.64 L1320.75 1485.58 L1298.8 1485.58 L1298.8 1481.64 Q1301.47 1478.89 1306.05 1474.26 Q1310.66 1469.61 1311.84 1468.27 Q1314.08 1465.74 1314.96 1464.01 Q1315.86 1462.25 1315.86 1460.56 Q1315.86 1457.8 1313.92 1456.07 Q1312 1454.33 1308.9 1454.33 Q1306.7 1454.33 1304.24 1455.09 Q1301.81 1455.86 1299.04 1457.41 L1299.04 1452.69 Q1301.86 1451.55 1304.31 1450.97 Q1306.77 1450.39 1308.8 1450.39 Q1314.17 1450.39 1317.37 1453.08 Q1320.56 1455.77 1320.56 1460.26 Q1320.56 1462.39 1319.75 1464.31 Q1318.97 1466.2 1316.86 1468.8 Q1316.28 1469.47 1313.18 1472.69 Q1310.08 1475.88 1304.43 1481.64 Z\" fill=\"#000000\" fill-rule=\"evenodd\" fill-opacity=\"1\" /><path clip-path=\"url(#clip540)\" d=\"M1330.56 1479.7 L1335.45 1479.7 L1335.45 1485.58 L1330.56 1485.58 L1330.56 1479.7 Z\" fill=\"#000000\" fill-rule=\"evenodd\" fill-opacity=\"1\" /><path clip-path=\"url(#clip540)\" d=\"M1355.63 1454.1 Q1352.02 1454.1 1350.19 1457.66 Q1348.39 1461.2 1348.39 1468.33 Q1348.39 1475.44 1350.19 1479.01 Q1352.02 1482.55 1355.63 1482.55 Q1359.27 1482.55 1361.07 1479.01 Q1362.9 1475.44 1362.9 1468.33 Q1362.9 1461.2 1361.07 1457.66 Q1359.27 1454.1 1355.63 1454.1 M1355.63 1450.39 Q1361.44 1450.39 1364.5 1455 Q1367.58 1459.58 1367.58 1468.33 Q1367.58 1477.06 1364.5 1481.67 Q1361.44 1486.25 1355.63 1486.25 Q1349.82 1486.25 1346.74 1481.67 Q1343.69 1477.06 1343.69 1468.33 Q1343.69 1459.58 1346.74 1455 Q1349.82 1450.39 1355.63 1450.39 Z\" fill=\"#000000\" fill-rule=\"evenodd\" fill-opacity=\"1\" /><path clip-path=\"url(#clip540)\" d=\"M1785.85 1481.64 L1802.17 1481.64 L1802.17 1485.58 L1780.23 1485.58 L1780.23 1481.64 Q1782.89 1478.89 1787.47 1474.26 Q1792.08 1469.61 1793.26 1468.27 Q1795.51 1465.74 1796.39 1464.01 Q1797.29 1462.25 1797.29 1460.56 Q1797.29 1457.8 1795.34 1456.07 Q1793.42 1454.33 1790.32 1454.33 Q1788.12 1454.33 1785.67 1455.09 Q1783.24 1455.86 1780.46 1457.41 L1780.46 1452.69 Q1783.28 1451.55 1785.74 1450.97 Q1788.19 1450.39 1790.23 1450.39 Q1795.6 1450.39 1798.79 1453.08 Q1801.99 1455.77 1801.99 1460.26 Q1801.99 1462.39 1801.18 1464.31 Q1800.39 1466.2 1798.28 1468.8 Q1797.71 1469.47 1794.6 1472.69 Q1791.5 1475.88 1785.85 1481.64 Z\" fill=\"#000000\" fill-rule=\"evenodd\" fill-opacity=\"1\" /><path clip-path=\"url(#clip540)\" d=\"M1811.99 1479.7 L1816.87 1479.7 L1816.87 1485.58 L1811.99 1485.58 L1811.99 1479.7 Z\" fill=\"#000000\" fill-rule=\"evenodd\" fill-opacity=\"1\" /><path clip-path=\"url(#clip540)\" d=\"M1827.1 1451.02 L1845.46 1451.02 L1845.46 1454.96 L1831.39 1454.96 L1831.39 1463.43 Q1832.4 1463.08 1833.42 1462.92 Q1834.44 1462.73 1835.46 1462.73 Q1841.25 1462.73 1844.63 1465.9 Q1848.01 1469.08 1848.01 1474.49 Q1848.01 1480.07 1844.53 1483.17 Q1841.06 1486.25 1834.74 1486.25 Q1832.57 1486.25 1830.3 1485.88 Q1828.05 1485.51 1825.65 1484.77 L1825.65 1480.07 Q1827.73 1481.2 1829.95 1481.76 Q1832.17 1482.32 1834.65 1482.32 Q1838.65 1482.32 1840.99 1480.21 Q1843.33 1478.1 1843.33 1474.49 Q1843.33 1470.88 1840.99 1468.77 Q1838.65 1466.67 1834.65 1466.67 Q1832.78 1466.67 1830.9 1467.08 Q1829.05 1467.5 1827.1 1468.38 L1827.1 1451.02 Z\" fill=\"#000000\" fill-rule=\"evenodd\" fill-opacity=\"1\" /><path clip-path=\"url(#clip540)\" d=\"M2276.35 1466.95 Q2279.71 1467.66 2281.58 1469.93 Q2283.48 1472.2 2283.48 1475.53 Q2283.48 1480.65 2279.96 1483.45 Q2276.45 1486.25 2269.96 1486.25 Q2267.79 1486.25 2265.47 1485.81 Q2263.18 1485.39 2260.73 1484.54 L2260.73 1480.02 Q2262.67 1481.16 2264.99 1481.74 Q2267.3 1482.32 2269.82 1482.32 Q2274.22 1482.32 2276.51 1480.58 Q2278.83 1478.84 2278.83 1475.53 Q2278.83 1472.48 2276.68 1470.77 Q2274.55 1469.03 2270.73 1469.03 L2266.7 1469.03 L2266.7 1465.19 L2270.91 1465.19 Q2274.36 1465.19 2276.19 1463.82 Q2278.02 1462.43 2278.02 1459.84 Q2278.02 1457.18 2276.12 1455.77 Q2274.25 1454.33 2270.73 1454.33 Q2268.81 1454.33 2266.61 1454.75 Q2264.41 1455.16 2261.77 1456.04 L2261.77 1451.88 Q2264.43 1451.14 2266.75 1450.77 Q2269.08 1450.39 2271.14 1450.39 Q2276.47 1450.39 2279.57 1452.83 Q2282.67 1455.23 2282.67 1459.35 Q2282.67 1462.22 2281.03 1464.21 Q2279.39 1466.18 2276.35 1466.95 Z\" fill=\"#000000\" fill-rule=\"evenodd\" fill-opacity=\"1\" /><path clip-path=\"url(#clip540)\" d=\"M2292.35 1479.7 L2297.23 1479.7 L2297.23 1485.58 L2292.35 1485.58 L2292.35 1479.7 Z\" fill=\"#000000\" fill-rule=\"evenodd\" fill-opacity=\"1\" /><path clip-path=\"url(#clip540)\" d=\"M2317.42 1454.1 Q2313.81 1454.1 2311.98 1457.66 Q2310.17 1461.2 2310.17 1468.33 Q2310.17 1475.44 2311.98 1479.01 Q2313.81 1482.55 2317.42 1482.55 Q2321.05 1482.55 2322.86 1479.01 Q2324.69 1475.44 2324.69 1468.33 Q2324.69 1461.2 2322.86 1457.66 Q2321.05 1454.1 2317.42 1454.1 M2317.42 1450.39 Q2323.23 1450.39 2326.28 1455 Q2329.36 1459.58 2329.36 1468.33 Q2329.36 1477.06 2326.28 1481.67 Q2323.23 1486.25 2317.42 1486.25 Q2311.61 1486.25 2308.53 1481.67 Q2305.47 1477.06 2305.47 1468.33 Q2305.47 1459.58 2308.53 1455 Q2311.61 1450.39 2317.42 1450.39 Z\" fill=\"#000000\" fill-rule=\"evenodd\" fill-opacity=\"1\" /><path clip-path=\"url(#clip540)\" d=\"M1348.12 1546.53 L1348.12 1568.04 L1342.26 1568.04 L1342.26 1546.72 Q1342.26 1541.66 1340.29 1539.14 Q1338.32 1536.63 1334.37 1536.63 Q1329.63 1536.63 1326.89 1539.65 Q1324.15 1542.68 1324.15 1547.9 L1324.15 1568.04 L1318.26 1568.04 L1318.26 1518.52 L1324.15 1518.52 L1324.15 1537.93 Q1326.25 1534.72 1329.09 1533.13 Q1331.95 1531.54 1335.67 1531.54 Q1341.82 1531.54 1344.97 1535.36 Q1348.12 1539.14 1348.12 1546.53 Z\" fill=\"#000000\" fill-rule=\"evenodd\" fill-opacity=\"1\" /><polyline clip-path=\"url(#clip542)\" style=\"stroke:#000000; stroke-linecap:round; stroke-linejoin:round; stroke-width:2; stroke-opacity:0.1; fill:none\" points=\"313.626,926.124 2352.76,926.124 \"/>\n",
       "<polyline clip-path=\"url(#clip542)\" style=\"stroke:#000000; stroke-linecap:round; stroke-linejoin:round; stroke-width:2; stroke-opacity:0.1; fill:none\" points=\"313.626,349.812 2352.76,349.812 \"/>\n",
       "<polyline clip-path=\"url(#clip540)\" style=\"stroke:#000000; stroke-linecap:round; stroke-linejoin:round; stroke-width:4; stroke-opacity:1; fill:none\" points=\"313.626,1423.18 313.626,47.2441 \"/>\n",
       "<polyline clip-path=\"url(#clip540)\" style=\"stroke:#000000; stroke-linecap:round; stroke-linejoin:round; stroke-width:4; stroke-opacity:1; fill:none\" points=\"313.626,926.124 332.524,926.124 \"/>\n",
       "<polyline clip-path=\"url(#clip540)\" style=\"stroke:#000000; stroke-linecap:round; stroke-linejoin:round; stroke-width:4; stroke-opacity:1; fill:none\" points=\"313.626,349.812 332.524,349.812 \"/>\n",
       "<path clip-path=\"url(#clip540)\" d=\"M115.74 945.917 L123.379 945.917 L123.379 919.551 L115.069 921.218 L115.069 916.959 L123.333 915.292 L128.009 915.292 L128.009 945.917 L135.647 945.917 L135.647 949.852 L115.74 949.852 L115.74 945.917 Z\" fill=\"#000000\" fill-rule=\"evenodd\" fill-opacity=\"1\" /><path clip-path=\"url(#clip540)\" d=\"M155.092 918.371 Q151.481 918.371 149.652 921.935 Q147.846 925.477 147.846 932.607 Q147.846 939.713 149.652 943.278 Q151.481 946.819 155.092 946.819 Q158.726 946.819 160.532 943.278 Q162.36 939.713 162.36 932.607 Q162.36 925.477 160.532 921.935 Q158.726 918.371 155.092 918.371 M155.092 914.667 Q160.902 914.667 163.958 919.273 Q167.036 923.857 167.036 932.607 Q167.036 941.333 163.958 945.94 Q160.902 950.523 155.092 950.523 Q149.282 950.523 146.203 945.94 Q143.147 941.333 143.147 932.607 Q143.147 923.857 146.203 919.273 Q149.282 914.667 155.092 914.667 Z\" fill=\"#000000\" fill-rule=\"evenodd\" fill-opacity=\"1\" /><path clip-path=\"url(#clip540)\" d=\"M167.036 908.768 L191.148 908.768 L191.148 911.966 L167.036 911.966 L167.036 908.768 Z\" fill=\"#000000\" fill-rule=\"evenodd\" fill-opacity=\"1\" /><path clip-path=\"url(#clip540)\" d=\"M207.473 896.863 Q204.539 896.863 203.053 899.759 Q201.586 902.637 201.586 908.43 Q201.586 914.204 203.053 917.1 Q204.539 919.978 207.473 919.978 Q210.426 919.978 211.893 917.1 Q213.379 914.204 213.379 908.43 Q213.379 902.637 211.893 899.759 Q210.426 896.863 207.473 896.863 M207.473 893.854 Q212.194 893.854 214.676 897.596 Q217.178 901.32 217.178 908.43 Q217.178 915.52 214.676 919.263 Q212.194 922.987 207.473 922.987 Q202.752 922.987 200.251 919.263 Q197.768 915.52 197.768 908.43 Q197.768 901.32 200.251 897.596 Q202.752 893.854 207.473 893.854 Z\" fill=\"#000000\" fill-rule=\"evenodd\" fill-opacity=\"1\" /><path clip-path=\"url(#clip540)\" d=\"M223.854 917.664 L227.823 917.664 L227.823 922.441 L223.854 922.441 L223.854 917.664 Z\" fill=\"#000000\" fill-rule=\"evenodd\" fill-opacity=\"1\" /><path clip-path=\"url(#clip540)\" d=\"M235.139 894.361 L253.195 894.361 L253.195 895.979 L243.001 922.441 L239.032 922.441 L248.624 897.559 L235.139 897.559 L235.139 894.361 Z\" fill=\"#000000\" fill-rule=\"evenodd\" fill-opacity=\"1\" /><path clip-path=\"url(#clip540)\" d=\"M260.642 894.361 L275.557 894.361 L275.557 897.559 L264.122 897.559 L264.122 904.442 Q264.949 904.16 265.777 904.029 Q266.605 903.878 267.432 903.878 Q272.134 903.878 274.88 906.455 Q277.626 909.032 277.626 913.433 Q277.626 917.965 274.805 920.485 Q271.984 922.987 266.849 922.987 Q265.081 922.987 263.238 922.686 Q261.414 922.385 259.458 921.783 L259.458 917.965 Q261.15 918.887 262.956 919.338 Q264.761 919.79 266.774 919.79 Q270.028 919.79 271.927 918.078 Q273.827 916.367 273.827 913.433 Q273.827 910.499 271.927 908.787 Q270.028 907.076 266.774 907.076 Q265.25 907.076 263.727 907.414 Q262.222 907.753 260.642 908.467 L260.642 894.361 Z\" fill=\"#000000\" fill-rule=\"evenodd\" fill-opacity=\"1\" /><path clip-path=\"url(#clip540)\" d=\"M114.931 369.604 L122.57 369.604 L122.57 343.239 L114.26 344.905 L114.26 340.646 L122.524 338.979 L127.2 338.979 L127.2 369.604 L134.839 369.604 L134.839 373.539 L114.931 373.539 L114.931 369.604 Z\" fill=\"#000000\" fill-rule=\"evenodd\" fill-opacity=\"1\" /><path clip-path=\"url(#clip540)\" d=\"M154.283 342.058 Q150.672 342.058 148.843 345.623 Q147.038 349.165 147.038 356.294 Q147.038 363.401 148.843 366.965 Q150.672 370.507 154.283 370.507 Q157.917 370.507 159.723 366.965 Q161.552 363.401 161.552 356.294 Q161.552 349.165 159.723 345.623 Q157.917 342.058 154.283 342.058 M154.283 338.354 Q160.093 338.354 163.149 342.961 Q166.227 347.544 166.227 356.294 Q166.227 365.021 163.149 369.627 Q160.093 374.211 154.283 374.211 Q148.473 374.211 145.394 369.627 Q142.339 365.021 142.339 356.294 Q142.339 347.544 145.394 342.961 Q148.473 338.354 154.283 338.354 Z\" fill=\"#000000\" fill-rule=\"evenodd\" fill-opacity=\"1\" /><path clip-path=\"url(#clip540)\" d=\"M166.227 332.456 L190.339 332.456 L190.339 335.653 L166.227 335.653 L166.227 332.456 Z\" fill=\"#000000\" fill-rule=\"evenodd\" fill-opacity=\"1\" /><path clip-path=\"url(#clip540)\" d=\"M206.664 320.55 Q203.73 320.55 202.244 323.447 Q200.777 326.324 200.777 332.117 Q200.777 337.891 202.244 340.788 Q203.73 343.665 206.664 343.665 Q209.617 343.665 211.084 340.788 Q212.57 337.891 212.57 332.117 Q212.57 326.324 211.084 323.447 Q209.617 320.55 206.664 320.55 M206.664 317.541 Q211.385 317.541 213.868 321.284 Q216.369 325.008 216.369 332.117 Q216.369 339.208 213.868 342.951 Q211.385 346.674 206.664 346.674 Q201.943 346.674 199.442 342.951 Q196.959 339.208 196.959 332.117 Q196.959 325.008 199.442 321.284 Q201.943 317.541 206.664 317.541 Z\" fill=\"#000000\" fill-rule=\"evenodd\" fill-opacity=\"1\" /><path clip-path=\"url(#clip540)\" d=\"M223.046 341.352 L227.014 341.352 L227.014 346.129 L223.046 346.129 L223.046 341.352 Z\" fill=\"#000000\" fill-rule=\"evenodd\" fill-opacity=\"1\" /><path clip-path=\"url(#clip540)\" d=\"M235.327 318.049 L250.242 318.049 L250.242 321.246 L238.807 321.246 L238.807 328.13 Q239.634 327.848 240.462 327.716 Q241.289 327.566 242.117 327.566 Q246.819 327.566 249.565 330.142 Q252.311 332.719 252.311 337.12 Q252.311 341.653 249.489 344.173 Q246.668 346.674 241.534 346.674 Q239.766 346.674 237.923 346.374 Q236.098 346.073 234.142 345.471 L234.142 341.653 Q235.835 342.574 237.641 343.026 Q239.446 343.477 241.459 343.477 Q244.712 343.477 246.612 341.766 Q248.511 340.054 248.511 337.12 Q248.511 334.186 246.612 332.475 Q244.712 330.763 241.459 330.763 Q239.935 330.763 238.412 331.102 Q236.907 331.44 235.327 332.155 L235.327 318.049 Z\" fill=\"#000000\" fill-rule=\"evenodd\" fill-opacity=\"1\" /><path clip-path=\"url(#clip540)\" d=\"M267.921 320.55 Q264.987 320.55 263.501 323.447 Q262.034 326.324 262.034 332.117 Q262.034 337.891 263.501 340.788 Q264.987 343.665 267.921 343.665 Q270.874 343.665 272.341 340.788 Q273.827 337.891 273.827 332.117 Q273.827 326.324 272.341 323.447 Q270.874 320.55 267.921 320.55 M267.921 317.541 Q272.642 317.541 275.124 321.284 Q277.626 325.008 277.626 332.117 Q277.626 339.208 275.124 342.951 Q272.642 346.674 267.921 346.674 Q263.2 346.674 260.699 342.951 Q258.216 339.208 258.216 332.117 Q258.216 325.008 260.699 321.284 Q263.2 317.541 267.921 317.541 Z\" fill=\"#000000\" fill-rule=\"evenodd\" fill-opacity=\"1\" /><path clip-path=\"url(#clip540)\" d=\"M44.7161 872.043 L47.5806 872.043 L47.5806 898.97 Q53.6281 898.588 56.8109 895.341 Q59.9619 892.063 59.9619 886.238 Q59.9619 882.865 59.1344 879.714 Q58.3069 876.531 56.6518 873.411 L62.1899 873.411 Q63.5267 876.562 64.227 879.873 Q64.9272 883.183 64.9272 886.588 Q64.9272 895.119 59.9619 900.116 Q54.9967 905.081 46.5303 905.081 Q37.7774 905.081 32.6531 900.37 Q27.4968 895.628 27.4968 887.607 Q27.4968 880.414 32.1438 876.244 Q36.7589 872.043 44.7161 872.043 M42.9973 877.899 Q38.1912 877.963 35.3266 880.605 Q32.4621 883.215 32.4621 887.543 Q32.4621 892.445 35.2312 895.405 Q38.0002 898.333 43.0292 898.779 L42.9973 877.899 Z\" fill=\"#000000\" fill-rule=\"evenodd\" fill-opacity=\"1\" /><path clip-path=\"url(#clip540)\" d=\"M33.8307 841.774 Q33.2578 842.761 33.0032 843.938 Q32.7167 845.084 32.7167 846.485 Q32.7167 851.45 35.9632 854.123 Q39.1779 856.765 45.2253 856.765 L64.0042 856.765 L64.0042 862.653 L28.3562 862.653 L28.3562 856.765 L33.8944 856.765 Q30.6479 854.919 29.0883 851.959 Q27.4968 848.999 27.4968 844.766 Q27.4968 844.161 27.5923 843.429 Q27.656 842.697 27.8151 841.806 L33.8307 841.774 Z\" fill=\"#000000\" fill-rule=\"evenodd\" fill-opacity=\"1\" /><path clip-path=\"url(#clip540)\" d=\"M33.8307 816.12 Q33.2578 817.107 33.0032 818.284 Q32.7167 819.43 32.7167 820.831 Q32.7167 825.796 35.9632 828.47 Q39.1779 831.111 45.2253 831.111 L64.0042 831.111 L64.0042 837 L28.3562 837 L28.3562 831.111 L33.8944 831.111 Q30.6479 829.265 29.0883 826.305 Q27.4968 823.345 27.4968 819.112 Q27.4968 818.507 27.5923 817.775 Q27.656 817.043 27.8151 816.152 L33.8307 816.12 Z\" fill=\"#000000\" fill-rule=\"evenodd\" fill-opacity=\"1\" /><path clip-path=\"url(#clip540)\" d=\"M32.4621 797.596 Q32.4621 802.307 36.1542 805.044 Q39.8145 807.781 46.212 807.781 Q52.6095 807.781 56.3017 805.076 Q59.9619 802.338 59.9619 797.596 Q59.9619 792.917 56.2698 790.18 Q52.5777 787.443 46.212 787.443 Q39.8781 787.443 36.186 790.18 Q32.4621 792.917 32.4621 797.596 M27.4968 797.596 Q27.4968 789.957 32.4621 785.597 Q37.4273 781.236 46.212 781.236 Q54.9649 781.236 59.9619 785.597 Q64.9272 789.957 64.9272 797.596 Q64.9272 805.267 59.9619 809.627 Q54.9649 813.956 46.212 813.956 Q37.4273 813.956 32.4621 809.627 Q27.4968 805.267 27.4968 797.596 Z\" fill=\"#000000\" fill-rule=\"evenodd\" fill-opacity=\"1\" /><path clip-path=\"url(#clip540)\" d=\"M33.8307 750.872 Q33.2578 751.858 33.0032 753.036 Q32.7167 754.182 32.7167 755.582 Q32.7167 760.547 35.9632 763.221 Q39.1779 765.863 45.2253 765.863 L64.0042 765.863 L64.0042 771.751 L28.3562 771.751 L28.3562 765.863 L33.8944 765.863 Q30.6479 764.017 29.0883 761.057 Q27.4968 758.097 27.4968 753.863 Q27.4968 753.259 27.5923 752.527 Q27.656 751.795 27.8151 750.903 L33.8307 750.872 Z\" fill=\"#000000\" fill-rule=\"evenodd\" fill-opacity=\"1\" /><path clip-path=\"url(#clip540)\" d=\"M42.4881 694.376 L64.0042 694.376 L64.0042 700.232 L42.679 700.232 Q37.6183 700.232 35.1038 702.206 Q32.5894 704.179 32.5894 708.126 Q32.5894 712.868 35.6131 715.606 Q38.6368 718.343 43.8567 718.343 L64.0042 718.343 L64.0042 724.231 L28.3562 724.231 L28.3562 718.343 L33.8944 718.343 Q30.6797 716.242 29.0883 713.409 Q27.4968 710.545 27.4968 706.821 Q27.4968 700.678 31.3163 697.527 Q35.1038 694.376 42.4881 694.376 Z\" fill=\"#000000\" fill-rule=\"evenodd\" fill-opacity=\"1\" /><path clip-path=\"url(#clip540)\" d=\"M32.4621 668.881 Q32.4621 673.592 36.1542 676.329 Q39.8145 679.066 46.212 679.066 Q52.6095 679.066 56.3017 676.361 Q59.9619 673.624 59.9619 668.881 Q59.9619 664.203 56.2698 661.465 Q52.5777 658.728 46.212 658.728 Q39.8781 658.728 36.186 661.465 Q32.4621 664.203 32.4621 668.881 M27.4968 668.881 Q27.4968 661.242 32.4621 656.882 Q37.4273 652.521 46.212 652.521 Q54.9649 652.521 59.9619 656.882 Q64.9272 661.242 64.9272 668.881 Q64.9272 676.552 59.9619 680.912 Q54.9649 685.241 46.212 685.241 Q37.4273 685.241 32.4621 680.912 Q27.4968 676.552 27.4968 668.881 Z\" fill=\"#000000\" fill-rule=\"evenodd\" fill-opacity=\"1\" /><path clip-path=\"url(#clip540)\" d=\"M33.8307 622.157 Q33.2578 623.144 33.0032 624.321 Q32.7167 625.467 32.7167 626.868 Q32.7167 631.833 35.9632 634.506 Q39.1779 637.148 45.2253 637.148 L64.0042 637.148 L64.0042 643.037 L28.3562 643.037 L28.3562 637.148 L33.8944 637.148 Q30.6479 635.302 29.0883 632.342 Q27.4968 629.382 27.4968 625.149 Q27.4968 624.544 27.5923 623.812 Q27.656 623.08 27.8151 622.189 L33.8307 622.157 Z\" fill=\"#000000\" fill-rule=\"evenodd\" fill-opacity=\"1\" /><path clip-path=\"url(#clip540)\" d=\"M35.1993 589.405 Q31.2526 587.209 29.3747 584.154 Q27.4968 581.098 27.4968 576.961 Q27.4968 571.391 31.4117 568.367 Q35.2948 565.343 42.4881 565.343 L64.0042 565.343 L64.0042 571.231 L42.679 571.231 Q37.5546 571.231 35.072 573.046 Q32.5894 574.86 32.5894 578.584 Q32.5894 583.135 35.6131 585.777 Q38.6368 588.419 43.8567 588.419 L64.0042 588.419 L64.0042 594.307 L42.679 594.307 Q37.5228 594.307 35.072 596.121 Q32.5894 597.936 32.5894 601.723 Q32.5894 606.211 35.6449 608.853 Q38.6686 611.494 43.8567 611.494 L64.0042 611.494 L64.0042 617.383 L28.3562 617.383 L28.3562 611.494 L33.8944 611.494 Q30.616 609.489 29.0564 606.688 Q27.4968 603.887 27.4968 600.036 Q27.4968 596.153 29.4702 593.448 Q31.4436 590.71 35.1993 589.405 Z\" fill=\"#000000\" fill-rule=\"evenodd\" fill-opacity=\"1\" /><polyline clip-path=\"url(#clip542)\" style=\"stroke:#009af9; stroke-linecap:round; stroke-linejoin:round; stroke-width:4; stroke-opacity:1; fill:none\" points=\"371.337,1359.47 1333.19,1378.67 2295.04,1384.24 \"/>\n",
       "<line clip-path=\"url(#clip542)\" x1=\"371.337\" y1=\"1359.47\" x2=\"371.337\" y2=\"1343.47\" style=\"stroke:#009af9; stroke-width:3.2; stroke-opacity:1\"/>\n",
       "<line clip-path=\"url(#clip542)\" x1=\"371.337\" y1=\"1359.47\" x2=\"355.337\" y2=\"1359.47\" style=\"stroke:#009af9; stroke-width:3.2; stroke-opacity:1\"/>\n",
       "<line clip-path=\"url(#clip542)\" x1=\"371.337\" y1=\"1359.47\" x2=\"371.337\" y2=\"1375.47\" style=\"stroke:#009af9; stroke-width:3.2; stroke-opacity:1\"/>\n",
       "<line clip-path=\"url(#clip542)\" x1=\"371.337\" y1=\"1359.47\" x2=\"387.337\" y2=\"1359.47\" style=\"stroke:#009af9; stroke-width:3.2; stroke-opacity:1\"/>\n",
       "<line clip-path=\"url(#clip542)\" x1=\"1333.19\" y1=\"1378.67\" x2=\"1333.19\" y2=\"1362.67\" style=\"stroke:#009af9; stroke-width:3.2; stroke-opacity:1\"/>\n",
       "<line clip-path=\"url(#clip542)\" x1=\"1333.19\" y1=\"1378.67\" x2=\"1317.19\" y2=\"1378.67\" style=\"stroke:#009af9; stroke-width:3.2; stroke-opacity:1\"/>\n",
       "<line clip-path=\"url(#clip542)\" x1=\"1333.19\" y1=\"1378.67\" x2=\"1333.19\" y2=\"1394.67\" style=\"stroke:#009af9; stroke-width:3.2; stroke-opacity:1\"/>\n",
       "<line clip-path=\"url(#clip542)\" x1=\"1333.19\" y1=\"1378.67\" x2=\"1349.19\" y2=\"1378.67\" style=\"stroke:#009af9; stroke-width:3.2; stroke-opacity:1\"/>\n",
       "<line clip-path=\"url(#clip542)\" x1=\"2295.04\" y1=\"1384.24\" x2=\"2295.04\" y2=\"1368.24\" style=\"stroke:#009af9; stroke-width:3.2; stroke-opacity:1\"/>\n",
       "<line clip-path=\"url(#clip542)\" x1=\"2295.04\" y1=\"1384.24\" x2=\"2279.04\" y2=\"1384.24\" style=\"stroke:#009af9; stroke-width:3.2; stroke-opacity:1\"/>\n",
       "<line clip-path=\"url(#clip542)\" x1=\"2295.04\" y1=\"1384.24\" x2=\"2295.04\" y2=\"1400.24\" style=\"stroke:#009af9; stroke-width:3.2; stroke-opacity:1\"/>\n",
       "<line clip-path=\"url(#clip542)\" x1=\"2295.04\" y1=\"1384.24\" x2=\"2311.04\" y2=\"1384.24\" style=\"stroke:#009af9; stroke-width:3.2; stroke-opacity:1\"/>\n",
       "<polyline clip-path=\"url(#clip542)\" style=\"stroke:#e26f46; stroke-linecap:round; stroke-linejoin:round; stroke-width:4; stroke-opacity:1; fill:none\" points=\"371.337,143.736 1333.19,101.372 2295.04,86.1857 \"/>\n",
       "<circle clip-path=\"url(#clip542)\" cx=\"371.337\" cy=\"143.736\" r=\"14.4\" fill=\"#e26f46\" fill-rule=\"evenodd\" fill-opacity=\"1\" stroke=\"#000000\" stroke-opacity=\"1\" stroke-width=\"3.2\"/>\n",
       "<circle clip-path=\"url(#clip542)\" cx=\"1333.19\" cy=\"101.372\" r=\"14.4\" fill=\"#e26f46\" fill-rule=\"evenodd\" fill-opacity=\"1\" stroke=\"#000000\" stroke-opacity=\"1\" stroke-width=\"3.2\"/>\n",
       "<circle clip-path=\"url(#clip542)\" cx=\"2295.04\" cy=\"86.1857\" r=\"14.4\" fill=\"#e26f46\" fill-rule=\"evenodd\" fill-opacity=\"1\" stroke=\"#000000\" stroke-opacity=\"1\" stroke-width=\"3.2\"/>\n",
       "<path clip-path=\"url(#clip540)\" d=\"M381.597 248.629 L672.408 248.629 L672.408 93.1086 L381.597 93.1086  Z\" fill=\"#ffffff\" fill-rule=\"evenodd\" fill-opacity=\"1\"/>\n",
       "<polyline clip-path=\"url(#clip540)\" style=\"stroke:#000000; stroke-linecap:round; stroke-linejoin:round; stroke-width:4; stroke-opacity:1; fill:none\" points=\"381.597,248.629 672.408,248.629 672.408,93.1086 381.597,93.1086 381.597,248.629 \"/>\n",
       "<polyline clip-path=\"url(#clip540)\" style=\"stroke:#009af9; stroke-linecap:round; stroke-linejoin:round; stroke-width:4; stroke-opacity:1; fill:none\" points=\"404.254,144.949 540.196,144.949 \"/>\n",
       "<line clip-path=\"url(#clip540)\" x1=\"472.225\" y1=\"144.949\" x2=\"472.225\" y2=\"123.97\" style=\"stroke:#009af9; stroke-width:5.12; stroke-opacity:1\"/>\n",
       "<line clip-path=\"url(#clip540)\" x1=\"472.225\" y1=\"144.949\" x2=\"451.246\" y2=\"144.949\" style=\"stroke:#009af9; stroke-width:5.12; stroke-opacity:1\"/>\n",
       "<line clip-path=\"url(#clip540)\" x1=\"472.225\" y1=\"144.949\" x2=\"472.225\" y2=\"165.927\" style=\"stroke:#009af9; stroke-width:5.12; stroke-opacity:1\"/>\n",
       "<line clip-path=\"url(#clip540)\" x1=\"472.225\" y1=\"144.949\" x2=\"493.204\" y2=\"144.949\" style=\"stroke:#009af9; stroke-width:5.12; stroke-opacity:1\"/>\n",
       "<path clip-path=\"url(#clip540)\" d=\"M562.853 127.669 L567.529 127.669 L567.529 158.293 L584.357 158.293 L584.357 162.229 L562.853 162.229 L562.853 127.669 Z\" fill=\"#000000\" fill-rule=\"evenodd\" fill-opacity=\"1\" /><path clip-path=\"url(#clip540)\" d=\"M593.709 158.293 L610.029 158.293 L610.029 162.229 L588.084 162.229 L588.084 158.293 Q590.746 155.539 595.33 150.909 Q599.936 146.256 601.117 144.914 Q603.362 142.391 604.242 140.655 Q605.144 138.895 605.144 137.206 Q605.144 134.451 603.2 132.715 Q601.279 130.979 598.177 130.979 Q595.978 130.979 593.524 131.743 Q591.093 132.507 588.316 134.057 L588.316 129.335 Q591.14 128.201 593.593 127.622 Q596.047 127.044 598.084 127.044 Q603.455 127.044 606.649 129.729 Q609.843 132.414 609.843 136.905 Q609.843 139.034 609.033 140.956 Q608.246 142.854 606.14 145.446 Q605.561 146.118 602.459 149.335 Q599.357 152.53 593.709 158.293 Z\" fill=\"#000000\" fill-rule=\"evenodd\" fill-opacity=\"1\" /><path clip-path=\"url(#clip540)\" d=\"M618.802 151.997 L618.802 136.303 L623.061 136.303 L623.061 151.835 Q623.061 155.516 624.496 157.368 Q625.931 159.196 628.802 159.196 Q632.251 159.196 634.241 156.997 Q636.255 154.798 636.255 151.002 L636.255 136.303 L640.515 136.303 L640.515 162.229 L636.255 162.229 L636.255 158.247 Q634.704 160.608 632.644 161.766 Q630.607 162.9 627.899 162.9 Q623.431 162.9 621.116 160.122 Q618.802 157.344 618.802 151.997 M629.519 135.678 L629.519 135.678 Z\" fill=\"#000000\" fill-rule=\"evenodd\" fill-opacity=\"1\" /><polyline clip-path=\"url(#clip540)\" style=\"stroke:#e26f46; stroke-linecap:round; stroke-linejoin:round; stroke-width:4; stroke-opacity:1; fill:none\" points=\"404.254,196.789 540.196,196.789 \"/>\n",
       "<circle clip-path=\"url(#clip540)\" cx=\"472.225\" cy=\"196.789\" r=\"18.8808\" fill=\"#e26f46\" fill-rule=\"evenodd\" fill-opacity=\"1\" stroke=\"#000000\" stroke-opacity=\"1\" stroke-width=\"5.12\"/>\n",
       "<path clip-path=\"url(#clip540)\" d=\"M562.853 179.509 L567.529 179.509 L567.529 193.675 L584.519 193.675 L584.519 179.509 L589.195 179.509 L589.195 214.069 L584.519 214.069 L584.519 197.61 L567.529 197.61 L567.529 214.069 L562.853 214.069 L562.853 179.509 Z\" fill=\"#000000\" fill-rule=\"evenodd\" fill-opacity=\"1\" /><path clip-path=\"url(#clip540)\" d=\"M599.728 210.133 L607.367 210.133 L607.367 183.768 L599.056 185.435 L599.056 181.175 L607.32 179.509 L611.996 179.509 L611.996 210.133 L619.635 210.133 L619.635 214.069 L599.728 214.069 L599.728 210.133 Z\" fill=\"#000000\" fill-rule=\"evenodd\" fill-opacity=\"1\" /><path clip-path=\"url(#clip540)\" d=\"M628.038 203.837 L628.038 188.143 L632.297 188.143 L632.297 203.675 Q632.297 207.356 633.732 209.208 Q635.167 211.036 638.038 211.036 Q641.487 211.036 643.477 208.837 Q645.491 206.638 645.491 202.842 L645.491 188.143 L649.751 188.143 L649.751 214.069 L645.491 214.069 L645.491 210.087 Q643.94 212.448 641.88 213.606 Q639.843 214.74 637.135 214.74 Q632.667 214.74 630.353 211.962 Q628.038 209.184 628.038 203.837 M638.755 187.518 L638.755 187.518 Z\" fill=\"#000000\" fill-rule=\"evenodd\" fill-opacity=\"1\" /></svg>\n"
      ]
     },
     "execution_count": 15,
     "metadata": {},
     "output_type": "execute_result"
    }
   ],
   "source": [
    "using Plots\n",
    "println(\"L2u\", L2)\n",
    "println(\"L2p\", H1)\n",
    "taus = [1, 2, 3, 4]\n",
    "plot(taus,[L2 H1],\n",
    "    yaxis=:log10,\n",
    "    label=[\"L2u\" \"H1u\"],\n",
    "    shape=:auto,\n",
    "    xlabel=\"h\",ylabel=\"error norm\")"
   ]
  },
  {
   "cell_type": "code",
   "execution_count": null,
   "metadata": {},
   "outputs": [],
   "source": []
  }
 ],
 "metadata": {
  "kernelspec": {
   "display_name": "Julia 1.8.5",
   "language": "julia",
   "name": "julia-1.8"
  },
  "language_info": {
   "file_extension": ".jl",
   "mimetype": "application/julia",
   "name": "julia",
   "version": "1.8.5"
  }
 },
 "nbformat": 4,
 "nbformat_minor": 5
}
