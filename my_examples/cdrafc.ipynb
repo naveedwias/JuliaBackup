{
 "cells": [
  {
   "cell_type": "markdown",
   "metadata": {},
   "source": [
    "Steady-state convection-diffusion equation\n",
    "\\begin{align*}\n",
    "-\\varepsilon \\Delta u + {\\bf \\beta} \\cdot \\nabla u &= 0, \\quad \\text{in } \\Omega \\\\\n",
    "u&=u^b \\quad \\text{on } \\Gamma_D \\\\\n",
    "-\\varepsilon \\nabla u \\cdot {\\bf n} &=0 \\quad \\text{on } \\Gamma_N\n",
    "\\end{align*}"
   ]
  },
  {
   "cell_type": "code",
   "execution_count": 1,
   "metadata": {},
   "outputs": [],
   "source": [
    "using LinearAlgebra\n",
    "using GradientRobustMultiPhysics\n",
    "using ExtendableGrids\n",
    "using GridVisualize\n",
    "using ExtendableSparse\n",
    "using SparseArrays"
   ]
  },
  {
   "cell_type": "markdown",
   "metadata": {},
   "source": [
    "Consider the smooth solution \n",
    "$$\n",
    "u(x,y) := xy(x-1)(y-1) + x\n",
    "$$"
   ]
  },
  {
   "cell_type": "code",
   "execution_count": 2,
   "metadata": {},
   "outputs": [
    {
     "data": {
      "text/plain": [
       "get_problem_data (generic function with 1 method)"
      ]
     },
     "execution_count": 2,
     "metadata": {},
     "output_type": "execute_result"
    }
   ],
   "source": [
    "function get_problem_data(ν)\n",
    "    α = DataFunction([0.1]; name = \"α\")\n",
    "    β = DataFunction([1, 0]; name = \"β\")\n",
    "    function exact_u!(result,x)\n",
    "        result[1] = x[1]*x[2]*(x[1]-1)*(x[2]-1) + x[1]\n",
    "    end\n",
    "    u = DataFunction(exact_u!, [1,2]; name = \"u\", dependencies = \"X\", bonus_quadorder = 4)\n",
    "    ∇u = eval_∇(u) # handler for easy eval of AD jacobian\n",
    "    Δu = eval_Δ(u) # handler for easy eval of AD Laplacian\n",
    "    function rhs!(result, x) # computes -νΔu + β⋅∇u + αu\n",
    "        result[1] = -ν*Δu(x)[1] + dot(β(), ∇u(x)) + dot(α(), u(x))\n",
    "        return nothing\n",
    "    end    \n",
    "    f = DataFunction(rhs!, [1,2]; name = \"f\", dependencies = \"X\", bonus_quadorder = 3)\n",
    "    return α, β, u, ∇(u), f\n",
    "end"
   ]
  },
  {
   "cell_type": "code",
   "execution_count": 3,
   "metadata": {},
   "outputs": [
    {
     "data": {
      "text/plain": [
       "ReactionConvectionDiffusionOperator (generic function with 1 method)"
      ]
     },
     "execution_count": 3,
     "metadata": {},
     "output_type": "execute_result"
    }
   ],
   "source": [
    "## custom bilinearform that can assemble the full PDE operator\n",
    "function ReactionConvectionDiffusionOperator(α, β, ν)\n",
    "    function action_kernel!(result, input)\n",
    "        ## input = [u,∇u] as a vector of length 3\n",
    "        result[1] = α()[1] * input[1] + dot(β(), view(input, 2:3))\n",
    "        result[2] = ν * input[2]\n",
    "        result[3] = ν * input[3]\n",
    "        ## result will be multiplied with [v,∇v]\n",
    "        return nothing\n",
    "    end\n",
    "    action = Action(action_kernel!, [3,3]; bonus_quadorder = max(α.bonus_quadorder,β.bonus_quadorder))\n",
    "    return BilinearForm([OperatorPair{Identity,Gradient},OperatorPair{Identity,Gradient}], action; \n",
    "        name = \"ν(∇u,∇v) + (αu + β⋅∇u, v)\", transposed_assembly = true)\n",
    "end"
   ]
  },
  {
   "cell_type": "markdown",
   "metadata": {},
   "source": [
    "Linear system of equations\n",
    "\\begin{align*}\n",
    "A u = f \\quad \\text{with } A=(a_{ij})_{i,j=1}^n\\in \\mathbb{R}^{n\\times n} \\\\\n",
    "\\sum_{j=1}^n a_{ij}u_j = f_i, \\qquad i=1,\\ldots,n\n",
    "\\end{align*}\n",
    "\n",
    "Define a symmetric artificial diffusion matrix $D$\n",
    "$$\n",
    "D = d_{ij} = d_{ji} = -\\max\\{a_{ij}, 0, a_{ji}\\}, \\text{ for } i\\neq j, \\quad d_{ii}=\\sum_{j=2, j\\neq i}^n d_{ij}\n",
    "$$"
   ]
  },
  {
   "cell_type": "code",
   "execution_count": 4,
   "metadata": {},
   "outputs": [
    {
     "data": {
      "text/plain": [
       "compute_matrix_D (generic function with 1 method)"
      ]
     },
     "execution_count": 4,
     "metadata": {},
     "output_type": "execute_result"
    }
   ],
   "source": [
    "function compute_matrix_D(A)\n",
    "    # run over all dofs\n",
    "    # loop over ....ndofs = \n",
    "    # {  \n",
    "    # loop i over rowptr\n",
    "    # {\n",
    "    #   col_index != i\n",
    "    # }\n",
    "    #}\n",
    "    \n",
    "end"
   ]
  },
  {
   "cell_type": "code",
   "execution_count": 5,
   "metadata": {},
   "outputs": [
    {
     "data": {
      "text/plain": [
       "run_main (generic function with 1 method)"
      ]
     },
     "execution_count": 5,
     "metadata": {},
     "output_type": "execute_result"
    }
   ],
   "source": [
    "function run_main(; ν=1e-5, nlevels=3)\n",
    "    # load initial mesh\n",
    "    xgrid = grid_unitsquare(Triangle2D)\n",
    "    # problem data\n",
    "    α, β, u, ∇u, f = get_problem_data(ν)\n",
    "    FEType = H1Pk{1,2,1}\n",
    "    FES = FESpace{FEType}(xgrid)\n",
    "        \n",
    "    xgrid = uniform_refine(xgrid, nlevels)\n",
    "    FES = FESpace{FEType}(xgrid)\n",
    "    # solution vector\n",
    "    Solution = FEVector(\"u_h\", FES)\n",
    "    \n",
    "    dt = Array{BoundaryData,1}(undef,0)\n",
    "    push!(dt,BoundaryData(BestapproxDirichletBoundary; regions = [3,4], data=u))\n",
    "    dofs = boundarydata!(Solution[1], dt)\n",
    "    \n",
    "    ## stiffness matrix\n",
    "    A = FEMatrix{Float64}(FES)\n",
    "    assemble_operator!(A[1,1], ReactionConvectionDiffusionOperator(α, β, ν))\n",
    "    # @show A.entries\n",
    "    rhs = FEVector{Float64}(FES)\n",
    "    assemble_operator!(rhs[1], LinearForm(Identity, f))\n",
    "    \n",
    "    # for Neumann\n",
    "    #rhs1 = FEVector{Float64}(FES)\n",
    "    #assemble_operator!(rhs1[1], LinearForm(Identity, g; AT=ON_BFACES, regions=[1,2])) # g is problem data\n",
    "    \n",
    "    # construction of D matrix\n",
    "    flush!(A.entries)\n",
    "    D = FEMatrix{Float64}(FES)\n",
    "    cscmat::SparseMatrixCSC{Float64,Int64} = A.entries.cscmatrix\n",
    "    #rows::Array{Ti,1} = rowvals(cscmat)\n",
    "    #valsA::Array{Tv,1} = cscmat.nzval\n",
    "    colptr::Vector{Int64} = cscmat.colptr\n",
    "    rowval::Vector{Int64} = cscmat.rowval\n",
    "    nzval::Vector{Float64} = cscmat.nzval\n",
    "    \n",
    "    k_ij = zero(Float64)\n",
    "    k_ji = zero(Float64)\n",
    "    DE = D.entries\n",
    "    \n",
    "    @time for i = 1 : FES.ndofs\n",
    "        for c in colptr[i]:(colptr[i+1]-1)            \n",
    "            j = rowval[c];\n",
    "            if j!==i\n",
    "                k_ij = nzval[c]\n",
    "                # transposed entry\n",
    "                for ll in colptr[j]:(colptr[j+1]-1)\n",
    "                    if rowval[ll] == i\n",
    "                        k_ji = nzval[ll]\n",
    "                        break\n",
    "                    end\n",
    "                end\n",
    "                DE[j,i] = min(-k_ij , 0.0 , -k_ji)\n",
    "            else\n",
    "                DE[j,j] = -1\n",
    "            end\n",
    "        end # endfor c\n",
    "    end\n",
    "    # diagonal\n",
    "    flush!(D.entries)\n",
    "    Dcscmat::SparseMatrixCSC{Float64,Int64} = D.entries.cscmatrix\n",
    "    Dcolptr::Vector{Int64} = Dcscmat.colptr\n",
    "    Drowval::Vector{Int64} = Dcscmat.rowval\n",
    "    Dzval::Vector{Float64} = Dcscmat.nzval\n",
    "    for i = 1 : FES.ndofs\n",
    "        ll = -1\n",
    "        val = zero(Float64)\n",
    "        for c in Dcolptr[i]:(Dcolptr[i+1]-1)            \n",
    "            val = val + Dzval[c]\n",
    "            j = Drowval[c]\n",
    "            if j==i\n",
    "                ll = c\n",
    "            end\n",
    "        end\n",
    "        Dzval[ll] = -val\n",
    "    end\n",
    "    \n",
    "    # check symmetric?\n",
    "    # println(norm(D.entries-D.entries'))\n",
    "    # @show D.entries\n",
    "    # check the M-matrix TODO??\n",
    "    FMatrix = FEMatrix{Float64}(FES)\n",
    "    Fcscmat::SparseMatrixCSC{Float64,Int64} = FMatrix.entries.cscmatrix    \n",
    "    Fcolptr::Vector{Int64} = Fcscmat.colptr\n",
    "    Frowval::Vector{Int64} = Fcscmat.rowval\n",
    "    Fzval::Vector{Float64} = Fcscmat.nzval\n",
    "    \n",
    "    for i = 1 : FES.ndofs\n",
    "        for c in Dcolptr[i]:(Dcolptr[i+1]-1)\n",
    "            index = Drowval[c]\n",
    "            # Fzval[c] \n",
    "        end\n",
    "    end\n",
    "    # nonlinear loop \n",
    "    \n",
    "    # setting dirichlet dofs\n",
    "    for dof in dofs\n",
    "        rhs[1][dof] = 1e60 * Solution[1][dof]\n",
    "        A[1,1][dof,dof] = 1e60\n",
    "    end\n",
    "    \n",
    "    flush!(A.entries)\n",
    "    Solution.entries[:] = A.entries \\ rhs.entries\n",
    "    #solve!(Solution, Problem)\n",
    "    \n",
    "    L2Error = L2ErrorIntegrator(u, Identity)\n",
    "    H1Error = L2ErrorIntegrator(∇u, Gradient)    \n",
    "    L2 = sqrt(evaluate(L2Error,Solution[1]))\n",
    "    H1 = sqrt(evaluate(H1Error,Solution[1]))\n",
    "    println(\"L2: \", L2, \" H1 \", H1)\n",
    "    println(\"done: \", FES.ndofs)\n",
    "    (L2, H1)\n",
    "end"
   ]
  },
  {
   "cell_type": "code",
   "execution_count": 6,
   "metadata": {},
   "outputs": [
    {
     "data": {
      "text/plain": [
       "convergence_test (generic function with 1 method)"
      ]
     },
     "execution_count": 6,
     "metadata": {},
     "output_type": "execute_result"
    }
   ],
   "source": [
    "function convergence_test(ns)\n",
    "    H1=[]; L2=[]\n",
    "    for n = 1 : ns\n",
    "        l2, h1 = run_main(ν=1e-0, nlevels=n)\n",
    "        push!(H1, h1)\n",
    "        push!(L2, l2)\n",
    "    end\n",
    "    (L2, H1)\n",
    "end"
   ]
  },
  {
   "cell_type": "code",
   "execution_count": 7,
   "metadata": {},
   "outputs": [
    {
     "name": "stderr",
     "output_type": "stream",
     "text": [
      "\u001b[33m\u001b[1m┌ \u001b[22m\u001b[39m\u001b[33m\u001b[1mWarning: \u001b[22m\u001b[39m 21830790 allocations during ITEMTYPE_BFACE volume calculation\n",
      "\u001b[33m\u001b[1m└ \u001b[22m\u001b[39m\u001b[90m@ ExtendableGrids ~/.julia/packages/ExtendableGrids/XFxI3/src/derived.jl:937\u001b[39m\n"
     ]
    },
    {
     "name": "stdout",
     "output_type": "stream",
     "text": [
      "  0.073507 seconds (54.51 k allocations: 2.791 MiB, 38.01% gc time, 99.90% compilation time)\n",
      "L2: 0.11535030287177803 H1 0.38850279922402614\n",
      "done: 13\n",
      "  0.000017 seconds (215 allocations: 8.844 KiB)\n",
      "L2: 0.11315854535366911 H1 0.4052950659333557\n",
      "done: 41\n",
      "  0.000049 seconds (807 allocations: 32.344 KiB)\n",
      "L2: 0.11253136224886941 H1 0.41148978446635526\n",
      "done: 145\n",
      "  0.000168 seconds (3.62 k allocations: 199.938 KiB)\n",
      "L2: 0.11236186690804757 H1 0.41366798339045285\n",
      "done: 545\n"
     ]
    },
    {
     "data": {
      "text/plain": [
       "(Any[0.11535030287177803, 0.11315854535366911, 0.11253136224886941, 0.11236186690804757], Any[0.38850279922402614, 0.4052950659333557, 0.41148978446635526, 0.41366798339045285])"
      ]
     },
     "execution_count": 7,
     "metadata": {},
     "output_type": "execute_result"
    }
   ],
   "source": [
    "L2, H1 = convergence_test(4)"
   ]
  },
  {
   "cell_type": "code",
   "execution_count": 8,
   "metadata": {},
   "outputs": [
    {
     "name": "stdout",
     "output_type": "stream",
     "text": [
      "L2uAny[0.11535030287177803, 0.11315854535366911, 0.11253136224886941, 0.11236186690804757]\n",
      "L2pAny[0.38850279922402614, 0.4052950659333557, 0.41148978446635526, 0.41366798339045285]\n"
     ]
    },
    {
     "data": {
      "image/svg+xml": [
       "<?xml version=\"1.0\" encoding=\"utf-8\"?>\n",
       "<svg xmlns=\"http://www.w3.org/2000/svg\" xmlns:xlink=\"http://www.w3.org/1999/xlink\" width=\"600\" height=\"400\" viewBox=\"0 0 2400 1600\">\n",
       "<defs>\n",
       "  <clipPath id=\"clip890\">\n",
       "    <rect x=\"0\" y=\"0\" width=\"2400\" height=\"1600\"/>\n",
       "  </clipPath>\n",
       "</defs>\n",
       "<path clip-path=\"url(#clip890)\" d=\"M0 1600 L2400 1600 L2400 0 L0 0  Z\" fill=\"#ffffff\" fill-rule=\"evenodd\" fill-opacity=\"1\"/>\n",
       "<defs>\n",
       "  <clipPath id=\"clip891\">\n",
       "    <rect x=\"480\" y=\"0\" width=\"1681\" height=\"1600\"/>\n",
       "  </clipPath>\n",
       "</defs>\n",
       "<path clip-path=\"url(#clip890)\" d=\"M313.626 1423.18 L2352.76 1423.18 L2352.76 47.2441 L313.626 47.2441  Z\" fill=\"#ffffff\" fill-rule=\"evenodd\" fill-opacity=\"1\"/>\n",
       "<defs>\n",
       "  <clipPath id=\"clip892\">\n",
       "    <rect x=\"313\" y=\"47\" width=\"2040\" height=\"1377\"/>\n",
       "  </clipPath>\n",
       "</defs>\n",
       "<polyline clip-path=\"url(#clip892)\" style=\"stroke:#000000; stroke-linecap:round; stroke-linejoin:round; stroke-width:2; stroke-opacity:0.1; fill:none\" points=\"371.337,1423.18 371.337,47.2441 \"/>\n",
       "<polyline clip-path=\"url(#clip892)\" style=\"stroke:#000000; stroke-linecap:round; stroke-linejoin:round; stroke-width:2; stroke-opacity:0.1; fill:none\" points=\"1012.57,1423.18 1012.57,47.2441 \"/>\n",
       "<polyline clip-path=\"url(#clip892)\" style=\"stroke:#000000; stroke-linecap:round; stroke-linejoin:round; stroke-width:2; stroke-opacity:0.1; fill:none\" points=\"1653.81,1423.18 1653.81,47.2441 \"/>\n",
       "<polyline clip-path=\"url(#clip892)\" style=\"stroke:#000000; stroke-linecap:round; stroke-linejoin:round; stroke-width:2; stroke-opacity:0.1; fill:none\" points=\"2295.04,1423.18 2295.04,47.2441 \"/>\n",
       "<polyline clip-path=\"url(#clip890)\" style=\"stroke:#000000; stroke-linecap:round; stroke-linejoin:round; stroke-width:4; stroke-opacity:1; fill:none\" points=\"313.626,1423.18 2352.76,1423.18 \"/>\n",
       "<polyline clip-path=\"url(#clip890)\" style=\"stroke:#000000; stroke-linecap:round; stroke-linejoin:round; stroke-width:4; stroke-opacity:1; fill:none\" points=\"371.337,1423.18 371.337,1404.28 \"/>\n",
       "<polyline clip-path=\"url(#clip890)\" style=\"stroke:#000000; stroke-linecap:round; stroke-linejoin:round; stroke-width:4; stroke-opacity:1; fill:none\" points=\"1012.57,1423.18 1012.57,1404.28 \"/>\n",
       "<polyline clip-path=\"url(#clip890)\" style=\"stroke:#000000; stroke-linecap:round; stroke-linejoin:round; stroke-width:4; stroke-opacity:1; fill:none\" points=\"1653.81,1423.18 1653.81,1404.28 \"/>\n",
       "<polyline clip-path=\"url(#clip890)\" style=\"stroke:#000000; stroke-linecap:round; stroke-linejoin:round; stroke-width:4; stroke-opacity:1; fill:none\" points=\"2295.04,1423.18 2295.04,1404.28 \"/>\n",
       "<path clip-path=\"url(#clip890)\" d=\"M361.719 1481.64 L369.358 1481.64 L369.358 1455.28 L361.048 1456.95 L361.048 1452.69 L369.312 1451.02 L373.988 1451.02 L373.988 1481.64 L381.626 1481.64 L381.626 1485.58 L361.719 1485.58 L361.719 1481.64 Z\" fill=\"#000000\" fill-rule=\"evenodd\" fill-opacity=\"1\" /><path clip-path=\"url(#clip890)\" d=\"M1007.23 1481.64 L1023.55 1481.64 L1023.55 1485.58 L1001.6 1485.58 L1001.6 1481.64 Q1004.26 1478.89 1008.85 1474.26 Q1013.45 1469.61 1014.63 1468.27 Q1016.88 1465.74 1017.76 1464.01 Q1018.66 1462.25 1018.66 1460.56 Q1018.66 1457.8 1016.72 1456.07 Q1014.8 1454.33 1011.69 1454.33 Q1009.49 1454.33 1007.04 1455.09 Q1004.61 1455.86 1001.83 1457.41 L1001.83 1452.69 Q1004.66 1451.55 1007.11 1450.97 Q1009.56 1450.39 1011.6 1450.39 Q1016.97 1450.39 1020.17 1453.08 Q1023.36 1455.77 1023.36 1460.26 Q1023.36 1462.39 1022.55 1464.31 Q1021.76 1466.2 1019.66 1468.8 Q1019.08 1469.47 1015.98 1472.69 Q1012.87 1475.88 1007.23 1481.64 Z\" fill=\"#000000\" fill-rule=\"evenodd\" fill-opacity=\"1\" /><path clip-path=\"url(#clip890)\" d=\"M1658.06 1466.95 Q1661.41 1467.66 1663.29 1469.93 Q1665.19 1472.2 1665.19 1475.53 Q1665.19 1480.65 1661.67 1483.45 Q1658.15 1486.25 1651.67 1486.25 Q1649.49 1486.25 1647.18 1485.81 Q1644.89 1485.39 1642.43 1484.54 L1642.43 1480.02 Q1644.38 1481.16 1646.69 1481.74 Q1649.01 1482.32 1651.53 1482.32 Q1655.93 1482.32 1658.22 1480.58 Q1660.53 1478.84 1660.53 1475.53 Q1660.53 1472.48 1658.38 1470.77 Q1656.25 1469.03 1652.43 1469.03 L1648.4 1469.03 L1648.4 1465.19 L1652.62 1465.19 Q1656.07 1465.19 1657.89 1463.82 Q1659.72 1462.43 1659.72 1459.84 Q1659.72 1457.18 1657.83 1455.77 Q1655.95 1454.33 1652.43 1454.33 Q1650.51 1454.33 1648.31 1454.75 Q1646.11 1455.16 1643.47 1456.04 L1643.47 1451.88 Q1646.14 1451.14 1648.45 1450.77 Q1650.79 1450.39 1652.85 1450.39 Q1658.17 1450.39 1661.27 1452.83 Q1664.38 1455.23 1664.38 1459.35 Q1664.38 1462.22 1662.73 1464.21 Q1661.09 1466.18 1658.06 1466.95 Z\" fill=\"#000000\" fill-rule=\"evenodd\" fill-opacity=\"1\" /><path clip-path=\"url(#clip890)\" d=\"M2298.05 1455.09 L2286.25 1473.54 L2298.05 1473.54 L2298.05 1455.09 M2296.83 1451.02 L2302.71 1451.02 L2302.71 1473.54 L2307.64 1473.54 L2307.64 1477.43 L2302.71 1477.43 L2302.71 1485.58 L2298.05 1485.58 L2298.05 1477.43 L2282.45 1477.43 L2282.45 1472.92 L2296.83 1451.02 Z\" fill=\"#000000\" fill-rule=\"evenodd\" fill-opacity=\"1\" /><path clip-path=\"url(#clip890)\" d=\"M1348.12 1546.53 L1348.12 1568.04 L1342.26 1568.04 L1342.26 1546.72 Q1342.26 1541.66 1340.29 1539.14 Q1338.32 1536.63 1334.37 1536.63 Q1329.63 1536.63 1326.89 1539.65 Q1324.15 1542.68 1324.15 1547.9 L1324.15 1568.04 L1318.26 1568.04 L1318.26 1518.52 L1324.15 1518.52 L1324.15 1537.93 Q1326.25 1534.72 1329.09 1533.13 Q1331.95 1531.54 1335.67 1531.54 Q1341.82 1531.54 1344.97 1535.36 Q1348.12 1539.14 1348.12 1546.53 Z\" fill=\"#000000\" fill-rule=\"evenodd\" fill-opacity=\"1\" /><polyline clip-path=\"url(#clip892)\" style=\"stroke:#000000; stroke-linecap:round; stroke-linejoin:round; stroke-width:2; stroke-opacity:0.1; fill:none\" points=\"313.626,927.009 2352.76,927.009 \"/>\n",
       "<polyline clip-path=\"url(#clip892)\" style=\"stroke:#000000; stroke-linecap:round; stroke-linejoin:round; stroke-width:2; stroke-opacity:0.1; fill:none\" points=\"313.626,353.697 2352.76,353.697 \"/>\n",
       "<polyline clip-path=\"url(#clip890)\" style=\"stroke:#000000; stroke-linecap:round; stroke-linejoin:round; stroke-width:4; stroke-opacity:1; fill:none\" points=\"313.626,1423.18 313.626,47.2441 \"/>\n",
       "<polyline clip-path=\"url(#clip890)\" style=\"stroke:#000000; stroke-linecap:round; stroke-linejoin:round; stroke-width:4; stroke-opacity:1; fill:none\" points=\"313.626,927.009 332.524,927.009 \"/>\n",
       "<polyline clip-path=\"url(#clip890)\" style=\"stroke:#000000; stroke-linecap:round; stroke-linejoin:round; stroke-width:4; stroke-opacity:1; fill:none\" points=\"313.626,353.697 332.524,353.697 \"/>\n",
       "<path clip-path=\"url(#clip890)\" d=\"M115.74 946.801 L123.379 946.801 L123.379 920.435 L115.069 922.102 L115.069 917.843 L123.333 916.176 L128.009 916.176 L128.009 946.801 L135.647 946.801 L135.647 950.736 L115.74 950.736 L115.74 946.801 Z\" fill=\"#000000\" fill-rule=\"evenodd\" fill-opacity=\"1\" /><path clip-path=\"url(#clip890)\" d=\"M155.092 919.255 Q151.481 919.255 149.652 922.82 Q147.846 926.361 147.846 933.491 Q147.846 940.597 149.652 944.162 Q151.481 947.704 155.092 947.704 Q158.726 947.704 160.532 944.162 Q162.36 940.597 162.36 933.491 Q162.36 926.361 160.532 922.82 Q158.726 919.255 155.092 919.255 M155.092 915.551 Q160.902 915.551 163.958 920.158 Q167.036 924.741 167.036 933.491 Q167.036 942.218 163.958 946.824 Q160.902 951.407 155.092 951.407 Q149.282 951.407 146.203 946.824 Q143.147 942.218 143.147 933.491 Q143.147 924.741 146.203 920.158 Q149.282 915.551 155.092 915.551 Z\" fill=\"#000000\" fill-rule=\"evenodd\" fill-opacity=\"1\" /><path clip-path=\"url(#clip890)\" d=\"M167.036 909.652 L191.148 909.652 L191.148 912.85 L167.036 912.85 L167.036 909.652 Z\" fill=\"#000000\" fill-rule=\"evenodd\" fill-opacity=\"1\" /><path clip-path=\"url(#clip890)\" d=\"M207.473 897.747 Q204.539 897.747 203.053 900.644 Q201.586 903.521 201.586 909.314 Q201.586 915.088 203.053 917.984 Q204.539 920.862 207.473 920.862 Q210.426 920.862 211.893 917.984 Q213.379 915.088 213.379 909.314 Q213.379 903.521 211.893 900.644 Q210.426 897.747 207.473 897.747 M207.473 894.738 Q212.194 894.738 214.676 898.481 Q217.178 902.205 217.178 909.314 Q217.178 916.404 214.676 920.147 Q212.194 923.871 207.473 923.871 Q202.752 923.871 200.251 920.147 Q197.768 916.404 197.768 909.314 Q197.768 902.205 200.251 898.481 Q202.752 894.738 207.473 894.738 Z\" fill=\"#000000\" fill-rule=\"evenodd\" fill-opacity=\"1\" /><path clip-path=\"url(#clip890)\" d=\"M223.854 918.549 L227.823 918.549 L227.823 923.326 L223.854 923.326 L223.854 918.549 Z\" fill=\"#000000\" fill-rule=\"evenodd\" fill-opacity=\"1\" /><path clip-path=\"url(#clip890)\" d=\"M235.139 895.246 L253.195 895.246 L253.195 896.863 L243.001 923.326 L239.032 923.326 L248.624 898.443 L235.139 898.443 L235.139 895.246 Z\" fill=\"#000000\" fill-rule=\"evenodd\" fill-opacity=\"1\" /><path clip-path=\"url(#clip890)\" d=\"M260.642 895.246 L275.557 895.246 L275.557 898.443 L264.122 898.443 L264.122 905.327 Q264.949 905.045 265.777 904.913 Q266.605 904.762 267.432 904.762 Q272.134 904.762 274.88 907.339 Q277.626 909.916 277.626 914.317 Q277.626 918.849 274.805 921.37 Q271.984 923.871 266.849 923.871 Q265.081 923.871 263.238 923.57 Q261.414 923.269 259.458 922.667 L259.458 918.849 Q261.15 919.771 262.956 920.222 Q264.761 920.674 266.774 920.674 Q270.028 920.674 271.927 918.962 Q273.827 917.251 273.827 914.317 Q273.827 911.383 271.927 909.671 Q270.028 907.96 266.774 907.96 Q265.25 907.96 263.727 908.298 Q262.222 908.637 260.642 909.352 L260.642 895.246 Z\" fill=\"#000000\" fill-rule=\"evenodd\" fill-opacity=\"1\" /><path clip-path=\"url(#clip890)\" d=\"M114.931 373.49 L122.57 373.49 L122.57 347.124 L114.26 348.791 L114.26 344.531 L122.524 342.865 L127.2 342.865 L127.2 373.49 L134.839 373.49 L134.839 377.425 L114.931 377.425 L114.931 373.49 Z\" fill=\"#000000\" fill-rule=\"evenodd\" fill-opacity=\"1\" /><path clip-path=\"url(#clip890)\" d=\"M154.283 345.943 Q150.672 345.943 148.843 349.508 Q147.038 353.05 147.038 360.179 Q147.038 367.286 148.843 370.851 Q150.672 374.392 154.283 374.392 Q157.917 374.392 159.723 370.851 Q161.552 367.286 161.552 360.179 Q161.552 353.05 159.723 349.508 Q157.917 345.943 154.283 345.943 M154.283 342.24 Q160.093 342.24 163.149 346.846 Q166.227 351.43 166.227 360.179 Q166.227 368.906 163.149 373.513 Q160.093 378.096 154.283 378.096 Q148.473 378.096 145.394 373.513 Q142.339 368.906 142.339 360.179 Q142.339 351.43 145.394 346.846 Q148.473 342.24 154.283 342.24 Z\" fill=\"#000000\" fill-rule=\"evenodd\" fill-opacity=\"1\" /><path clip-path=\"url(#clip890)\" d=\"M166.227 336.341 L190.339 336.341 L190.339 339.538 L166.227 339.538 L166.227 336.341 Z\" fill=\"#000000\" fill-rule=\"evenodd\" fill-opacity=\"1\" /><path clip-path=\"url(#clip890)\" d=\"M206.664 324.436 Q203.73 324.436 202.244 327.332 Q200.777 330.21 200.777 336.003 Q200.777 341.777 202.244 344.673 Q203.73 347.551 206.664 347.551 Q209.617 347.551 211.084 344.673 Q212.57 341.777 212.57 336.003 Q212.57 330.21 211.084 327.332 Q209.617 324.436 206.664 324.436 M206.664 321.427 Q211.385 321.427 213.868 325.169 Q216.369 328.893 216.369 336.003 Q216.369 343.093 213.868 346.836 Q211.385 350.56 206.664 350.56 Q201.943 350.56 199.442 346.836 Q196.959 343.093 196.959 336.003 Q196.959 328.893 199.442 325.169 Q201.943 321.427 206.664 321.427 Z\" fill=\"#000000\" fill-rule=\"evenodd\" fill-opacity=\"1\" /><path clip-path=\"url(#clip890)\" d=\"M223.046 345.237 L227.014 345.237 L227.014 350.014 L223.046 350.014 L223.046 345.237 Z\" fill=\"#000000\" fill-rule=\"evenodd\" fill-opacity=\"1\" /><path clip-path=\"url(#clip890)\" d=\"M235.327 321.934 L250.242 321.934 L250.242 325.132 L238.807 325.132 L238.807 332.015 Q239.634 331.733 240.462 331.602 Q241.289 331.451 242.117 331.451 Q246.819 331.451 249.565 334.028 Q252.311 336.604 252.311 341.005 Q252.311 345.538 249.489 348.058 Q246.668 350.56 241.534 350.56 Q239.766 350.56 237.923 350.259 Q236.098 349.958 234.142 349.356 L234.142 345.538 Q235.835 346.46 237.641 346.911 Q239.446 347.362 241.459 347.362 Q244.712 347.362 246.612 345.651 Q248.511 343.939 248.511 341.005 Q248.511 338.071 246.612 336.36 Q244.712 334.648 241.459 334.648 Q239.935 334.648 238.412 334.987 Q236.907 335.325 235.327 336.04 L235.327 321.934 Z\" fill=\"#000000\" fill-rule=\"evenodd\" fill-opacity=\"1\" /><path clip-path=\"url(#clip890)\" d=\"M267.921 324.436 Q264.987 324.436 263.501 327.332 Q262.034 330.21 262.034 336.003 Q262.034 341.777 263.501 344.673 Q264.987 347.551 267.921 347.551 Q270.874 347.551 272.341 344.673 Q273.827 341.777 273.827 336.003 Q273.827 330.21 272.341 327.332 Q270.874 324.436 267.921 324.436 M267.921 321.427 Q272.642 321.427 275.124 325.169 Q277.626 328.893 277.626 336.003 Q277.626 343.093 275.124 346.836 Q272.642 350.56 267.921 350.56 Q263.2 350.56 260.699 346.836 Q258.216 343.093 258.216 336.003 Q258.216 328.893 260.699 325.169 Q263.2 321.427 267.921 321.427 Z\" fill=\"#000000\" fill-rule=\"evenodd\" fill-opacity=\"1\" /><path clip-path=\"url(#clip890)\" d=\"M44.7161 872.043 L47.5806 872.043 L47.5806 898.97 Q53.6281 898.588 56.8109 895.341 Q59.9619 892.063 59.9619 886.238 Q59.9619 882.865 59.1344 879.714 Q58.3069 876.531 56.6518 873.411 L62.1899 873.411 Q63.5267 876.562 64.227 879.873 Q64.9272 883.183 64.9272 886.588 Q64.9272 895.119 59.9619 900.116 Q54.9967 905.081 46.5303 905.081 Q37.7774 905.081 32.6531 900.37 Q27.4968 895.628 27.4968 887.607 Q27.4968 880.414 32.1438 876.244 Q36.7589 872.043 44.7161 872.043 M42.9973 877.899 Q38.1912 877.963 35.3266 880.605 Q32.4621 883.215 32.4621 887.543 Q32.4621 892.445 35.2312 895.405 Q38.0002 898.333 43.0292 898.779 L42.9973 877.899 Z\" fill=\"#000000\" fill-rule=\"evenodd\" fill-opacity=\"1\" /><path clip-path=\"url(#clip890)\" d=\"M33.8307 841.774 Q33.2578 842.761 33.0032 843.938 Q32.7167 845.084 32.7167 846.485 Q32.7167 851.45 35.9632 854.123 Q39.1779 856.765 45.2253 856.765 L64.0042 856.765 L64.0042 862.653 L28.3562 862.653 L28.3562 856.765 L33.8944 856.765 Q30.6479 854.919 29.0883 851.959 Q27.4968 848.999 27.4968 844.766 Q27.4968 844.161 27.5923 843.429 Q27.656 842.697 27.8151 841.806 L33.8307 841.774 Z\" fill=\"#000000\" fill-rule=\"evenodd\" fill-opacity=\"1\" /><path clip-path=\"url(#clip890)\" d=\"M33.8307 816.12 Q33.2578 817.107 33.0032 818.284 Q32.7167 819.43 32.7167 820.831 Q32.7167 825.796 35.9632 828.47 Q39.1779 831.111 45.2253 831.111 L64.0042 831.111 L64.0042 837 L28.3562 837 L28.3562 831.111 L33.8944 831.111 Q30.6479 829.265 29.0883 826.305 Q27.4968 823.345 27.4968 819.112 Q27.4968 818.507 27.5923 817.775 Q27.656 817.043 27.8151 816.152 L33.8307 816.12 Z\" fill=\"#000000\" fill-rule=\"evenodd\" fill-opacity=\"1\" /><path clip-path=\"url(#clip890)\" d=\"M32.4621 797.596 Q32.4621 802.307 36.1542 805.044 Q39.8145 807.781 46.212 807.781 Q52.6095 807.781 56.3017 805.076 Q59.9619 802.338 59.9619 797.596 Q59.9619 792.917 56.2698 790.18 Q52.5777 787.443 46.212 787.443 Q39.8781 787.443 36.186 790.18 Q32.4621 792.917 32.4621 797.596 M27.4968 797.596 Q27.4968 789.957 32.4621 785.597 Q37.4273 781.236 46.212 781.236 Q54.9649 781.236 59.9619 785.597 Q64.9272 789.957 64.9272 797.596 Q64.9272 805.267 59.9619 809.627 Q54.9649 813.956 46.212 813.956 Q37.4273 813.956 32.4621 809.627 Q27.4968 805.267 27.4968 797.596 Z\" fill=\"#000000\" fill-rule=\"evenodd\" fill-opacity=\"1\" /><path clip-path=\"url(#clip890)\" d=\"M33.8307 750.872 Q33.2578 751.858 33.0032 753.036 Q32.7167 754.182 32.7167 755.582 Q32.7167 760.547 35.9632 763.221 Q39.1779 765.863 45.2253 765.863 L64.0042 765.863 L64.0042 771.751 L28.3562 771.751 L28.3562 765.863 L33.8944 765.863 Q30.6479 764.017 29.0883 761.057 Q27.4968 758.097 27.4968 753.863 Q27.4968 753.259 27.5923 752.527 Q27.656 751.795 27.8151 750.903 L33.8307 750.872 Z\" fill=\"#000000\" fill-rule=\"evenodd\" fill-opacity=\"1\" /><path clip-path=\"url(#clip890)\" d=\"M42.4881 694.376 L64.0042 694.376 L64.0042 700.232 L42.679 700.232 Q37.6183 700.232 35.1038 702.206 Q32.5894 704.179 32.5894 708.126 Q32.5894 712.868 35.6131 715.606 Q38.6368 718.343 43.8567 718.343 L64.0042 718.343 L64.0042 724.231 L28.3562 724.231 L28.3562 718.343 L33.8944 718.343 Q30.6797 716.242 29.0883 713.409 Q27.4968 710.545 27.4968 706.821 Q27.4968 700.678 31.3163 697.527 Q35.1038 694.376 42.4881 694.376 Z\" fill=\"#000000\" fill-rule=\"evenodd\" fill-opacity=\"1\" /><path clip-path=\"url(#clip890)\" d=\"M32.4621 668.881 Q32.4621 673.592 36.1542 676.329 Q39.8145 679.066 46.212 679.066 Q52.6095 679.066 56.3017 676.361 Q59.9619 673.624 59.9619 668.881 Q59.9619 664.203 56.2698 661.465 Q52.5777 658.728 46.212 658.728 Q39.8781 658.728 36.186 661.465 Q32.4621 664.203 32.4621 668.881 M27.4968 668.881 Q27.4968 661.242 32.4621 656.882 Q37.4273 652.521 46.212 652.521 Q54.9649 652.521 59.9619 656.882 Q64.9272 661.242 64.9272 668.881 Q64.9272 676.552 59.9619 680.912 Q54.9649 685.241 46.212 685.241 Q37.4273 685.241 32.4621 680.912 Q27.4968 676.552 27.4968 668.881 Z\" fill=\"#000000\" fill-rule=\"evenodd\" fill-opacity=\"1\" /><path clip-path=\"url(#clip890)\" d=\"M33.8307 622.157 Q33.2578 623.144 33.0032 624.321 Q32.7167 625.467 32.7167 626.868 Q32.7167 631.833 35.9632 634.506 Q39.1779 637.148 45.2253 637.148 L64.0042 637.148 L64.0042 643.037 L28.3562 643.037 L28.3562 637.148 L33.8944 637.148 Q30.6479 635.302 29.0883 632.342 Q27.4968 629.382 27.4968 625.149 Q27.4968 624.544 27.5923 623.812 Q27.656 623.08 27.8151 622.189 L33.8307 622.157 Z\" fill=\"#000000\" fill-rule=\"evenodd\" fill-opacity=\"1\" /><path clip-path=\"url(#clip890)\" d=\"M35.1993 589.405 Q31.2526 587.209 29.3747 584.154 Q27.4968 581.098 27.4968 576.961 Q27.4968 571.391 31.4117 568.367 Q35.2948 565.343 42.4881 565.343 L64.0042 565.343 L64.0042 571.231 L42.679 571.231 Q37.5546 571.231 35.072 573.046 Q32.5894 574.86 32.5894 578.584 Q32.5894 583.135 35.6131 585.777 Q38.6368 588.419 43.8567 588.419 L64.0042 588.419 L64.0042 594.307 L42.679 594.307 Q37.5228 594.307 35.072 596.121 Q32.5894 597.936 32.5894 601.723 Q32.5894 606.211 35.6449 608.853 Q38.6686 611.494 43.8567 611.494 L64.0042 611.494 L64.0042 617.383 L28.3562 617.383 L28.3562 611.494 L33.8944 611.494 Q30.616 609.489 29.0564 606.688 Q27.4968 603.887 27.4968 600.036 Q27.4968 596.153 29.4702 593.448 Q31.4436 590.71 35.1993 589.405 Z\" fill=\"#000000\" fill-rule=\"evenodd\" fill-opacity=\"1\" /><polyline clip-path=\"url(#clip892)\" style=\"stroke:#009af9; stroke-linecap:round; stroke-linejoin:round; stroke-width:4; stroke-opacity:1; fill:none\" points=\"371.337,1358.1 1012.57,1377.2 1653.81,1382.74 2295.04,1384.24 \"/>\n",
       "<line clip-path=\"url(#clip892)\" x1=\"371.337\" y1=\"1358.1\" x2=\"371.337\" y2=\"1342.1\" style=\"stroke:#009af9; stroke-width:3.2; stroke-opacity:1\"/>\n",
       "<line clip-path=\"url(#clip892)\" x1=\"371.337\" y1=\"1358.1\" x2=\"355.337\" y2=\"1358.1\" style=\"stroke:#009af9; stroke-width:3.2; stroke-opacity:1\"/>\n",
       "<line clip-path=\"url(#clip892)\" x1=\"371.337\" y1=\"1358.1\" x2=\"371.337\" y2=\"1374.1\" style=\"stroke:#009af9; stroke-width:3.2; stroke-opacity:1\"/>\n",
       "<line clip-path=\"url(#clip892)\" x1=\"371.337\" y1=\"1358.1\" x2=\"387.337\" y2=\"1358.1\" style=\"stroke:#009af9; stroke-width:3.2; stroke-opacity:1\"/>\n",
       "<line clip-path=\"url(#clip892)\" x1=\"1012.57\" y1=\"1377.2\" x2=\"1012.57\" y2=\"1361.2\" style=\"stroke:#009af9; stroke-width:3.2; stroke-opacity:1\"/>\n",
       "<line clip-path=\"url(#clip892)\" x1=\"1012.57\" y1=\"1377.2\" x2=\"996.573\" y2=\"1377.2\" style=\"stroke:#009af9; stroke-width:3.2; stroke-opacity:1\"/>\n",
       "<line clip-path=\"url(#clip892)\" x1=\"1012.57\" y1=\"1377.2\" x2=\"1012.57\" y2=\"1393.2\" style=\"stroke:#009af9; stroke-width:3.2; stroke-opacity:1\"/>\n",
       "<line clip-path=\"url(#clip892)\" x1=\"1012.57\" y1=\"1377.2\" x2=\"1028.57\" y2=\"1377.2\" style=\"stroke:#009af9; stroke-width:3.2; stroke-opacity:1\"/>\n",
       "<line clip-path=\"url(#clip892)\" x1=\"1653.81\" y1=\"1382.74\" x2=\"1653.81\" y2=\"1366.74\" style=\"stroke:#009af9; stroke-width:3.2; stroke-opacity:1\"/>\n",
       "<line clip-path=\"url(#clip892)\" x1=\"1653.81\" y1=\"1382.74\" x2=\"1637.81\" y2=\"1382.74\" style=\"stroke:#009af9; stroke-width:3.2; stroke-opacity:1\"/>\n",
       "<line clip-path=\"url(#clip892)\" x1=\"1653.81\" y1=\"1382.74\" x2=\"1653.81\" y2=\"1398.74\" style=\"stroke:#009af9; stroke-width:3.2; stroke-opacity:1\"/>\n",
       "<line clip-path=\"url(#clip892)\" x1=\"1653.81\" y1=\"1382.74\" x2=\"1669.81\" y2=\"1382.74\" style=\"stroke:#009af9; stroke-width:3.2; stroke-opacity:1\"/>\n",
       "<line clip-path=\"url(#clip892)\" x1=\"2295.04\" y1=\"1384.24\" x2=\"2295.04\" y2=\"1368.24\" style=\"stroke:#009af9; stroke-width:3.2; stroke-opacity:1\"/>\n",
       "<line clip-path=\"url(#clip892)\" x1=\"2295.04\" y1=\"1384.24\" x2=\"2279.04\" y2=\"1384.24\" style=\"stroke:#009af9; stroke-width:3.2; stroke-opacity:1\"/>\n",
       "<line clip-path=\"url(#clip892)\" x1=\"2295.04\" y1=\"1384.24\" x2=\"2295.04\" y2=\"1400.24\" style=\"stroke:#009af9; stroke-width:3.2; stroke-opacity:1\"/>\n",
       "<line clip-path=\"url(#clip892)\" x1=\"2295.04\" y1=\"1384.24\" x2=\"2311.04\" y2=\"1384.24\" style=\"stroke:#009af9; stroke-width:3.2; stroke-opacity:1\"/>\n",
       "<polyline clip-path=\"url(#clip892)\" style=\"stroke:#e26f46; stroke-linecap:round; stroke-linejoin:round; stroke-width:4; stroke-opacity:1; fill:none\" points=\"371.337,148.694 1012.57,106.551 1653.81,91.4437 2295.04,86.1857 \"/>\n",
       "<circle clip-path=\"url(#clip892)\" cx=\"371.337\" cy=\"148.694\" r=\"14.4\" fill=\"#e26f46\" fill-rule=\"evenodd\" fill-opacity=\"1\" stroke=\"#000000\" stroke-opacity=\"1\" stroke-width=\"3.2\"/>\n",
       "<circle clip-path=\"url(#clip892)\" cx=\"1012.57\" cy=\"106.551\" r=\"14.4\" fill=\"#e26f46\" fill-rule=\"evenodd\" fill-opacity=\"1\" stroke=\"#000000\" stroke-opacity=\"1\" stroke-width=\"3.2\"/>\n",
       "<circle clip-path=\"url(#clip892)\" cx=\"1653.81\" cy=\"91.4437\" r=\"14.4\" fill=\"#e26f46\" fill-rule=\"evenodd\" fill-opacity=\"1\" stroke=\"#000000\" stroke-opacity=\"1\" stroke-width=\"3.2\"/>\n",
       "<circle clip-path=\"url(#clip892)\" cx=\"2295.04\" cy=\"86.1857\" r=\"14.4\" fill=\"#e26f46\" fill-rule=\"evenodd\" fill-opacity=\"1\" stroke=\"#000000\" stroke-opacity=\"1\" stroke-width=\"3.2\"/>\n",
       "<path clip-path=\"url(#clip890)\" d=\"M381.597 248.629 L672.408 248.629 L672.408 93.1086 L381.597 93.1086  Z\" fill=\"#ffffff\" fill-rule=\"evenodd\" fill-opacity=\"1\"/>\n",
       "<polyline clip-path=\"url(#clip890)\" style=\"stroke:#000000; stroke-linecap:round; stroke-linejoin:round; stroke-width:4; stroke-opacity:1; fill:none\" points=\"381.597,248.629 672.408,248.629 672.408,93.1086 381.597,93.1086 381.597,248.629 \"/>\n",
       "<polyline clip-path=\"url(#clip890)\" style=\"stroke:#009af9; stroke-linecap:round; stroke-linejoin:round; stroke-width:4; stroke-opacity:1; fill:none\" points=\"404.254,144.949 540.196,144.949 \"/>\n",
       "<line clip-path=\"url(#clip890)\" x1=\"472.225\" y1=\"144.949\" x2=\"472.225\" y2=\"123.97\" style=\"stroke:#009af9; stroke-width:5.12; stroke-opacity:1\"/>\n",
       "<line clip-path=\"url(#clip890)\" x1=\"472.225\" y1=\"144.949\" x2=\"451.246\" y2=\"144.949\" style=\"stroke:#009af9; stroke-width:5.12; stroke-opacity:1\"/>\n",
       "<line clip-path=\"url(#clip890)\" x1=\"472.225\" y1=\"144.949\" x2=\"472.225\" y2=\"165.927\" style=\"stroke:#009af9; stroke-width:5.12; stroke-opacity:1\"/>\n",
       "<line clip-path=\"url(#clip890)\" x1=\"472.225\" y1=\"144.949\" x2=\"493.204\" y2=\"144.949\" style=\"stroke:#009af9; stroke-width:5.12; stroke-opacity:1\"/>\n",
       "<path clip-path=\"url(#clip890)\" d=\"M562.853 127.669 L567.529 127.669 L567.529 158.293 L584.357 158.293 L584.357 162.229 L562.853 162.229 L562.853 127.669 Z\" fill=\"#000000\" fill-rule=\"evenodd\" fill-opacity=\"1\" /><path clip-path=\"url(#clip890)\" d=\"M593.709 158.293 L610.029 158.293 L610.029 162.229 L588.084 162.229 L588.084 158.293 Q590.746 155.539 595.33 150.909 Q599.936 146.256 601.117 144.914 Q603.362 142.391 604.242 140.655 Q605.144 138.895 605.144 137.206 Q605.144 134.451 603.2 132.715 Q601.279 130.979 598.177 130.979 Q595.978 130.979 593.524 131.743 Q591.093 132.507 588.316 134.057 L588.316 129.335 Q591.14 128.201 593.593 127.622 Q596.047 127.044 598.084 127.044 Q603.455 127.044 606.649 129.729 Q609.843 132.414 609.843 136.905 Q609.843 139.034 609.033 140.956 Q608.246 142.854 606.14 145.446 Q605.561 146.118 602.459 149.335 Q599.357 152.53 593.709 158.293 Z\" fill=\"#000000\" fill-rule=\"evenodd\" fill-opacity=\"1\" /><path clip-path=\"url(#clip890)\" d=\"M618.802 151.997 L618.802 136.303 L623.061 136.303 L623.061 151.835 Q623.061 155.516 624.496 157.368 Q625.931 159.196 628.802 159.196 Q632.251 159.196 634.241 156.997 Q636.255 154.798 636.255 151.002 L636.255 136.303 L640.515 136.303 L640.515 162.229 L636.255 162.229 L636.255 158.247 Q634.704 160.608 632.644 161.766 Q630.607 162.9 627.899 162.9 Q623.431 162.9 621.116 160.122 Q618.802 157.344 618.802 151.997 M629.519 135.678 L629.519 135.678 Z\" fill=\"#000000\" fill-rule=\"evenodd\" fill-opacity=\"1\" /><polyline clip-path=\"url(#clip890)\" style=\"stroke:#e26f46; stroke-linecap:round; stroke-linejoin:round; stroke-width:4; stroke-opacity:1; fill:none\" points=\"404.254,196.789 540.196,196.789 \"/>\n",
       "<circle clip-path=\"url(#clip890)\" cx=\"472.225\" cy=\"196.789\" r=\"18.8808\" fill=\"#e26f46\" fill-rule=\"evenodd\" fill-opacity=\"1\" stroke=\"#000000\" stroke-opacity=\"1\" stroke-width=\"5.12\"/>\n",
       "<path clip-path=\"url(#clip890)\" d=\"M562.853 179.509 L567.529 179.509 L567.529 193.675 L584.519 193.675 L584.519 179.509 L589.195 179.509 L589.195 214.069 L584.519 214.069 L584.519 197.61 L567.529 197.61 L567.529 214.069 L562.853 214.069 L562.853 179.509 Z\" fill=\"#000000\" fill-rule=\"evenodd\" fill-opacity=\"1\" /><path clip-path=\"url(#clip890)\" d=\"M599.728 210.133 L607.367 210.133 L607.367 183.768 L599.056 185.435 L599.056 181.175 L607.32 179.509 L611.996 179.509 L611.996 210.133 L619.635 210.133 L619.635 214.069 L599.728 214.069 L599.728 210.133 Z\" fill=\"#000000\" fill-rule=\"evenodd\" fill-opacity=\"1\" /><path clip-path=\"url(#clip890)\" d=\"M628.038 203.837 L628.038 188.143 L632.297 188.143 L632.297 203.675 Q632.297 207.356 633.732 209.208 Q635.167 211.036 638.038 211.036 Q641.487 211.036 643.477 208.837 Q645.491 206.638 645.491 202.842 L645.491 188.143 L649.751 188.143 L649.751 214.069 L645.491 214.069 L645.491 210.087 Q643.94 212.448 641.88 213.606 Q639.843 214.74 637.135 214.74 Q632.667 214.74 630.353 211.962 Q628.038 209.184 628.038 203.837 M638.755 187.518 L638.755 187.518 Z\" fill=\"#000000\" fill-rule=\"evenodd\" fill-opacity=\"1\" /></svg>\n"
      ]
     },
     "execution_count": 8,
     "metadata": {},
     "output_type": "execute_result"
    }
   ],
   "source": [
    "using Plots\n",
    "println(\"L2u\", L2)\n",
    "println(\"L2p\", H1)\n",
    "taus = [1, 2, 3, 4]\n",
    "plot(taus,[L2 H1],\n",
    "    yaxis=:log10,\n",
    "    label=[\"L2u\" \"H1u\"],\n",
    "    shape=:auto,\n",
    "    xlabel=\"h\",ylabel=\"error norm\")"
   ]
  }
 ],
 "metadata": {
  "kernelspec": {
   "display_name": "Julia 1.8.5",
   "language": "julia",
   "name": "julia-1.8"
  },
  "language_info": {
   "file_extension": ".jl",
   "mimetype": "application/julia",
   "name": "julia",
   "version": "1.8.5"
  }
 },
 "nbformat": 4,
 "nbformat_minor": 5
}
