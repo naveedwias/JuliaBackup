{
 "cells": [
  {
   "cell_type": "code",
   "execution_count": 156,
   "id": "4a6c54c9",
   "metadata": {},
   "outputs": [
    {
     "name": "stderr",
     "output_type": "stream",
     "text": [
      "WARNING: replacing module VariationalTimeDisc.\n"
     ]
    },
    {
     "data": {
      "text/plain": [
       "Main.VariationalTimeDisc"
      ]
     },
     "execution_count": 156,
     "metadata": {},
     "output_type": "execute_result"
    }
   ],
   "source": [
    "using GradientRobustMultiPhysics\n",
    "using ExtendableGrids\n",
    "using ExtendableSparse\n",
    "using GridVisualize\n",
    "using SimplexGridFactory\n",
    "using Triangulate\n",
    "using LinearAlgebra\n",
    "using Plots\n",
    "include(\"../src/flowdata.jl\")\n",
    "include(\"../src/variationaltimedisc.jl\")"
   ]
  },
  {
   "cell_type": "code",
   "execution_count": 161,
   "id": "419f4ca2",
   "metadata": {},
   "outputs": [
    {
     "data": {
      "text/plain": [
       "run_dg_navier_stokes (generic function with 7 methods)"
      ]
     },
     "execution_count": 161,
     "metadata": {},
     "output_type": "execute_result"
    }
   ],
   "source": [
    "function run_dg_navier_stokes(problem=1, order=2, Re=1e0, level=2, time_order = 1, scheme = 0)\n",
    "    @assert order in 1:4\n",
    "    \n",
    "    ## FEType Pk + enrichment + pressure    \n",
    "    FETypes = [H1Pk{2,2,order}, H1Pk{1,2,order-1}]\n",
    "    \n",
    "    # set the time discretization\n",
    "    ## choose the time discretization \n",
    "    TDisc = VariationalTimeDisc.SetVariationalTimeDisc(Float64, time_order, scheme)  \n",
    "    ## get exact flow data\n",
    "    points,u,dtu,p,∇u,f,μ,periodic = get_problemdata(problem, Re = Re)\n",
    "    \n",
    "    # grid and refinement\n",
    "    Solution = nothing\n",
    "    xgrid = nothing\n",
    "    pvis = GridVisualizer(; Plotter = nothing, layout = (1,2), clear = true, resolution = (1000,500))\n",
    "    xgrid = get_grid(level; points = points, uniform = true)\n",
    "    #@show level xgrid\n",
    "    Problem = PDEDescription(\"Navier-Stokes problem\")\n",
    "    add_unknown!(Problem; equation_name = \"momentum equation (Pk part)\", unknown_name = \"u_Pk\")\n",
    "    add_unknown!(Problem; equation_name = \"incompressibility constraint\", unknown_name = \"p\",\n",
    "        algebraic_constraint = true)\n",
    "    \n",
    "    FES = [FESpace{FETypes[1]}(xgrid), FESpace{FETypes[2]}(xgrid; broken = true)]\n",
    "    Solution = FEVector(FES)\n",
    "    @show Problem\n",
    "    \n",
    "    # assembling matrices at time = 0\n",
    "    M = FEMatrix{Float64}(FES)\n",
    "    assemble_operator!(M[1,1], BilinearForm([Identity, Identity]))\n",
    "    # velocity-velocity and pressure-velocity blocks\n",
    "    A = FEMatrix{Float64}(FES)\n",
    "    assemble_operator!(A[1,1], LaplaceOperator(μ))\n",
    "    assemble_operator!(A[1,2], LagrangeMultiplier(Divergence); At = A[2,1]) \n",
    "    # right hand side\n",
    "    rhs = FEVector{Float64}(FES)\n",
    "    assemble_operator!(rhs[1], LinearForm(Identity, u); time=0.0)\n",
    "    \n",
    "end"
   ]
  },
  {
   "cell_type": "code",
   "execution_count": 162,
   "id": "d3eec378",
   "metadata": {},
   "outputs": [
    {
     "name": "stdout",
     "output_type": "stream",
     "text": [
      "\n",
      "VariationalTimeDisc(r=1, k=0): dG(1)\n",
      "\"Linear space and time example!!!!\" = \"Linear space and time example!!!!\"\n",
      "Problem = \n",
      "PDE-DESCRIPTION\n",
      "===============\n",
      "  system name = Navier-Stokes problem\n",
      "\n",
      "      id    | unknown name / variables [#A, #T] / equation name\n",
      "     [1]    | u_Pk / [\"u\", \"v\"] / momentum equation (Pk part) \n",
      "     [2]    | p / [\"p\", \"q\"] / incompressibility constraint \n",
      "\n",
      "  LHS block | PDEOperator(s)\n",
      "    [1,1]   | none\n",
      "    [1,2]   | none\n",
      "    [2,1]   | none\n",
      "    [2,2]   | none\n",
      "\n",
      "  RHS block | PDEOperator(s)\n",
      "     [1]    | none\n",
      "     [2]    | none\n",
      "\n",
      "   BoundaryOperators[1] : \n",
      "   BoundaryOperators[2] : \n",
      "\n",
      "\n"
     ]
    },
    {
     "name": "stderr",
     "output_type": "stream",
     "text": [
      "\u001b[36m\u001b[1m[ \u001b[22m\u001b[39m\u001b[36m\u001b[1mInfo: \u001b[22m\u001b[39mSetting up uniform grid \n"
     ]
    }
   ],
   "source": [
    "run_dg_navier_stokes()"
   ]
  },
  {
   "cell_type": "code",
   "execution_count": null,
   "id": "808a14c4",
   "metadata": {},
   "outputs": [],
   "source": []
  }
 ],
 "metadata": {
  "kernelspec": {
   "display_name": "Julia 1.7.3",
   "language": "julia",
   "name": "julia-1.7"
  },
  "language_info": {
   "file_extension": ".jl",
   "mimetype": "application/julia",
   "name": "julia",
   "version": "1.7.3"
  }
 },
 "nbformat": 4,
 "nbformat_minor": 5
}
