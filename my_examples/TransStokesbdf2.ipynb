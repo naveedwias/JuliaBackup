{
 "cells": [
  {
   "cell_type": "code",
   "execution_count": 1,
   "metadata": {},
   "outputs": [
    {
     "data": {
      "text/plain": [
       "get_flow_data (generic function with 1 method)"
      ]
     },
     "metadata": {},
     "output_type": "display_data"
    }
   ],
   "source": [
    "using GradientRobustMultiPhysics\n",
    "using ExtendableGrids\n",
    "using GridVisualize\n",
    "using ExtendableSparse\n",
    "using Printf\n",
    "include(\"../src/flowdata.jl\")"
   ]
  },
  {
   "attachments": {},
   "cell_type": "markdown",
   "metadata": {},
   "source": [
    "## Transien Stokes\n",
    "The idea is to implement the adaptive time step for the transient Stokes case. The weak and discrete form should be detailed later"
   ]
  },
  {
   "cell_type": "code",
   "execution_count": 41,
   "metadata": {},
   "outputs": [
    {
     "data": {
      "text/plain": [
       "run_main (generic function with 1 method)"
      ]
     },
     "metadata": {},
     "output_type": "display_data"
    }
   ],
   "source": [
    "function run_main(; scheme=1, ν=1, nlev=1, nsteps=10)\n",
    "  xgrid = get_grid(2)\n",
    "  #get_problemdata(problem; Re = 1, nonlinear = true, )\n",
    "  u, p, f, u_t= get_flow_data(ν)\n",
    "  ## choose one of these (inf-sup stable) finite element type pairs\n",
    "  FETypes = [H1P2{2,2}, H1P1{1}] # Taylor-Hood elements\n",
    "  # generate FE spaces\n",
    "  FES = [FESpace{FETypes[1]}(xgrid), FESpace{FETypes[2]}(xgrid)]\n",
    "  # solution vector\n",
    "  Solution = FEVector([\"u_h\", \"p_h\"], FES)\n",
    "  # dofs \n",
    "  ndofu = FES[1].ndofs\n",
    "  ndofp = FES[2].ndofs\n",
    "  # initial solution\n",
    "  GradientRobustMultiPhysics.interpolate!(Solution[1], u; time = 0.)\n",
    "\n",
    "  # mass matrix \n",
    "  M = FEMatrix{Float64}(FES)\n",
    "  assemble_operator!(M[1,1], BilinearForm([Identity, Identity]))\n",
    "  # velocity pressure matrices\n",
    "  A = FEMatrix{Float64}(FES)\n",
    "  assemble_operator!(A[1,1], LaplaceOperator(ν))\n",
    "  assemble_operator!(A[1,2], LagrangeMultiplier(Divergence); At = A[2,1]) \n",
    "\n",
    "  rhs = FEVector{Float64}(FES)\n",
    "  assemble_operator!(rhs[1], LinearForm(Identity, f); time=0.0)\n",
    "  t0 = zero(Float64)\n",
    "  Tf = 1.0\n",
    "  tau = Tf/nsteps\n",
    "  nts=1\n",
    "  #------------------------------ time loop ----------------------------\n",
    "  SystemMatrix = FEMatrix(FES)\n",
    "  # @show SystemMatrix\n",
    "  SystemRHS = FEVector(FES)\n",
    "  SystemSol = FEVector(FES)\n",
    "  V1 = zeros(Float64, ndofu, 1)\n",
    "  while t0 < Tf-1e-10\n",
    "    t0 = t0 + tau\n",
    "    fill!(SystemRHS.entries, 0)\n",
    "    fill!(rhs.entries, 0)\n",
    "    assemble_operator!(rhs[1], LinearForm(Identity, f), time= t0 )\n",
    "    V1[:, 1] = rhs[1][:]\n",
    "    fill!(SystemMatrix.entries.cscmatrix.nzval, 0)\n",
    "    fill!(A.entries.cscmatrix.nzval, 0)\n",
    "    if nts == 1\n",
    "      if scheme == 2\n",
    "        @info(\"First step with BDF1\")\n",
    "      end\n",
    "      fill!(A[1,1], 0)\n",
    "      assemble_operator!(A[1, 1], LaplaceOperator(ν); time= t0 )\n",
    "      addblock!(SystemMatrix[1, 1], M[1, 1]; factor= 1.0/tau)\n",
    "      #addblock!(SystemMatrix[2, 2], M[1, 1]; factor= 1.0/tau)\n",
    "      addblock!(SystemMatrix[1,1], A[1, 1]; factor= 1.0)\n",
    "      # addblock!(SystemMatrix[2,2], A[1, 1]; factor= 1.0)\n",
    "      addblock!(SystemMatrix[1,2], A[1, 2]; factor= 1.0)\n",
    "      addblock!(SystemMatrix[2,1], A[2, 1]; factor= 1.0)\n",
    "    end\n",
    "    l2 = 0.0\n",
    "    @printf(\"it:%d: [%.5f, %.5e, %5.5e]\\n\", nts, t0, l2, l2)\n",
    "  end\n",
    "end"
   ]
  },
  {
   "cell_type": "code",
   "execution_count": 42,
   "metadata": {},
   "outputs": [
    {
     "name": "stdout",
     "output_type": "stream",
     "text": [
      "it:1: [0.10000, 0.00000e+00, 0.00000e+00]\n",
      "it:1: [0.20000, 0.00000e+00, 0.00000e+00]\n",
      "it:1: [0.30000, 0.00000e+00, 0.00000e+00]\n",
      "it:1: [0.40000, 0.00000e+00, 0.00000e+00]\n",
      "it:1: [0.50000, 0.00000e+00, 0.00000e+00]\n",
      "it:1: [0.60000, 0.00000e+00, 0.00000e+00]\n",
      "it:1: [0.70000, 0.00000e+00, 0.00000e+00]\n",
      "it:1: [0.80000, 0.00000e+00, 0.00000e+00]\n",
      "it:1: [0.90000, 0.00000e+00, 0.00000e+00]\n",
      "it:1: [1.00000, 0.00000e+00, 0.00000e+00]\n"
     ]
    },
    {
     "name": "stderr",
     "output_type": "stream",
     "text": [
      "┌ Info: Setting up uniform grid \n",
      "└ @ Main /home/ahmed/OneDrive/ResearchWork/codes/JuliaFE_Julia23/src/flowdata.jl:11\n"
     ]
    }
   ],
   "source": [
    "run_main()"
   ]
  },
  {
   "cell_type": "code",
   "execution_count": null,
   "metadata": {},
   "outputs": [],
   "source": []
  },
  {
   "cell_type": "code",
   "execution_count": null,
   "metadata": {},
   "outputs": [],
   "source": []
  }
 ],
 "metadata": {
  "kernelspec": {
   "display_name": "Julia 1.7.3",
   "language": "julia",
   "name": "julia-1.7"
  },
  "language_info": {
   "file_extension": ".jl",
   "mimetype": "application/julia",
   "name": "julia",
   "version": "1.7.3"
  },
  "orig_nbformat": 4
 },
 "nbformat": 4,
 "nbformat_minor": 2
}
