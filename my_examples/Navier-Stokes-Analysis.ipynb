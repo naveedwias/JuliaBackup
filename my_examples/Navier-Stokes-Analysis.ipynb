{
 "cells": [
  {
   "cell_type": "markdown",
   "id": "65b129e6",
   "metadata": {},
   "source": [
    "$$\n",
    "b(\\hat{u}_h^n, e_h^{n+1}-\\hat{e}_h^n,e_h^{n+1}) = (\\hat{u}_h^n\\cdot \\nabla( e_h^{n+1}-\\hat{e}_h^n),e_h^{n+1})\\le \\|\\hat{u}_h^n\\|_\\infty \\|\\nabla(e_h^{n+1}-\\hat{e}_h^n)\\|_0\\|e_h^{n+1}\\|_0\n",
    "$$\n",
    "\n",
    "$$\n",
    "\\|\\nabla(e_h^{n+1}-\\hat{e}_h^n)\\|_0 \\le c_{inv} h^{-1} \\|e_h^{n+1}-\\hat{e}_h^n\\|_0\n",
    "$$"
   ]
  },
  {
   "cell_type": "markdown",
   "id": "4c65d667",
   "metadata": {},
   "source": [
    "### Weak form\n",
    "\n",
    "\\begin{align*}\n",
    "(u',v) + a(u,v) + c(u, u, v) + b(p, v) + b(q,u) = (f,v)\n",
    "\\end{align*}\n",
    "\n",
    "Let $V_h$ denote the space of continuous finite element functions of polynomial\n",
    "degree less than or equal to $p$:\n",
    "\n",
    "$$\n",
    "V_h := \\Big\\{v\\in H^1(\\Omega): v \\in \\mathcal{P}(T), \\forall T\\in \\mathcal{T}_h\\Big\\}\n",
    "$$\n",
    "\n",
    "We also consider the space with homogenuous boundary conditions $\\tilde{V}_h=H^1_0(\\Omega)\\cap V_h$. We let $\\pi_h$ be the $L^2$ projection onto $\\tilde{V}_h$ given by\n",
    "\n",
    "$$\n",
    "(\\pi_hw, v)=(w, v)_\\Omega \\qquad \\forall \\tilde{V}_h\n",
    "$$\n",
    "\n"
   ]
  },
  {
   "cell_type": "markdown",
   "id": "15b3cfeb",
   "metadata": {},
   "source": [
    "Let $\\pi_h$ be the $L^2$ projection onto $V_h$ given by\n",
    "$$\n",
    "(\\pi_h w, v_h) = (w, v_h)\\qquad \\forall v_h\\in V_h.\n",
    "$$\n",
    "\n",
    "Consider the piecewise constant space \n",
    "\n",
    "$$\n",
    "W_h := \\Big\\{ v\\in L^2(\\Omega): v\\in \\mathcal{P}_0(T), \\forall T\\in \\mathcal{T}_h \\Big\\}\n",
    "$$\n",
    "\n",
    "and dfine the $L^2$ orthogonal projection $P_0: L^2(\\Omega)\\rightarrow W_h$ by \n",
    "$$\n",
    "(P_0w,v)=(w,v) \\quad \\forall v_h\\in W_h\n",
    "$$"
   ]
  },
  {
   "cell_type": "markdown",
   "id": "4c757d32",
   "metadata": {},
   "source": [
    "## BDF2 scheme\n",
    "Find $(u_h^{n+1},p_h^{n+1}) \\in (V_h,Q_h)$ such that\n",
    "\\begin{align*}\n",
    "(D_\\tau u_h^{n+1},v_h) + a(u_h^{n+1},v_h) + b(p_h^{n+1},v_h) +b(q_h,u_h^{n+1}) + c( \\tilde{u}_h^{n+1},\\tilde{u}_h^{n+1},v_h) = L^{n+1}(v_h)\n",
    "\\end{align*}"
   ]
  }
 ],
 "metadata": {
  "kernelspec": {
   "display_name": "Julia 1.8.5",
   "language": "julia",
   "name": "julia-1.8"
  },
  "language_info": {
   "file_extension": ".jl",
   "mimetype": "application/julia",
   "name": "julia",
   "version": "1.8.5"
  }
 },
 "nbformat": 4,
 "nbformat_minor": 5
}
