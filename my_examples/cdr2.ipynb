{
 "cells": [
  {
   "cell_type": "markdown",
   "metadata": {},
   "source": [
    "Steady-state convection-diffusion equation\n",
    "\\begin{align*}\n",
    "        -\\nu \\Delta u + {\\bf \\beta} \\cdot \\nabla u + \\alpha u&= f, \\quad \\text{in } \\Omega \\\\\n",
    "u&=u^b \\quad \\text{on } \\Gamma_D \n",
    "\\end{align*}"
   ]
  },
  {
   "cell_type": "markdown",
   "metadata": {},
   "source": [
    "$$\n",
    "        \\nu (\\nabla u, \\nabla v) + ({\\bf \\beta}\\cdot \\nabla u, v) + \\alpha(u,v)= (f,v)\\\\\n",
    "        \\nu \\left(\\frac{\\partial u}{\\partial x},\\frac{\\partial u}{\\partial x}\\right) \n",
    "$$"
   ]
  },
  {
   "cell_type": "code",
   "execution_count": 1,
   "metadata": {},
   "outputs": [],
   "source": [
    "using LinearAlgebra\n",
    "using GradientRobustMultiPhysics\n",
    "using ExtendableGrids\n",
    "using GridVisualize\n",
    "using ExtendableSparse\n",
    "using SparseArrays"
   ]
  },
  {
   "cell_type": "markdown",
   "metadata": {},
   "source": [
    "Consider the smooth solution \n",
    "$$\n",
    "u(x,y) := xy(x-1)(y-1) + x\n",
    "$$"
   ]
  },
  {
   "cell_type": "code",
   "execution_count": 3,
   "metadata": {},
   "outputs": [
    {
     "data": {
      "text/plain": [
       "get_problem_data (generic function with 1 method)"
      ]
     },
     "execution_count": 3,
     "metadata": {},
     "output_type": "execute_result"
    }
   ],
   "source": [
    "function get_problem_data(ν)\n",
    "    α = DataFunction([0.1]; name = \"α\")\n",
    "    β = DataFunction([1, 0]; name = \"β\")\n",
    "    function exact_u!(result,x)\n",
    "        result[1] = x[1]*x[2]*(x[1]-1)*(x[2]-1) + x[1]\n",
    "    end\n",
    "    u = DataFunction(exact_u!, [1,2]; name = \"u\", dependencies = \"X\", bonus_quadorder = 4)\n",
    "    ∇u = eval_∇(u) # handler for easy eval of AD jacobian\n",
    "    Δu = eval_Δ(u) # handler for easy eval of AD Laplacian\n",
    "    function rhs!(result, x) # computes -νΔu + β⋅∇u + αu\n",
    "        result[1] = -ν*Δu(x)[1] + dot(β(), ∇u(x)) + dot(α(), u(x))\n",
    "        return nothing\n",
    "    end    \n",
    "    f = DataFunction(rhs!, [1,2]; name = \"f\", dependencies = \"X\", bonus_quadorder = 3)\n",
    "    return α, β, u, ∇(u), f\n",
    "end"
   ]
  },
  {
   "cell_type": "code",
   "execution_count": 4,
   "metadata": {},
   "outputs": [
    {
     "data": {
      "text/plain": [
       "ReactionConvectionDiffusionOperator (generic function with 1 method)"
      ]
     },
     "execution_count": 4,
     "metadata": {},
     "output_type": "execute_result"
    }
   ],
   "source": [
    "## custom bilinearform that can assemble the full PDE operator\n",
    "function ReactionConvectionDiffusionOperator(α, β, ν)\n",
    "    function action_kernel!(result, input)\n",
    "        ## input = [u,∇u] as a vector of length 3\n",
    "        result[1] = α()[1] * input[1] + dot(β(), view(input, 2:3))\n",
    "        result[2] = ν * input[2]\n",
    "        result[3] = ν * input[3]\n",
    "        ## result will be multiplied with [v,∇v]\n",
    "        return nothing\n",
    "    end\n",
    "    action = Action(action_kernel!, [3,3]; bonus_quadorder = max(α.bonus_quadorder,β.bonus_quadorder))\n",
    "    return BilinearForm([OperatorPair{Identity,Gradient},OperatorPair{Identity,Gradient}], action; \n",
    "        name = \"ν(∇u,∇v) + (αu + β⋅∇u, v)\", transposed_assembly = true)\n",
    "end"
   ]
  },
  {
   "cell_type": "code",
   "execution_count": 5,
   "metadata": {},
   "outputs": [
    {
     "data": {
      "text/plain": [
       "run_main (generic function with 1 method)"
      ]
     },
     "execution_count": 5,
     "metadata": {},
     "output_type": "execute_result"
    }
   ],
   "source": [
    "function run_main(; ν=1e-5, nlevels=3)\n",
    "    # load initial mesh\n",
    "    xgrid = grid_unitsquare(Triangle2D)\n",
    "    # problem data\n",
    "    α, β, u, ∇u, f = get_problem_data(ν)\n",
    "    FEType = H1Pk{1,2,1}\n",
    "    \n",
    "    xgrid = uniform_refine(xgrid, nlevels)\n",
    "    FES = FESpace{FEType}(xgrid)\n",
    "    # solution vector\n",
    "    Solution = FEVector(\"u_h\", FES)\n",
    "    \n",
    "    dt = Array{BoundaryData,1}(undef,0)\n",
    "    push!(dt,BoundaryData(BestapproxDirichletBoundary; regions = [1,2,3,4], data=u))\n",
    "    dofs = boundarydata!(Solution[1], dt)\n",
    "    \n",
    "    ## stiffness matrix\n",
    "    A = FEMatrix{Float64}(FES)\n",
    "    assemble_operator!(A[1,1], ReactionConvectionDiffusionOperator(α, β, ν))\n",
    "    # @show A.entries\n",
    "    rhs = FEVector{Float64}(FES)\n",
    "    assemble_operator!(rhs[1], LinearForm(Identity, f))    \n",
    "    \n",
    "    # setting dirichlet dofs\n",
    "    for dof in dofs\n",
    "        rhs[1][dof] = 1e60 * Solution[1][dof]\n",
    "        A[1,1][dof,dof] = 1e60\n",
    "    end\n",
    "    \n",
    "    flush!(A.entries)\n",
    "    Solution.entries[:] = A.entries \\ rhs.entries\n",
    "    # solve!(Solution, Problem)\n",
    "    \n",
    "    L2Error = L2ErrorIntegrator(u, Identity)\n",
    "    H1Error = L2ErrorIntegrator(∇u, Gradient)    \n",
    "    L2 = sqrt(evaluate(L2Error,Solution[1]))\n",
    "    H1 = sqrt(evaluate(H1Error,Solution[1]))\n",
    "    println(\"L2: \", L2, \" H1 \", H1)\n",
    "    println(\"done: \", FES.ndofs)\n",
    "    (L2, H1)\n",
    "end"
   ]
  },
  {
   "cell_type": "code",
   "execution_count": 6,
   "metadata": {},
   "outputs": [
    {
     "name": "stdout",
     "output_type": "stream",
     "text": [
      "L2: 0.0059754493250941945 H1 0.05890611590514802\n",
      "done: 13"
     ]
    },
    {
     "name": "stderr",
     "output_type": "stream",
     "text": [
      "\u001b[33m\u001b[1m┌ \u001b[22m\u001b[39m\u001b[33m\u001b[1mWarning: \u001b[22m\u001b[39m 21830550 allocations during ITEMTYPE_BFACE volume calculation\n",
      "\u001b[33m\u001b[1m└ \u001b[22m\u001b[39m\u001b[90m@ ExtendableGrids C:\\Users\\LENOVO\\.julia\\packages\\ExtendableGrids\\XFxI3\\src\\derived.jl:937\u001b[39m\n"
     ]
    },
    {
     "name": "stdout",
     "output_type": "stream",
     "text": [
      "\n",
      "L2: 0.001680689116768702 H1 0.03173848374231691\n",
      "done: 41\n",
      "L2: 0.00043668119143605404 H1 0.01621387682749804\n",
      "done: 145\n",
      "L2: 0.00011063873110432883 H1 0.008158844428256698\n",
      "done: 545\n"
     ]
    },
    {
     "data": {
      "text/plain": [
       "(Any[0.0059754493250941945, 0.001680689116768702, 0.00043668119143605404, 0.00011063873110432883], Any[0.05890611590514802, 0.03173848374231691, 0.01621387682749804, 0.008158844428256698])"
      ]
     },
     "execution_count": 6,
     "metadata": {},
     "output_type": "execute_result"
    }
   ],
   "source": [
    "function convergence_test(ns)\n",
    "    H1=[]; L2=[]\n",
    "    for n = 1 : ns\n",
    "        l2, h1 = run_main(ν=1e-0, nlevels=n)\n",
    "        push!(H1, h1)\n",
    "        push!(L2, l2)\n",
    "    end\n",
    "    (L2, H1)\n",
    "end\n",
    "\n",
    "L2, H1 = convergence_test(4)"
   ]
  },
  {
   "cell_type": "code",
   "execution_count": 7,
   "metadata": {},
   "outputs": [
    {
     "name": "stdout",
     "output_type": "stream",
     "text": [
      "L2uAny[0.0059754493250941945, 0.001680689116768702, 0.00043668119143605404, 0.00011063873110432883]\n",
      "L2pAny[0.05890611590514802, 0.03173848374231691, 0.01621387682749804, 0.008158844428256698]\n"
     ]
    },
    {
     "data": {
      "image/svg+xml": [
       "<?xml version=\"1.0\" encoding=\"utf-8\"?>\n",
       "<svg xmlns=\"http://www.w3.org/2000/svg\" xmlns:xlink=\"http://www.w3.org/1999/xlink\" width=\"600\" height=\"400\" viewBox=\"0 0 2400 1600\">\n",
       "<defs>\n",
       "  <clipPath id=\"clip240\">\n",
       "    <rect x=\"0\" y=\"0\" width=\"2400\" height=\"1600\"/>\n",
       "  </clipPath>\n",
       "</defs>\n",
       "<path clip-path=\"url(#clip240)\" d=\"M0 1600 L2400 1600 L2400 0 L0 0  Z\" fill=\"#ffffff\" fill-rule=\"evenodd\" fill-opacity=\"1\"/>\n",
       "<defs>\n",
       "  <clipPath id=\"clip241\">\n",
       "    <rect x=\"480\" y=\"0\" width=\"1681\" height=\"1600\"/>\n",
       "  </clipPath>\n",
       "</defs>\n",
       "<path clip-path=\"url(#clip240)\" d=\"M252.764 1423.18 L2352.76 1423.18 L2352.76 47.2441 L252.764 47.2441  Z\" fill=\"#ffffff\" fill-rule=\"evenodd\" fill-opacity=\"1\"/>\n",
       "<defs>\n",
       "  <clipPath id=\"clip242\">\n",
       "    <rect x=\"252\" y=\"47\" width=\"2101\" height=\"1377\"/>\n",
       "  </clipPath>\n",
       "</defs>\n",
       "<polyline clip-path=\"url(#clip242)\" style=\"stroke:#000000; stroke-linecap:round; stroke-linejoin:round; stroke-width:2; stroke-opacity:0.1; fill:none\" points=\"312.198,1423.18 312.198,47.2441 \"/>\n",
       "<polyline clip-path=\"url(#clip242)\" style=\"stroke:#000000; stroke-linecap:round; stroke-linejoin:round; stroke-width:2; stroke-opacity:0.1; fill:none\" points=\"972.573,1423.18 972.573,47.2441 \"/>\n",
       "<polyline clip-path=\"url(#clip242)\" style=\"stroke:#000000; stroke-linecap:round; stroke-linejoin:round; stroke-width:2; stroke-opacity:0.1; fill:none\" points=\"1632.95,1423.18 1632.95,47.2441 \"/>\n",
       "<polyline clip-path=\"url(#clip242)\" style=\"stroke:#000000; stroke-linecap:round; stroke-linejoin:round; stroke-width:2; stroke-opacity:0.1; fill:none\" points=\"2293.32,1423.18 2293.32,47.2441 \"/>\n",
       "<polyline clip-path=\"url(#clip240)\" style=\"stroke:#000000; stroke-linecap:round; stroke-linejoin:round; stroke-width:4; stroke-opacity:1; fill:none\" points=\"252.764,1423.18 2352.76,1423.18 \"/>\n",
       "<polyline clip-path=\"url(#clip240)\" style=\"stroke:#000000; stroke-linecap:round; stroke-linejoin:round; stroke-width:4; stroke-opacity:1; fill:none\" points=\"312.198,1423.18 312.198,1404.28 \"/>\n",
       "<polyline clip-path=\"url(#clip240)\" style=\"stroke:#000000; stroke-linecap:round; stroke-linejoin:round; stroke-width:4; stroke-opacity:1; fill:none\" points=\"972.573,1423.18 972.573,1404.28 \"/>\n",
       "<polyline clip-path=\"url(#clip240)\" style=\"stroke:#000000; stroke-linecap:round; stroke-linejoin:round; stroke-width:4; stroke-opacity:1; fill:none\" points=\"1632.95,1423.18 1632.95,1404.28 \"/>\n",
       "<polyline clip-path=\"url(#clip240)\" style=\"stroke:#000000; stroke-linecap:round; stroke-linejoin:round; stroke-width:4; stroke-opacity:1; fill:none\" points=\"2293.32,1423.18 2293.32,1404.28 \"/>\n",
       "<path clip-path=\"url(#clip240)\" d=\"M302.58 1481.64 L310.219 1481.64 L310.219 1455.28 L301.908 1456.95 L301.908 1452.69 L310.172 1451.02 L314.848 1451.02 L314.848 1481.64 L322.487 1481.64 L322.487 1485.58 L302.58 1485.58 L302.58 1481.64 Z\" fill=\"#000000\" fill-rule=\"evenodd\" fill-opacity=\"1\" /><path clip-path=\"url(#clip240)\" d=\"M967.225 1481.64 L983.545 1481.64 L983.545 1485.58 L961.6 1485.58 L961.6 1481.64 Q964.262 1478.89 968.846 1474.26 Q973.452 1469.61 974.633 1468.27 Q976.878 1465.74 977.758 1464.01 Q978.66 1462.25 978.66 1460.56 Q978.66 1457.8 976.716 1456.07 Q974.795 1454.33 971.693 1454.33 Q969.494 1454.33 967.04 1455.09 Q964.61 1455.86 961.832 1457.41 L961.832 1452.69 Q964.656 1451.55 967.11 1450.97 Q969.563 1450.39 971.6 1450.39 Q976.971 1450.39 980.165 1453.08 Q983.359 1455.77 983.359 1460.26 Q983.359 1462.39 982.549 1464.31 Q981.762 1466.2 979.656 1468.8 Q979.077 1469.47 975.975 1472.69 Q972.873 1475.88 967.225 1481.64 Z\" fill=\"#000000\" fill-rule=\"evenodd\" fill-opacity=\"1\" /><path clip-path=\"url(#clip240)\" d=\"M1637.2 1466.95 Q1640.55 1467.66 1642.43 1469.93 Q1644.32 1472.2 1644.32 1475.53 Q1644.32 1480.65 1640.81 1483.45 Q1637.29 1486.25 1630.81 1486.25 Q1628.63 1486.25 1626.32 1485.81 Q1624.02 1485.39 1621.57 1484.54 L1621.57 1480.02 Q1623.51 1481.16 1625.83 1481.74 Q1628.14 1482.32 1630.67 1482.32 Q1635.07 1482.32 1637.36 1480.58 Q1639.67 1478.84 1639.67 1475.53 Q1639.67 1472.48 1637.52 1470.77 Q1635.39 1469.03 1631.57 1469.03 L1627.54 1469.03 L1627.54 1465.19 L1631.76 1465.19 Q1635.2 1465.19 1637.03 1463.82 Q1638.86 1462.43 1638.86 1459.84 Q1638.86 1457.18 1636.96 1455.77 Q1635.09 1454.33 1631.57 1454.33 Q1629.65 1454.33 1627.45 1454.75 Q1625.25 1455.16 1622.61 1456.04 L1622.61 1451.88 Q1625.27 1451.14 1627.59 1450.77 Q1629.93 1450.39 1631.99 1450.39 Q1637.31 1450.39 1640.41 1452.83 Q1643.51 1455.23 1643.51 1459.35 Q1643.51 1462.22 1641.87 1464.21 Q1640.23 1466.18 1637.2 1466.95 Z\" fill=\"#000000\" fill-rule=\"evenodd\" fill-opacity=\"1\" /><path clip-path=\"url(#clip240)\" d=\"M2296.33 1455.09 L2284.53 1473.54 L2296.33 1473.54 L2296.33 1455.09 M2295.1 1451.02 L2300.98 1451.02 L2300.98 1473.54 L2305.91 1473.54 L2305.91 1477.43 L2300.98 1477.43 L2300.98 1485.58 L2296.33 1485.58 L2296.33 1477.43 L2280.73 1477.43 L2280.73 1472.92 L2295.1 1451.02 Z\" fill=\"#000000\" fill-rule=\"evenodd\" fill-opacity=\"1\" /><path clip-path=\"url(#clip240)\" d=\"M1317.69 1546.53 L1317.69 1568.04 L1311.83 1568.04 L1311.83 1546.72 Q1311.83 1541.66 1309.86 1539.14 Q1307.88 1536.63 1303.94 1536.63 Q1299.2 1536.63 1296.46 1539.65 Q1293.72 1542.68 1293.72 1547.9 L1293.72 1568.04 L1287.83 1568.04 L1287.83 1518.52 L1293.72 1518.52 L1293.72 1537.93 Q1295.82 1534.72 1298.65 1533.13 Q1301.52 1531.54 1305.24 1531.54 Q1311.39 1531.54 1314.54 1535.36 Q1317.69 1539.14 1317.69 1546.53 Z\" fill=\"#000000\" fill-rule=\"evenodd\" fill-opacity=\"1\" /><polyline clip-path=\"url(#clip242)\" style=\"stroke:#000000; stroke-linecap:round; stroke-linejoin:round; stroke-width:2; stroke-opacity:0.1; fill:none\" points=\"252.764,1405.14 2352.76,1405.14 \"/>\n",
       "<polyline clip-path=\"url(#clip242)\" style=\"stroke:#000000; stroke-linecap:round; stroke-linejoin:round; stroke-width:2; stroke-opacity:0.1; fill:none\" points=\"252.764,929.013 2352.76,929.013 \"/>\n",
       "<polyline clip-path=\"url(#clip242)\" style=\"stroke:#000000; stroke-linecap:round; stroke-linejoin:round; stroke-width:2; stroke-opacity:0.1; fill:none\" points=\"252.764,452.883 2352.76,452.883 \"/>\n",
       "<polyline clip-path=\"url(#clip240)\" style=\"stroke:#000000; stroke-linecap:round; stroke-linejoin:round; stroke-width:4; stroke-opacity:1; fill:none\" points=\"252.764,1423.18 252.764,47.2441 \"/>\n",
       "<polyline clip-path=\"url(#clip240)\" style=\"stroke:#000000; stroke-linecap:round; stroke-linejoin:round; stroke-width:4; stroke-opacity:1; fill:none\" points=\"252.764,1405.14 271.662,1405.14 \"/>\n",
       "<polyline clip-path=\"url(#clip240)\" style=\"stroke:#000000; stroke-linecap:round; stroke-linejoin:round; stroke-width:4; stroke-opacity:1; fill:none\" points=\"252.764,929.013 271.662,929.013 \"/>\n",
       "<polyline clip-path=\"url(#clip240)\" style=\"stroke:#000000; stroke-linecap:round; stroke-linejoin:round; stroke-width:4; stroke-opacity:1; fill:none\" points=\"252.764,452.883 271.662,452.883 \"/>\n",
       "<path clip-path=\"url(#clip240)\" d=\"M114.931 1424.94 L122.57 1424.94 L122.57 1398.57 L114.26 1400.24 L114.26 1395.98 L122.524 1394.31 L127.2 1394.31 L127.2 1424.94 L134.839 1424.94 L134.839 1428.87 L114.931 1428.87 L114.931 1424.94 Z\" fill=\"#000000\" fill-rule=\"evenodd\" fill-opacity=\"1\" /><path clip-path=\"url(#clip240)\" d=\"M154.283 1397.39 Q150.672 1397.39 148.843 1400.95 Q147.038 1404.5 147.038 1411.63 Q147.038 1418.73 148.843 1422.3 Q150.672 1425.84 154.283 1425.84 Q157.917 1425.84 159.723 1422.3 Q161.552 1418.73 161.552 1411.63 Q161.552 1404.5 159.723 1400.95 Q157.917 1397.39 154.283 1397.39 M154.283 1393.69 Q160.093 1393.69 163.149 1398.29 Q166.227 1402.88 166.227 1411.63 Q166.227 1420.35 163.149 1424.96 Q160.093 1429.54 154.283 1429.54 Q148.473 1429.54 145.394 1424.96 Q142.339 1420.35 142.339 1411.63 Q142.339 1402.88 145.394 1398.29 Q148.473 1393.69 154.283 1393.69 Z\" fill=\"#000000\" fill-rule=\"evenodd\" fill-opacity=\"1\" /><path clip-path=\"url(#clip240)\" d=\"M166.227 1387.79 L190.339 1387.79 L190.339 1390.99 L166.227 1390.99 L166.227 1387.79 Z\" fill=\"#000000\" fill-rule=\"evenodd\" fill-opacity=\"1\" /><path clip-path=\"url(#clip240)\" d=\"M208.978 1376.69 L199.386 1391.68 L208.978 1391.68 L208.978 1376.69 M207.981 1373.38 L212.758 1373.38 L212.758 1391.68 L216.764 1391.68 L216.764 1394.84 L212.758 1394.84 L212.758 1401.46 L208.978 1401.46 L208.978 1394.84 L196.301 1394.84 L196.301 1391.17 L207.981 1373.38 Z\" fill=\"#000000\" fill-rule=\"evenodd\" fill-opacity=\"1\" /><path clip-path=\"url(#clip240)\" d=\"M115.853 948.806 L123.492 948.806 L123.492 922.44 L115.182 924.107 L115.182 919.847 L123.446 918.181 L128.121 918.181 L128.121 948.806 L135.76 948.806 L135.76 952.741 L115.853 952.741 L115.853 948.806 Z\" fill=\"#000000\" fill-rule=\"evenodd\" fill-opacity=\"1\" /><path clip-path=\"url(#clip240)\" d=\"M155.205 921.259 Q151.594 921.259 149.765 924.824 Q147.959 928.366 147.959 935.496 Q147.959 942.602 149.765 946.167 Q151.594 949.708 155.205 949.708 Q158.839 949.708 160.644 946.167 Q162.473 942.602 162.473 935.496 Q162.473 928.366 160.644 924.824 Q158.839 921.259 155.205 921.259 M155.205 917.556 Q161.015 917.556 164.07 922.162 Q167.149 926.746 167.149 935.496 Q167.149 944.222 164.07 948.829 Q161.015 953.412 155.205 953.412 Q149.395 953.412 146.316 948.829 Q143.26 944.222 143.26 935.496 Q143.26 926.746 146.316 922.162 Q149.395 917.556 155.205 917.556 Z\" fill=\"#000000\" fill-rule=\"evenodd\" fill-opacity=\"1\" /><path clip-path=\"url(#clip240)\" d=\"M167.149 911.657 L191.261 911.657 L191.261 914.854 L167.149 914.854 L167.149 911.657 Z\" fill=\"#000000\" fill-rule=\"evenodd\" fill-opacity=\"1\" /><path clip-path=\"url(#clip240)\" d=\"M210.971 910.19 Q213.698 910.773 215.222 912.616 Q216.764 914.46 216.764 917.168 Q216.764 921.324 213.905 923.6 Q211.046 925.876 205.78 925.876 Q204.012 925.876 202.132 925.518 Q200.27 925.18 198.276 924.484 L198.276 920.817 Q199.856 921.738 201.737 922.208 Q203.617 922.679 205.667 922.679 Q209.241 922.679 211.103 921.268 Q212.984 919.857 212.984 917.168 Q212.984 914.685 211.234 913.293 Q209.504 911.883 206.401 911.883 L203.128 911.883 L203.128 908.761 L206.551 908.761 Q209.354 908.761 210.84 907.651 Q212.325 906.523 212.325 904.416 Q212.325 902.253 210.783 901.106 Q209.26 899.94 206.401 899.94 Q204.84 899.94 203.053 900.278 Q201.266 900.617 199.122 901.332 L199.122 897.946 Q201.285 897.344 203.166 897.044 Q205.066 896.743 206.739 896.743 Q211.065 896.743 213.585 898.717 Q216.106 900.673 216.106 904.021 Q216.106 906.353 214.77 907.971 Q213.435 909.57 210.971 910.19 Z\" fill=\"#000000\" fill-rule=\"evenodd\" fill-opacity=\"1\" /><path clip-path=\"url(#clip240)\" d=\"M116.624 472.675 L124.263 472.675 L124.263 446.309 L115.953 447.976 L115.953 443.717 L124.217 442.05 L128.893 442.05 L128.893 472.675 L136.531 472.675 L136.531 476.61 L116.624 476.61 L116.624 472.675 Z\" fill=\"#000000\" fill-rule=\"evenodd\" fill-opacity=\"1\" /><path clip-path=\"url(#clip240)\" d=\"M155.976 445.129 Q152.365 445.129 150.536 448.694 Q148.73 452.235 148.73 459.365 Q148.73 466.471 150.536 470.036 Q152.365 473.578 155.976 473.578 Q159.61 473.578 161.416 470.036 Q163.244 466.471 163.244 459.365 Q163.244 452.235 161.416 448.694 Q159.61 445.129 155.976 445.129 M155.976 441.425 Q161.786 441.425 164.841 446.032 Q167.92 450.615 167.92 459.365 Q167.92 468.092 164.841 472.698 Q161.786 477.281 155.976 477.281 Q150.166 477.281 147.087 472.698 Q144.031 468.092 144.031 459.365 Q144.031 450.615 147.087 446.032 Q150.166 441.425 155.976 441.425 Z\" fill=\"#000000\" fill-rule=\"evenodd\" fill-opacity=\"1\" /><path clip-path=\"url(#clip240)\" d=\"M167.92 435.527 L192.032 435.527 L192.032 438.724 L167.92 438.724 L167.92 435.527 Z\" fill=\"#000000\" fill-rule=\"evenodd\" fill-opacity=\"1\" /><path clip-path=\"url(#clip240)\" d=\"M203.504 446.002 L216.764 446.002 L216.764 449.2 L198.934 449.2 L198.934 446.002 Q201.097 443.764 204.821 440.003 Q208.564 436.222 209.523 435.132 Q211.347 433.082 212.062 431.671 Q212.796 430.242 212.796 428.869 Q212.796 426.63 211.216 425.22 Q209.655 423.809 207.134 423.809 Q205.348 423.809 203.354 424.43 Q201.379 425.051 199.122 426.311 L199.122 422.474 Q201.417 421.552 203.41 421.082 Q205.404 420.612 207.059 420.612 Q211.423 420.612 214.018 422.794 Q216.613 424.975 216.613 428.624 Q216.613 430.354 215.955 431.915 Q215.316 433.458 213.604 435.564 Q213.134 436.11 210.614 438.724 Q208.094 441.319 203.504 446.002 Z\" fill=\"#000000\" fill-rule=\"evenodd\" fill-opacity=\"1\" /><path clip-path=\"url(#clip240)\" d=\"M44.7161 872.043 L47.5806 872.043 L47.5806 898.97 Q53.6281 898.588 56.8109 895.341 Q59.9619 892.063 59.9619 886.238 Q59.9619 882.865 59.1344 879.714 Q58.3069 876.531 56.6518 873.411 L62.1899 873.411 Q63.5267 876.562 64.227 879.873 Q64.9272 883.183 64.9272 886.588 Q64.9272 895.119 59.9619 900.116 Q54.9967 905.081 46.5303 905.081 Q37.7774 905.081 32.6531 900.37 Q27.4968 895.628 27.4968 887.607 Q27.4968 880.414 32.1438 876.244 Q36.7589 872.043 44.7161 872.043 M42.9973 877.899 Q38.1912 877.963 35.3266 880.605 Q32.4621 883.215 32.4621 887.543 Q32.4621 892.445 35.2312 895.405 Q38.0002 898.333 43.0292 898.779 L42.9973 877.899 Z\" fill=\"#000000\" fill-rule=\"evenodd\" fill-opacity=\"1\" /><path clip-path=\"url(#clip240)\" d=\"M33.8307 841.774 Q33.2578 842.761 33.0032 843.938 Q32.7167 845.084 32.7167 846.485 Q32.7167 851.45 35.9632 854.123 Q39.1779 856.765 45.2253 856.765 L64.0042 856.765 L64.0042 862.653 L28.3562 862.653 L28.3562 856.765 L33.8944 856.765 Q30.6479 854.919 29.0883 851.959 Q27.4968 848.999 27.4968 844.766 Q27.4968 844.161 27.5923 843.429 Q27.656 842.697 27.8151 841.806 L33.8307 841.774 Z\" fill=\"#000000\" fill-rule=\"evenodd\" fill-opacity=\"1\" /><path clip-path=\"url(#clip240)\" d=\"M33.8307 816.12 Q33.2578 817.107 33.0032 818.284 Q32.7167 819.43 32.7167 820.831 Q32.7167 825.796 35.9632 828.47 Q39.1779 831.111 45.2253 831.111 L64.0042 831.111 L64.0042 837 L28.3562 837 L28.3562 831.111 L33.8944 831.111 Q30.6479 829.265 29.0883 826.305 Q27.4968 823.345 27.4968 819.112 Q27.4968 818.507 27.5923 817.775 Q27.656 817.043 27.8151 816.152 L33.8307 816.12 Z\" fill=\"#000000\" fill-rule=\"evenodd\" fill-opacity=\"1\" /><path clip-path=\"url(#clip240)\" d=\"M32.4621 797.596 Q32.4621 802.307 36.1542 805.044 Q39.8145 807.781 46.212 807.781 Q52.6095 807.781 56.3017 805.076 Q59.9619 802.338 59.9619 797.596 Q59.9619 792.917 56.2698 790.18 Q52.5777 787.443 46.212 787.443 Q39.8781 787.443 36.186 790.18 Q32.4621 792.917 32.4621 797.596 M27.4968 797.596 Q27.4968 789.957 32.4621 785.597 Q37.4273 781.236 46.212 781.236 Q54.9649 781.236 59.9619 785.597 Q64.9272 789.957 64.9272 797.596 Q64.9272 805.267 59.9619 809.627 Q54.9649 813.956 46.212 813.956 Q37.4273 813.956 32.4621 809.627 Q27.4968 805.267 27.4968 797.596 Z\" fill=\"#000000\" fill-rule=\"evenodd\" fill-opacity=\"1\" /><path clip-path=\"url(#clip240)\" d=\"M33.8307 750.872 Q33.2578 751.858 33.0032 753.036 Q32.7167 754.182 32.7167 755.582 Q32.7167 760.547 35.9632 763.221 Q39.1779 765.863 45.2253 765.863 L64.0042 765.863 L64.0042 771.751 L28.3562 771.751 L28.3562 765.863 L33.8944 765.863 Q30.6479 764.017 29.0883 761.057 Q27.4968 758.097 27.4968 753.863 Q27.4968 753.259 27.5923 752.527 Q27.656 751.795 27.8151 750.903 L33.8307 750.872 Z\" fill=\"#000000\" fill-rule=\"evenodd\" fill-opacity=\"1\" /><path clip-path=\"url(#clip240)\" d=\"M42.4881 694.376 L64.0042 694.376 L64.0042 700.232 L42.679 700.232 Q37.6183 700.232 35.1038 702.206 Q32.5894 704.179 32.5894 708.126 Q32.5894 712.868 35.6131 715.606 Q38.6368 718.343 43.8567 718.343 L64.0042 718.343 L64.0042 724.231 L28.3562 724.231 L28.3562 718.343 L33.8944 718.343 Q30.6797 716.242 29.0883 713.409 Q27.4968 710.545 27.4968 706.821 Q27.4968 700.678 31.3163 697.527 Q35.1038 694.376 42.4881 694.376 Z\" fill=\"#000000\" fill-rule=\"evenodd\" fill-opacity=\"1\" /><path clip-path=\"url(#clip240)\" d=\"M32.4621 668.881 Q32.4621 673.592 36.1542 676.329 Q39.8145 679.066 46.212 679.066 Q52.6095 679.066 56.3017 676.361 Q59.9619 673.624 59.9619 668.881 Q59.9619 664.203 56.2698 661.465 Q52.5777 658.728 46.212 658.728 Q39.8781 658.728 36.186 661.465 Q32.4621 664.203 32.4621 668.881 M27.4968 668.881 Q27.4968 661.242 32.4621 656.882 Q37.4273 652.521 46.212 652.521 Q54.9649 652.521 59.9619 656.882 Q64.9272 661.242 64.9272 668.881 Q64.9272 676.552 59.9619 680.912 Q54.9649 685.241 46.212 685.241 Q37.4273 685.241 32.4621 680.912 Q27.4968 676.552 27.4968 668.881 Z\" fill=\"#000000\" fill-rule=\"evenodd\" fill-opacity=\"1\" /><path clip-path=\"url(#clip240)\" d=\"M33.8307 622.157 Q33.2578 623.144 33.0032 624.321 Q32.7167 625.467 32.7167 626.868 Q32.7167 631.833 35.9632 634.506 Q39.1779 637.148 45.2253 637.148 L64.0042 637.148 L64.0042 643.037 L28.3562 643.037 L28.3562 637.148 L33.8944 637.148 Q30.6479 635.302 29.0883 632.342 Q27.4968 629.382 27.4968 625.149 Q27.4968 624.544 27.5923 623.812 Q27.656 623.08 27.8151 622.189 L33.8307 622.157 Z\" fill=\"#000000\" fill-rule=\"evenodd\" fill-opacity=\"1\" /><path clip-path=\"url(#clip240)\" d=\"M35.1993 589.405 Q31.2526 587.209 29.3747 584.154 Q27.4968 581.098 27.4968 576.961 Q27.4968 571.391 31.4117 568.367 Q35.2948 565.343 42.4881 565.343 L64.0042 565.343 L64.0042 571.231 L42.679 571.231 Q37.5546 571.231 35.072 573.046 Q32.5894 574.86 32.5894 578.584 Q32.5894 583.135 35.6131 585.777 Q38.6368 588.419 43.8567 588.419 L64.0042 588.419 L64.0042 594.307 L42.679 594.307 Q37.5228 594.307 35.072 596.121 Q32.5894 597.936 32.5894 601.723 Q32.5894 606.211 35.6449 608.853 Q38.6686 611.494 43.8567 611.494 L64.0042 611.494 L64.0042 617.383 L28.3562 617.383 L28.3562 611.494 L33.8944 611.494 Q30.616 609.489 29.0564 606.688 Q27.4968 603.887 27.4968 600.036 Q27.4968 596.153 29.4702 593.448 Q31.4436 590.71 35.1993 589.405 Z\" fill=\"#000000\" fill-rule=\"evenodd\" fill-opacity=\"1\" /><polyline clip-path=\"url(#clip242)\" style=\"stroke:#009af9; stroke-linecap:round; stroke-linejoin:round; stroke-width:4; stroke-opacity:1; fill:none\" points=\"312.198,559.359 972.573,821.652 1632.95,1100.34 2293.32,1384.24 \"/>\n",
       "<line clip-path=\"url(#clip242)\" x1=\"312.198\" y1=\"559.359\" x2=\"312.198\" y2=\"543.359\" style=\"stroke:#009af9; stroke-width:3.2; stroke-opacity:1\"/>\n",
       "<line clip-path=\"url(#clip242)\" x1=\"312.198\" y1=\"559.359\" x2=\"296.198\" y2=\"559.359\" style=\"stroke:#009af9; stroke-width:3.2; stroke-opacity:1\"/>\n",
       "<line clip-path=\"url(#clip242)\" x1=\"312.198\" y1=\"559.359\" x2=\"312.198\" y2=\"575.359\" style=\"stroke:#009af9; stroke-width:3.2; stroke-opacity:1\"/>\n",
       "<line clip-path=\"url(#clip242)\" x1=\"312.198\" y1=\"559.359\" x2=\"328.198\" y2=\"559.359\" style=\"stroke:#009af9; stroke-width:3.2; stroke-opacity:1\"/>\n",
       "<line clip-path=\"url(#clip242)\" x1=\"972.573\" y1=\"821.652\" x2=\"972.573\" y2=\"805.652\" style=\"stroke:#009af9; stroke-width:3.2; stroke-opacity:1\"/>\n",
       "<line clip-path=\"url(#clip242)\" x1=\"972.573\" y1=\"821.652\" x2=\"956.573\" y2=\"821.652\" style=\"stroke:#009af9; stroke-width:3.2; stroke-opacity:1\"/>\n",
       "<line clip-path=\"url(#clip242)\" x1=\"972.573\" y1=\"821.652\" x2=\"972.573\" y2=\"837.652\" style=\"stroke:#009af9; stroke-width:3.2; stroke-opacity:1\"/>\n",
       "<line clip-path=\"url(#clip242)\" x1=\"972.573\" y1=\"821.652\" x2=\"988.573\" y2=\"821.652\" style=\"stroke:#009af9; stroke-width:3.2; stroke-opacity:1\"/>\n",
       "<line clip-path=\"url(#clip242)\" x1=\"1632.95\" y1=\"1100.34\" x2=\"1632.95\" y2=\"1084.34\" style=\"stroke:#009af9; stroke-width:3.2; stroke-opacity:1\"/>\n",
       "<line clip-path=\"url(#clip242)\" x1=\"1632.95\" y1=\"1100.34\" x2=\"1616.95\" y2=\"1100.34\" style=\"stroke:#009af9; stroke-width:3.2; stroke-opacity:1\"/>\n",
       "<line clip-path=\"url(#clip242)\" x1=\"1632.95\" y1=\"1100.34\" x2=\"1632.95\" y2=\"1116.34\" style=\"stroke:#009af9; stroke-width:3.2; stroke-opacity:1\"/>\n",
       "<line clip-path=\"url(#clip242)\" x1=\"1632.95\" y1=\"1100.34\" x2=\"1648.95\" y2=\"1100.34\" style=\"stroke:#009af9; stroke-width:3.2; stroke-opacity:1\"/>\n",
       "<line clip-path=\"url(#clip242)\" x1=\"2293.32\" y1=\"1384.24\" x2=\"2293.32\" y2=\"1368.24\" style=\"stroke:#009af9; stroke-width:3.2; stroke-opacity:1\"/>\n",
       "<line clip-path=\"url(#clip242)\" x1=\"2293.32\" y1=\"1384.24\" x2=\"2277.32\" y2=\"1384.24\" style=\"stroke:#009af9; stroke-width:3.2; stroke-opacity:1\"/>\n",
       "<line clip-path=\"url(#clip242)\" x1=\"2293.32\" y1=\"1384.24\" x2=\"2293.32\" y2=\"1400.24\" style=\"stroke:#009af9; stroke-width:3.2; stroke-opacity:1\"/>\n",
       "<line clip-path=\"url(#clip242)\" x1=\"2293.32\" y1=\"1384.24\" x2=\"2309.32\" y2=\"1384.24\" style=\"stroke:#009af9; stroke-width:3.2; stroke-opacity:1\"/>\n",
       "<polyline clip-path=\"url(#clip242)\" style=\"stroke:#e26f46; stroke-linecap:round; stroke-linejoin:round; stroke-width:4; stroke-opacity:1; fill:none\" points=\"312.198,86.1857 972.573,214.062 1632.95,352.949 2293.32,494.959 \"/>\n",
       "<circle clip-path=\"url(#clip242)\" cx=\"312.198\" cy=\"86.1857\" r=\"14.4\" fill=\"#e26f46\" fill-rule=\"evenodd\" fill-opacity=\"1\" stroke=\"#000000\" stroke-opacity=\"1\" stroke-width=\"3.2\"/>\n",
       "<circle clip-path=\"url(#clip242)\" cx=\"972.573\" cy=\"214.062\" r=\"14.4\" fill=\"#e26f46\" fill-rule=\"evenodd\" fill-opacity=\"1\" stroke=\"#000000\" stroke-opacity=\"1\" stroke-width=\"3.2\"/>\n",
       "<circle clip-path=\"url(#clip242)\" cx=\"1632.95\" cy=\"352.949\" r=\"14.4\" fill=\"#e26f46\" fill-rule=\"evenodd\" fill-opacity=\"1\" stroke=\"#000000\" stroke-opacity=\"1\" stroke-width=\"3.2\"/>\n",
       "<circle clip-path=\"url(#clip242)\" cx=\"2293.32\" cy=\"494.959\" r=\"14.4\" fill=\"#e26f46\" fill-rule=\"evenodd\" fill-opacity=\"1\" stroke=\"#000000\" stroke-opacity=\"1\" stroke-width=\"3.2\"/>\n",
       "<path clip-path=\"url(#clip240)\" d=\"M1985.86 248.629 L2282.76 248.629 L2282.76 93.1086 L1985.86 93.1086  Z\" fill=\"#ffffff\" fill-rule=\"evenodd\" fill-opacity=\"1\"/>\n",
       "<polyline clip-path=\"url(#clip240)\" style=\"stroke:#000000; stroke-linecap:round; stroke-linejoin:round; stroke-width:4; stroke-opacity:1; fill:none\" points=\"1985.86,248.629 2282.76,248.629 2282.76,93.1086 1985.86,93.1086 1985.86,248.629 \"/>\n",
       "<polyline clip-path=\"url(#clip240)\" style=\"stroke:#009af9; stroke-linecap:round; stroke-linejoin:round; stroke-width:4; stroke-opacity:1; fill:none\" points=\"2009.19,144.949 2149.19,144.949 \"/>\n",
       "<line clip-path=\"url(#clip240)\" x1=\"2079.19\" y1=\"144.949\" x2=\"2079.19\" y2=\"123.344\" style=\"stroke:#009af9; stroke-width:5.12; stroke-opacity:1\"/>\n",
       "<line clip-path=\"url(#clip240)\" x1=\"2079.19\" y1=\"144.949\" x2=\"2057.59\" y2=\"144.949\" style=\"stroke:#009af9; stroke-width:5.12; stroke-opacity:1\"/>\n",
       "<line clip-path=\"url(#clip240)\" x1=\"2079.19\" y1=\"144.949\" x2=\"2079.19\" y2=\"166.553\" style=\"stroke:#009af9; stroke-width:5.12; stroke-opacity:1\"/>\n",
       "<line clip-path=\"url(#clip240)\" x1=\"2079.19\" y1=\"144.949\" x2=\"2100.8\" y2=\"144.949\" style=\"stroke:#009af9; stroke-width:5.12; stroke-opacity:1\"/>\n",
       "<path clip-path=\"url(#clip240)\" d=\"M2172.53 127.669 L2177.2 127.669 L2177.2 158.293 L2194.03 158.293 L2194.03 162.229 L2172.53 162.229 L2172.53 127.669 Z\" fill=\"#000000\" fill-rule=\"evenodd\" fill-opacity=\"1\" /><path clip-path=\"url(#clip240)\" d=\"M2203.38 158.293 L2219.7 158.293 L2219.7 162.229 L2197.76 162.229 L2197.76 158.293 Q2200.42 155.539 2205 150.909 Q2209.61 146.256 2210.79 144.914 Q2213.03 142.391 2213.91 140.655 Q2214.82 138.895 2214.82 137.206 Q2214.82 134.451 2212.87 132.715 Q2210.95 130.979 2207.85 130.979 Q2205.65 130.979 2203.2 131.743 Q2200.77 132.507 2197.99 134.057 L2197.99 129.335 Q2200.81 128.201 2203.27 127.622 Q2205.72 127.044 2207.76 127.044 Q2213.13 127.044 2216.32 129.729 Q2219.52 132.414 2219.52 136.905 Q2219.52 139.034 2218.71 140.956 Q2217.92 142.854 2215.81 145.446 Q2215.23 146.118 2212.13 149.335 Q2209.03 152.53 2203.38 158.293 Z\" fill=\"#000000\" fill-rule=\"evenodd\" fill-opacity=\"1\" /><path clip-path=\"url(#clip240)\" d=\"M2228.47 151.997 L2228.47 136.303 L2232.73 136.303 L2232.73 151.835 Q2232.73 155.516 2234.17 157.368 Q2235.6 159.196 2238.47 159.196 Q2241.92 159.196 2243.91 156.997 Q2245.93 154.798 2245.93 151.002 L2245.93 136.303 L2250.19 136.303 L2250.19 162.229 L2245.93 162.229 L2245.93 158.247 Q2244.38 160.608 2242.32 161.766 Q2240.28 162.9 2237.57 162.9 Q2233.1 162.9 2230.79 160.122 Q2228.47 157.344 2228.47 151.997 M2239.19 135.678 L2239.19 135.678 Z\" fill=\"#000000\" fill-rule=\"evenodd\" fill-opacity=\"1\" /><polyline clip-path=\"url(#clip240)\" style=\"stroke:#e26f46; stroke-linecap:round; stroke-linejoin:round; stroke-width:4; stroke-opacity:1; fill:none\" points=\"2009.19,196.789 2149.19,196.789 \"/>\n",
       "<circle clip-path=\"url(#clip240)\" cx=\"2079.19\" cy=\"196.789\" r=\"19.4444\" fill=\"#e26f46\" fill-rule=\"evenodd\" fill-opacity=\"1\" stroke=\"#000000\" stroke-opacity=\"1\" stroke-width=\"5.12\"/>\n",
       "<path clip-path=\"url(#clip240)\" d=\"M2172.53 179.509 L2177.2 179.509 L2177.2 193.675 L2194.19 193.675 L2194.19 179.509 L2198.87 179.509 L2198.87 214.069 L2194.19 214.069 L2194.19 197.61 L2177.2 197.61 L2177.2 214.069 L2172.53 214.069 L2172.53 179.509 Z\" fill=\"#000000\" fill-rule=\"evenodd\" fill-opacity=\"1\" /><path clip-path=\"url(#clip240)\" d=\"M2209.4 210.133 L2217.04 210.133 L2217.04 183.768 L2208.73 185.435 L2208.73 181.175 L2216.99 179.509 L2221.67 179.509 L2221.67 210.133 L2229.31 210.133 L2229.31 214.069 L2209.4 214.069 L2209.4 210.133 Z\" fill=\"#000000\" fill-rule=\"evenodd\" fill-opacity=\"1\" /><path clip-path=\"url(#clip240)\" d=\"M2237.71 203.837 L2237.71 188.143 L2241.97 188.143 L2241.97 203.675 Q2241.97 207.356 2243.4 209.208 Q2244.84 211.036 2247.71 211.036 Q2251.16 211.036 2253.15 208.837 Q2255.16 206.638 2255.16 202.842 L2255.16 188.143 L2259.42 188.143 L2259.42 214.069 L2255.16 214.069 L2255.16 210.087 Q2253.61 212.448 2251.55 213.606 Q2249.52 214.74 2246.81 214.74 Q2242.34 214.74 2240.02 211.962 Q2237.71 209.184 2237.71 203.837 M2248.43 187.518 L2248.43 187.518 Z\" fill=\"#000000\" fill-rule=\"evenodd\" fill-opacity=\"1\" /></svg>\n"
      ]
     },
     "execution_count": 7,
     "metadata": {},
     "output_type": "execute_result"
    }
   ],
   "source": [
    "using Plots\n",
    "println(\"L2u\", L2)\n",
    "println(\"L2p\", H1)\n",
    "taus = [1, 2, 3, 4]\n",
    "plot(taus,[L2 H1],\n",
    "    yaxis=:log10,\n",
    "    label=[\"L2u\" \"H1u\"],\n",
    "    shape=:auto,\n",
    "    xlabel=\"h\",ylabel=\"error norm\")"
   ]
  },
  {
   "cell_type": "code",
   "execution_count": 14,
   "metadata": {},
   "outputs": [
    {
     "name": "stdout",
     "output_type": "stream",
     "text": [
      "L2-Error is of 2nd order\n",
      "1.82999431225325\n",
      "1.9444005902937807\n",
      "1.980723877565216\n"
     ]
    }
   ],
   "source": [
    "println(\"L2-Error is of 2nd order\")\n",
    "println(log2(0.0059754493250941945/0.001680689116768702))\n",
    "println(log2(0.001680689116768702/0.00043668119143605404))\n",
    "println(log2(0.00043668119143605404/0.00011063873110432883))"
   ]
  }
 ],
 "metadata": {
  "kernelspec": {
   "display_name": "Julia 1.7.3",
   "language": "julia",
   "name": "julia-1.7"
  },
  "language_info": {
   "file_extension": ".jl",
   "mimetype": "application/julia",
   "name": "julia",
   "version": "1.7.3"
  }
 },
 "nbformat": 4,
 "nbformat_minor": 4
}
